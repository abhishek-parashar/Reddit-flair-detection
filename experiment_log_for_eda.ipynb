{
  "nbformat": 4,
  "nbformat_minor": 0,
  "metadata": {
    "colab": {
      "name": "experiment log for eda",
      "provenance": [],
      "toc_visible": true,
      "authorship_tag": "ABX9TyNDU4mU4u2EwoFufKh00JXt",
      "include_colab_link": true
    },
    "kernelspec": {
      "name": "python3",
      "display_name": "Python 3"
    }
  },
  "cells": [
    {
      "cell_type": "markdown",
      "metadata": {
        "id": "view-in-github",
        "colab_type": "text"
      },
      "source": [
        "<a href=\"https://colab.research.google.com/github/abhishek-parashar/Reddit-flair-detection/blob/master/experiment_log_for_eda.ipynb\" target=\"_parent\"><img src=\"https://colab.research.google.com/assets/colab-badge.svg\" alt=\"Open In Colab\"/></a>"
      ]
    },
    {
      "cell_type": "markdown",
      "metadata": {
        "id": "BWRC5W0ZYk5X",
        "colab_type": "text"
      },
      "source": [
        "### importing the required libraries"
      ]
    },
    {
      "cell_type": "code",
      "metadata": {
        "id": "uxc6mHosX-Yb",
        "colab_type": "code",
        "colab": {
          "base_uri": "https://localhost:8080/",
          "height": 1000
        },
        "outputId": "7be2e6c2-c1d7-41a9-eb7f-a2a0bd36cf1d"
      },
      "source": [
        "import numpy as np \n",
        "import pandas as pd \n",
        "import seaborn as sns\n",
        "import matplotlib.pyplot as plt\n",
        "import numpy as np \n",
        "import pandas as pd\n",
        "import re\n",
        "import nltk\n",
        "from nltk.corpus import stopwords\n",
        "import datetime as dt\n",
        "nltk.download('all')\n",
        "from bs4 import BeautifulSoup"
      ],
      "execution_count": 44,
      "outputs": [
        {
          "output_type": "stream",
          "text": [
            "[nltk_data] Downloading collection 'all'\n",
            "[nltk_data]    | \n",
            "[nltk_data]    | Downloading package abc to /root/nltk_data...\n",
            "[nltk_data]    |   Unzipping corpora/abc.zip.\n",
            "[nltk_data]    | Downloading package alpino to /root/nltk_data...\n",
            "[nltk_data]    |   Unzipping corpora/alpino.zip.\n",
            "[nltk_data]    | Downloading package biocreative_ppi to\n",
            "[nltk_data]    |     /root/nltk_data...\n",
            "[nltk_data]    |   Unzipping corpora/biocreative_ppi.zip.\n",
            "[nltk_data]    | Downloading package brown to /root/nltk_data...\n",
            "[nltk_data]    |   Unzipping corpora/brown.zip.\n",
            "[nltk_data]    | Downloading package brown_tei to /root/nltk_data...\n",
            "[nltk_data]    |   Unzipping corpora/brown_tei.zip.\n",
            "[nltk_data]    | Downloading package cess_cat to /root/nltk_data...\n",
            "[nltk_data]    |   Unzipping corpora/cess_cat.zip.\n",
            "[nltk_data]    | Downloading package cess_esp to /root/nltk_data...\n",
            "[nltk_data]    |   Unzipping corpora/cess_esp.zip.\n",
            "[nltk_data]    | Downloading package chat80 to /root/nltk_data...\n",
            "[nltk_data]    |   Unzipping corpora/chat80.zip.\n",
            "[nltk_data]    | Downloading package city_database to\n",
            "[nltk_data]    |     /root/nltk_data...\n",
            "[nltk_data]    |   Unzipping corpora/city_database.zip.\n",
            "[nltk_data]    | Downloading package cmudict to /root/nltk_data...\n",
            "[nltk_data]    |   Unzipping corpora/cmudict.zip.\n",
            "[nltk_data]    | Downloading package comparative_sentences to\n",
            "[nltk_data]    |     /root/nltk_data...\n",
            "[nltk_data]    |   Unzipping corpora/comparative_sentences.zip.\n",
            "[nltk_data]    | Downloading package comtrans to /root/nltk_data...\n",
            "[nltk_data]    | Downloading package conll2000 to /root/nltk_data...\n",
            "[nltk_data]    |   Unzipping corpora/conll2000.zip.\n",
            "[nltk_data]    | Downloading package conll2002 to /root/nltk_data...\n",
            "[nltk_data]    |   Unzipping corpora/conll2002.zip.\n",
            "[nltk_data]    | Downloading package conll2007 to /root/nltk_data...\n",
            "[nltk_data]    | Downloading package crubadan to /root/nltk_data...\n",
            "[nltk_data]    |   Unzipping corpora/crubadan.zip.\n",
            "[nltk_data]    | Downloading package dependency_treebank to\n",
            "[nltk_data]    |     /root/nltk_data...\n",
            "[nltk_data]    |   Unzipping corpora/dependency_treebank.zip.\n",
            "[nltk_data]    | Downloading package dolch to /root/nltk_data...\n",
            "[nltk_data]    |   Unzipping corpora/dolch.zip.\n",
            "[nltk_data]    | Downloading package europarl_raw to\n",
            "[nltk_data]    |     /root/nltk_data...\n",
            "[nltk_data]    |   Unzipping corpora/europarl_raw.zip.\n",
            "[nltk_data]    | Downloading package floresta to /root/nltk_data...\n",
            "[nltk_data]    |   Unzipping corpora/floresta.zip.\n",
            "[nltk_data]    | Downloading package framenet_v15 to\n",
            "[nltk_data]    |     /root/nltk_data...\n",
            "[nltk_data]    |   Unzipping corpora/framenet_v15.zip.\n",
            "[nltk_data]    | Downloading package framenet_v17 to\n",
            "[nltk_data]    |     /root/nltk_data...\n",
            "[nltk_data]    |   Unzipping corpora/framenet_v17.zip.\n",
            "[nltk_data]    | Downloading package gazetteers to /root/nltk_data...\n",
            "[nltk_data]    |   Unzipping corpora/gazetteers.zip.\n",
            "[nltk_data]    | Downloading package genesis to /root/nltk_data...\n",
            "[nltk_data]    |   Unzipping corpora/genesis.zip.\n",
            "[nltk_data]    | Downloading package gutenberg to /root/nltk_data...\n",
            "[nltk_data]    |   Unzipping corpora/gutenberg.zip.\n",
            "[nltk_data]    | Downloading package ieer to /root/nltk_data...\n",
            "[nltk_data]    |   Unzipping corpora/ieer.zip.\n",
            "[nltk_data]    | Downloading package inaugural to /root/nltk_data...\n",
            "[nltk_data]    |   Unzipping corpora/inaugural.zip.\n",
            "[nltk_data]    | Downloading package indian to /root/nltk_data...\n",
            "[nltk_data]    |   Unzipping corpora/indian.zip.\n",
            "[nltk_data]    | Downloading package jeita to /root/nltk_data...\n",
            "[nltk_data]    | Downloading package kimmo to /root/nltk_data...\n",
            "[nltk_data]    |   Unzipping corpora/kimmo.zip.\n",
            "[nltk_data]    | Downloading package knbc to /root/nltk_data...\n",
            "[nltk_data]    | Downloading package lin_thesaurus to\n",
            "[nltk_data]    |     /root/nltk_data...\n",
            "[nltk_data]    |   Unzipping corpora/lin_thesaurus.zip.\n",
            "[nltk_data]    | Downloading package mac_morpho to /root/nltk_data...\n",
            "[nltk_data]    |   Unzipping corpora/mac_morpho.zip.\n",
            "[nltk_data]    | Downloading package machado to /root/nltk_data...\n",
            "[nltk_data]    | Downloading package masc_tagged to /root/nltk_data...\n",
            "[nltk_data]    | Downloading package moses_sample to\n",
            "[nltk_data]    |     /root/nltk_data...\n",
            "[nltk_data]    |   Unzipping models/moses_sample.zip.\n",
            "[nltk_data]    | Downloading package movie_reviews to\n",
            "[nltk_data]    |     /root/nltk_data...\n",
            "[nltk_data]    |   Unzipping corpora/movie_reviews.zip.\n",
            "[nltk_data]    | Downloading package names to /root/nltk_data...\n",
            "[nltk_data]    |   Unzipping corpora/names.zip.\n",
            "[nltk_data]    | Downloading package nombank.1.0 to /root/nltk_data...\n",
            "[nltk_data]    | Downloading package nps_chat to /root/nltk_data...\n",
            "[nltk_data]    |   Unzipping corpora/nps_chat.zip.\n",
            "[nltk_data]    | Downloading package omw to /root/nltk_data...\n",
            "[nltk_data]    |   Unzipping corpora/omw.zip.\n",
            "[nltk_data]    | Downloading package opinion_lexicon to\n",
            "[nltk_data]    |     /root/nltk_data...\n",
            "[nltk_data]    |   Unzipping corpora/opinion_lexicon.zip.\n",
            "[nltk_data]    | Downloading package paradigms to /root/nltk_data...\n",
            "[nltk_data]    |   Unzipping corpora/paradigms.zip.\n",
            "[nltk_data]    | Downloading package pil to /root/nltk_data...\n",
            "[nltk_data]    |   Unzipping corpora/pil.zip.\n",
            "[nltk_data]    | Downloading package pl196x to /root/nltk_data...\n",
            "[nltk_data]    |   Unzipping corpora/pl196x.zip.\n",
            "[nltk_data]    | Downloading package ppattach to /root/nltk_data...\n",
            "[nltk_data]    |   Unzipping corpora/ppattach.zip.\n",
            "[nltk_data]    | Downloading package problem_reports to\n",
            "[nltk_data]    |     /root/nltk_data...\n",
            "[nltk_data]    |   Unzipping corpora/problem_reports.zip.\n",
            "[nltk_data]    | Downloading package propbank to /root/nltk_data...\n",
            "[nltk_data]    | Downloading package ptb to /root/nltk_data...\n",
            "[nltk_data]    |   Unzipping corpora/ptb.zip.\n",
            "[nltk_data]    | Downloading package product_reviews_1 to\n",
            "[nltk_data]    |     /root/nltk_data...\n",
            "[nltk_data]    |   Unzipping corpora/product_reviews_1.zip.\n",
            "[nltk_data]    | Downloading package product_reviews_2 to\n",
            "[nltk_data]    |     /root/nltk_data...\n",
            "[nltk_data]    |   Unzipping corpora/product_reviews_2.zip.\n",
            "[nltk_data]    | Downloading package pros_cons to /root/nltk_data...\n",
            "[nltk_data]    |   Unzipping corpora/pros_cons.zip.\n",
            "[nltk_data]    | Downloading package qc to /root/nltk_data...\n",
            "[nltk_data]    |   Unzipping corpora/qc.zip.\n",
            "[nltk_data]    | Downloading package reuters to /root/nltk_data...\n",
            "[nltk_data]    | Downloading package rte to /root/nltk_data...\n",
            "[nltk_data]    |   Unzipping corpora/rte.zip.\n",
            "[nltk_data]    | Downloading package semcor to /root/nltk_data...\n",
            "[nltk_data]    | Downloading package senseval to /root/nltk_data...\n",
            "[nltk_data]    |   Unzipping corpora/senseval.zip.\n",
            "[nltk_data]    | Downloading package sentiwordnet to\n",
            "[nltk_data]    |     /root/nltk_data...\n",
            "[nltk_data]    |   Unzipping corpora/sentiwordnet.zip.\n",
            "[nltk_data]    | Downloading package sentence_polarity to\n",
            "[nltk_data]    |     /root/nltk_data...\n",
            "[nltk_data]    |   Unzipping corpora/sentence_polarity.zip.\n",
            "[nltk_data]    | Downloading package shakespeare to /root/nltk_data...\n",
            "[nltk_data]    |   Unzipping corpora/shakespeare.zip.\n",
            "[nltk_data]    | Downloading package sinica_treebank to\n",
            "[nltk_data]    |     /root/nltk_data...\n",
            "[nltk_data]    |   Unzipping corpora/sinica_treebank.zip.\n",
            "[nltk_data]    | Downloading package smultron to /root/nltk_data...\n",
            "[nltk_data]    |   Unzipping corpora/smultron.zip.\n",
            "[nltk_data]    | Downloading package state_union to /root/nltk_data...\n",
            "[nltk_data]    |   Unzipping corpora/state_union.zip.\n",
            "[nltk_data]    | Downloading package stopwords to /root/nltk_data...\n",
            "[nltk_data]    |   Unzipping corpora/stopwords.zip.\n",
            "[nltk_data]    | Downloading package subjectivity to\n",
            "[nltk_data]    |     /root/nltk_data...\n",
            "[nltk_data]    |   Unzipping corpora/subjectivity.zip.\n",
            "[nltk_data]    | Downloading package swadesh to /root/nltk_data...\n",
            "[nltk_data]    |   Unzipping corpora/swadesh.zip.\n",
            "[nltk_data]    | Downloading package switchboard to /root/nltk_data...\n",
            "[nltk_data]    |   Unzipping corpora/switchboard.zip.\n",
            "[nltk_data]    | Downloading package timit to /root/nltk_data...\n",
            "[nltk_data]    |   Unzipping corpora/timit.zip.\n",
            "[nltk_data]    | Downloading package toolbox to /root/nltk_data...\n",
            "[nltk_data]    |   Unzipping corpora/toolbox.zip.\n",
            "[nltk_data]    | Downloading package treebank to /root/nltk_data...\n",
            "[nltk_data]    |   Unzipping corpora/treebank.zip.\n",
            "[nltk_data]    | Downloading package twitter_samples to\n",
            "[nltk_data]    |     /root/nltk_data...\n",
            "[nltk_data]    |   Unzipping corpora/twitter_samples.zip.\n",
            "[nltk_data]    | Downloading package udhr to /root/nltk_data...\n",
            "[nltk_data]    |   Unzipping corpora/udhr.zip.\n",
            "[nltk_data]    | Downloading package udhr2 to /root/nltk_data...\n",
            "[nltk_data]    |   Unzipping corpora/udhr2.zip.\n",
            "[nltk_data]    | Downloading package unicode_samples to\n",
            "[nltk_data]    |     /root/nltk_data...\n",
            "[nltk_data]    |   Unzipping corpora/unicode_samples.zip.\n",
            "[nltk_data]    | Downloading package universal_treebanks_v20 to\n",
            "[nltk_data]    |     /root/nltk_data...\n",
            "[nltk_data]    | Downloading package verbnet to /root/nltk_data...\n",
            "[nltk_data]    |   Unzipping corpora/verbnet.zip.\n",
            "[nltk_data]    | Downloading package verbnet3 to /root/nltk_data...\n",
            "[nltk_data]    |   Unzipping corpora/verbnet3.zip.\n",
            "[nltk_data]    | Downloading package webtext to /root/nltk_data...\n",
            "[nltk_data]    |   Unzipping corpora/webtext.zip.\n",
            "[nltk_data]    | Downloading package wordnet to /root/nltk_data...\n",
            "[nltk_data]    |   Unzipping corpora/wordnet.zip.\n",
            "[nltk_data]    | Downloading package wordnet_ic to /root/nltk_data...\n",
            "[nltk_data]    |   Unzipping corpora/wordnet_ic.zip.\n",
            "[nltk_data]    | Downloading package words to /root/nltk_data...\n",
            "[nltk_data]    |   Unzipping corpora/words.zip.\n",
            "[nltk_data]    | Downloading package ycoe to /root/nltk_data...\n",
            "[nltk_data]    |   Unzipping corpora/ycoe.zip.\n",
            "[nltk_data]    | Downloading package rslp to /root/nltk_data...\n",
            "[nltk_data]    |   Unzipping stemmers/rslp.zip.\n",
            "[nltk_data]    | Downloading package maxent_treebank_pos_tagger to\n",
            "[nltk_data]    |     /root/nltk_data...\n",
            "[nltk_data]    |   Unzipping taggers/maxent_treebank_pos_tagger.zip.\n",
            "[nltk_data]    | Downloading package universal_tagset to\n",
            "[nltk_data]    |     /root/nltk_data...\n",
            "[nltk_data]    |   Unzipping taggers/universal_tagset.zip.\n",
            "[nltk_data]    | Downloading package maxent_ne_chunker to\n",
            "[nltk_data]    |     /root/nltk_data...\n",
            "[nltk_data]    |   Unzipping chunkers/maxent_ne_chunker.zip.\n",
            "[nltk_data]    | Downloading package punkt to /root/nltk_data...\n",
            "[nltk_data]    |   Unzipping tokenizers/punkt.zip.\n",
            "[nltk_data]    | Downloading package book_grammars to\n",
            "[nltk_data]    |     /root/nltk_data...\n",
            "[nltk_data]    |   Unzipping grammars/book_grammars.zip.\n",
            "[nltk_data]    | Downloading package sample_grammars to\n",
            "[nltk_data]    |     /root/nltk_data...\n",
            "[nltk_data]    |   Unzipping grammars/sample_grammars.zip.\n",
            "[nltk_data]    | Downloading package spanish_grammars to\n",
            "[nltk_data]    |     /root/nltk_data...\n",
            "[nltk_data]    |   Unzipping grammars/spanish_grammars.zip.\n",
            "[nltk_data]    | Downloading package basque_grammars to\n",
            "[nltk_data]    |     /root/nltk_data...\n",
            "[nltk_data]    |   Unzipping grammars/basque_grammars.zip.\n",
            "[nltk_data]    | Downloading package large_grammars to\n",
            "[nltk_data]    |     /root/nltk_data...\n",
            "[nltk_data]    |   Unzipping grammars/large_grammars.zip.\n",
            "[nltk_data]    | Downloading package tagsets to /root/nltk_data...\n",
            "[nltk_data]    |   Unzipping help/tagsets.zip.\n",
            "[nltk_data]    | Downloading package snowball_data to\n",
            "[nltk_data]    |     /root/nltk_data...\n",
            "[nltk_data]    | Downloading package bllip_wsj_no_aux to\n",
            "[nltk_data]    |     /root/nltk_data...\n",
            "[nltk_data]    |   Unzipping models/bllip_wsj_no_aux.zip.\n",
            "[nltk_data]    | Downloading package word2vec_sample to\n",
            "[nltk_data]    |     /root/nltk_data...\n",
            "[nltk_data]    |   Unzipping models/word2vec_sample.zip.\n",
            "[nltk_data]    | Downloading package panlex_swadesh to\n",
            "[nltk_data]    |     /root/nltk_data...\n",
            "[nltk_data]    | Downloading package mte_teip5 to /root/nltk_data...\n",
            "[nltk_data]    |   Unzipping corpora/mte_teip5.zip.\n",
            "[nltk_data]    | Downloading package averaged_perceptron_tagger to\n",
            "[nltk_data]    |     /root/nltk_data...\n",
            "[nltk_data]    |   Unzipping taggers/averaged_perceptron_tagger.zip.\n",
            "[nltk_data]    | Downloading package averaged_perceptron_tagger_ru to\n",
            "[nltk_data]    |     /root/nltk_data...\n",
            "[nltk_data]    |   Unzipping\n",
            "[nltk_data]    |       taggers/averaged_perceptron_tagger_ru.zip.\n",
            "[nltk_data]    | Downloading package perluniprops to\n",
            "[nltk_data]    |     /root/nltk_data...\n",
            "[nltk_data]    |   Unzipping misc/perluniprops.zip.\n",
            "[nltk_data]    | Downloading package nonbreaking_prefixes to\n",
            "[nltk_data]    |     /root/nltk_data...\n",
            "[nltk_data]    |   Unzipping corpora/nonbreaking_prefixes.zip.\n",
            "[nltk_data]    | Downloading package vader_lexicon to\n",
            "[nltk_data]    |     /root/nltk_data...\n",
            "[nltk_data]    | Downloading package porter_test to /root/nltk_data...\n",
            "[nltk_data]    |   Unzipping stemmers/porter_test.zip.\n",
            "[nltk_data]    | Downloading package wmt15_eval to /root/nltk_data...\n",
            "[nltk_data]    |   Unzipping models/wmt15_eval.zip.\n",
            "[nltk_data]    | Downloading package mwa_ppdb to /root/nltk_data...\n",
            "[nltk_data]    |   Unzipping misc/mwa_ppdb.zip.\n",
            "[nltk_data]    | \n",
            "[nltk_data]  Done downloading collection all\n"
          ],
          "name": "stdout"
        }
      ]
    },
    {
      "cell_type": "markdown",
      "metadata": {
        "id": "FkV5P8sAYwb2",
        "colab_type": "text"
      },
      "source": [
        "## reading the file \n"
      ]
    },
    {
      "cell_type": "code",
      "metadata": {
        "id": "8TCiW4I1YT0F",
        "colab_type": "code",
        "colab": {
          "base_uri": "https://localhost:8080/",
          "height": 1000
        },
        "outputId": "5cd4e65e-ab75-448d-ff36-461e089dcbde"
      },
      "source": [
        "pd.read_csv('data.csv')"
      ],
      "execution_count": 30,
      "outputs": [
        {
          "output_type": "execute_result",
          "data": {
            "text/html": [
              "<div>\n",
              "<style scoped>\n",
              "    .dataframe tbody tr th:only-of-type {\n",
              "        vertical-align: middle;\n",
              "    }\n",
              "\n",
              "    .dataframe tbody tr th {\n",
              "        vertical-align: top;\n",
              "    }\n",
              "\n",
              "    .dataframe thead th {\n",
              "        text-align: right;\n",
              "    }\n",
              "</style>\n",
              "<table border=\"1\" class=\"dataframe\">\n",
              "  <thead>\n",
              "    <tr style=\"text-align: right;\">\n",
              "      <th></th>\n",
              "      <th>sno.</th>\n",
              "      <th>flair</th>\n",
              "      <th>title</th>\n",
              "      <th>score</th>\n",
              "      <th>id</th>\n",
              "      <th>url</th>\n",
              "      <th>comms_num</th>\n",
              "      <th>body</th>\n",
              "      <th>author</th>\n",
              "      <th>comments</th>\n",
              "      <th>timestamp</th>\n",
              "      <th>combined_features</th>\n",
              "    </tr>\n",
              "  </thead>\n",
              "  <tbody>\n",
              "    <tr>\n",
              "      <th>0</th>\n",
              "      <td>0</td>\n",
              "      <td>AskIndia</td>\n",
              "      <td>4 days ago pending orders 100 million hydroxyc...</td>\n",
              "      <td>95.0</td>\n",
              "      <td>fwjdqr</td>\n",
              "      <td>https://www.reddit.com/r/india/comments/fwjdqr...</td>\n",
              "      <td>6.0</td>\n",
              "      <td>getting frantic calls pharma customers delayed...</td>\n",
              "      <td>india_ko_vanakkam</td>\n",
              "      <td>modi stockholm syndrome fair evidence chloroqu...</td>\n",
              "      <td>07-04-2020 20:07</td>\n",
              "      <td>4 days ago pending orders 100 million hydroxyc...</td>\n",
              "    </tr>\n",
              "    <tr>\n",
              "      <th>1</th>\n",
              "      <td>1</td>\n",
              "      <td>AskIndia</td>\n",
              "      <td>randians big time users dating apps like tinde...</td>\n",
              "      <td>18.0</td>\n",
              "      <td>fizkkk</td>\n",
              "      <td>https://www.reddit.com/r/india/comments/fizkkk...</td>\n",
              "      <td>19.0</td>\n",
              "      <td>id stint apps couple months one point didnt fe...</td>\n",
              "      <td>__knockknockturnal__</td>\n",
              "      <td>someone matched tell im fat cat 1 general foll...</td>\n",
              "      <td>15-03-2020 18:48</td>\n",
              "      <td>randians big time users dating apps like tinde...</td>\n",
              "    </tr>\n",
              "    <tr>\n",
              "      <th>2</th>\n",
              "      <td>2</td>\n",
              "      <td>AskIndia</td>\n",
              "      <td>r india thinks flat earthers</td>\n",
              "      <td>4.0</td>\n",
              "      <td>f25vx0</td>\n",
              "      <td>https://www.reddit.com/r/india/comments/f25vx0...</td>\n",
              "      <td>31.0</td>\n",
              "      <td>encountered foreigner ig says round earth hoax...</td>\n",
              "      <td>Dev1003</td>\n",
              "      <td>havent found indian yet believes earth flat de...</td>\n",
              "      <td>11-02-2020 17:10</td>\n",
              "      <td>r india thinks flat earthershavent found india...</td>\n",
              "    </tr>\n",
              "    <tr>\n",
              "      <th>3</th>\n",
              "      <td>3</td>\n",
              "      <td>AskIndia</td>\n",
              "      <td>people left 9 5 jobs pursue career music art f...</td>\n",
              "      <td>45.0</td>\n",
              "      <td>dtvliq</td>\n",
              "      <td>https://www.reddit.com/r/india/comments/dtvliq...</td>\n",
              "      <td>34.0</td>\n",
              "      <td>couldnt add askindia flair mobile browser</td>\n",
              "      <td>c0mrade34</td>\n",
              "      <td>engineer advertisement shoots since last 1year...</td>\n",
              "      <td>09-11-2019 20:57</td>\n",
              "      <td>people left 9 5 jobs pursue career music art f...</td>\n",
              "    </tr>\n",
              "    <tr>\n",
              "      <th>4</th>\n",
              "      <td>4</td>\n",
              "      <td>AskIndia</td>\n",
              "      <td>somebody want kill full family</td>\n",
              "      <td>92.0</td>\n",
              "      <td>b7pvwt</td>\n",
              "      <td>https://www.reddit.com/r/india/comments/b7pvwt...</td>\n",
              "      <td>24.0</td>\n",
              "      <td>24hrs local police station register case dont ...</td>\n",
              "      <td>amitkumarthakur</td>\n",
              "      <td>calm downgo sp office town file grievance imme...</td>\n",
              "      <td>01-04-2019 01:00</td>\n",
              "      <td>somebody want kill full familycalm downgo sp o...</td>\n",
              "    </tr>\n",
              "    <tr>\n",
              "      <th>...</th>\n",
              "      <td>...</td>\n",
              "      <td>...</td>\n",
              "      <td>...</td>\n",
              "      <td>...</td>\n",
              "      <td>...</td>\n",
              "      <td>...</td>\n",
              "      <td>...</td>\n",
              "      <td>...</td>\n",
              "      <td>...</td>\n",
              "      <td>...</td>\n",
              "      <td>...</td>\n",
              "      <td>...</td>\n",
              "    </tr>\n",
              "    <tr>\n",
              "      <th>1245</th>\n",
              "      <td>1213</td>\n",
              "      <td>Coronavirus</td>\n",
              "      <td>coronavirus india hunger real problem</td>\n",
              "      <td>15.0</td>\n",
              "      <td>fwk2iv</td>\n",
              "      <td>https://www.rediff.com/news/interview/coronavi...</td>\n",
              "      <td>0.0</td>\n",
              "      <td>NaN</td>\n",
              "      <td>Mulaayam_Yadav</td>\n",
              "      <td>NaN</td>\n",
              "      <td>07-04-2020 20:59</td>\n",
              "      <td>coronavirus india hunger real problemnanhttps:...</td>\n",
              "    </tr>\n",
              "    <tr>\n",
              "      <th>1246</th>\n",
              "      <td>1214</td>\n",
              "      <td>Coronavirus</td>\n",
              "      <td>need investigate nso group behind pegasus soft...</td>\n",
              "      <td>52.0</td>\n",
              "      <td>fyawr9</td>\n",
              "      <td>https://www.reddit.com/r/india/comments/fyawr9...</td>\n",
              "      <td>2.0</td>\n",
              "      <td>https previewreddit p3vb8eexzxr41pngwidth1024f...</td>\n",
              "      <td>InternetFreedomIn</td>\n",
              "      <td>nso group isreal would say nso make softwares ...</td>\n",
              "      <td>10-04-2020 15:25</td>\n",
              "      <td>need investigate nso group behind pegasus soft...</td>\n",
              "    </tr>\n",
              "    <tr>\n",
              "      <th>1247</th>\n",
              "      <td>1215</td>\n",
              "      <td>Coronavirus</td>\n",
              "      <td>coronavirus dont target doctors asking protect...</td>\n",
              "      <td>71.0</td>\n",
              "      <td>fwcvg1</td>\n",
              "      <td>https://www.thehindu.com/news/national/coronav...</td>\n",
              "      <td>2.0</td>\n",
              "      <td>NaN</td>\n",
              "      <td>naveen_reloaded</td>\n",
              "      <td>thali nhi bajai kya aur diya nhi jalaya kya hu...</td>\n",
              "      <td>07-04-2020 11:08</td>\n",
              "      <td>coronavirus dont target doctors asking protect...</td>\n",
              "    </tr>\n",
              "    <tr>\n",
              "      <th>1248</th>\n",
              "      <td>1216</td>\n",
              "      <td>Coronavirus</td>\n",
              "      <td>india lifts export ban potential coronavirus d...</td>\n",
              "      <td>12.0</td>\n",
              "      <td>fwkrox</td>\n",
              "      <td>https://asia.nikkei.com/Spotlight/Coronavirus/...</td>\n",
              "      <td>5.0</td>\n",
              "      <td>NaN</td>\n",
              "      <td>vinacham</td>\n",
              "      <td>sed bhakt noises deleted request let trump the...</td>\n",
              "      <td>07-04-2020 21:46</td>\n",
              "      <td>india lifts export ban potential coronavirus d...</td>\n",
              "    </tr>\n",
              "    <tr>\n",
              "      <th>1249</th>\n",
              "      <td>1217</td>\n",
              "      <td>Coronavirus</td>\n",
              "      <td>33 #covid19 positive cases reported haryana to...</td>\n",
              "      <td>13.0</td>\n",
              "      <td>fwkiil</td>\n",
              "      <td>https://twitter.com/ANI/status/124751605800240...</td>\n",
              "      <td>0.0</td>\n",
              "      <td>NaN</td>\n",
              "      <td>VivaLatino</td>\n",
              "      <td>NaN</td>\n",
              "      <td>07-04-2020 21:29</td>\n",
              "      <td>33 #covid19 positive cases reported haryana to...</td>\n",
              "    </tr>\n",
              "  </tbody>\n",
              "</table>\n",
              "<p>1250 rows × 12 columns</p>\n",
              "</div>"
            ],
            "text/plain": [
              "      sno.  ...                                  combined_features\n",
              "0        0  ...  4 days ago pending orders 100 million hydroxyc...\n",
              "1        1  ...  randians big time users dating apps like tinde...\n",
              "2        2  ...  r india thinks flat earthershavent found india...\n",
              "3        3  ...  people left 9 5 jobs pursue career music art f...\n",
              "4        4  ...  somebody want kill full familycalm downgo sp o...\n",
              "...    ...  ...                                                ...\n",
              "1245  1213  ...  coronavirus india hunger real problemnanhttps:...\n",
              "1246  1214  ...  need investigate nso group behind pegasus soft...\n",
              "1247  1215  ...  coronavirus dont target doctors asking protect...\n",
              "1248  1216  ...  india lifts export ban potential coronavirus d...\n",
              "1249  1217  ...  33 #covid19 positive cases reported haryana to...\n",
              "\n",
              "[1250 rows x 12 columns]"
            ]
          },
          "metadata": {
            "tags": []
          },
          "execution_count": 30
        }
      ]
    },
    {
      "cell_type": "code",
      "metadata": {
        "id": "cC4JwCpDY_gT",
        "colab_type": "code",
        "outputId": "df6ca6ca-049d-4979-8bfe-f7c8bda3ba83",
        "colab": {
          "base_uri": "https://localhost:8080/",
          "height": 585
        }
      },
      "source": [
        "data.head()"
      ],
      "execution_count": 31,
      "outputs": [
        {
          "output_type": "execute_result",
          "data": {
            "text/html": [
              "<div>\n",
              "<style scoped>\n",
              "    .dataframe tbody tr th:only-of-type {\n",
              "        vertical-align: middle;\n",
              "    }\n",
              "\n",
              "    .dataframe tbody tr th {\n",
              "        vertical-align: top;\n",
              "    }\n",
              "\n",
              "    .dataframe thead th {\n",
              "        text-align: right;\n",
              "    }\n",
              "</style>\n",
              "<table border=\"1\" class=\"dataframe\">\n",
              "  <thead>\n",
              "    <tr style=\"text-align: right;\">\n",
              "      <th></th>\n",
              "      <th>flair</th>\n",
              "      <th>title</th>\n",
              "      <th>score</th>\n",
              "      <th>id</th>\n",
              "      <th>url</th>\n",
              "      <th>comms_num</th>\n",
              "      <th>body</th>\n",
              "      <th>author</th>\n",
              "      <th>comments</th>\n",
              "      <th>timestamp</th>\n",
              "      <th>combined_features</th>\n",
              "    </tr>\n",
              "  </thead>\n",
              "  <tbody>\n",
              "    <tr>\n",
              "      <th>0</th>\n",
              "      <td>AskIndia</td>\n",
              "      <td>4 days ago pending orders 100 million hydroxyc...</td>\n",
              "      <td>95.0</td>\n",
              "      <td>fwjdqr</td>\n",
              "      <td>https://www.reddit.com/r/india/comments/fwjdqr...</td>\n",
              "      <td>6.0</td>\n",
              "      <td>getting frantic calls pharma customers delayed...</td>\n",
              "      <td>india_ko_vanakkam</td>\n",
              "      <td>modi stockholm syndrome fair evidence chloroqu...</td>\n",
              "      <td>07-04-2020 20:07</td>\n",
              "      <td>4 days ago pending orders 100 million hydroxyc...</td>\n",
              "    </tr>\n",
              "    <tr>\n",
              "      <th>1</th>\n",
              "      <td>AskIndia</td>\n",
              "      <td>randians big time users dating apps like tinde...</td>\n",
              "      <td>18.0</td>\n",
              "      <td>fizkkk</td>\n",
              "      <td>https://www.reddit.com/r/india/comments/fizkkk...</td>\n",
              "      <td>19.0</td>\n",
              "      <td>id stint apps couple months one point didnt fe...</td>\n",
              "      <td>__knockknockturnal__</td>\n",
              "      <td>someone matched tell im fat cat 1 general foll...</td>\n",
              "      <td>15-03-2020 18:48</td>\n",
              "      <td>randians big time users dating apps like tinde...</td>\n",
              "    </tr>\n",
              "    <tr>\n",
              "      <th>2</th>\n",
              "      <td>AskIndia</td>\n",
              "      <td>r india thinks flat earthers</td>\n",
              "      <td>4.0</td>\n",
              "      <td>f25vx0</td>\n",
              "      <td>https://www.reddit.com/r/india/comments/f25vx0...</td>\n",
              "      <td>31.0</td>\n",
              "      <td>encountered foreigner ig says round earth hoax...</td>\n",
              "      <td>Dev1003</td>\n",
              "      <td>havent found indian yet believes earth flat de...</td>\n",
              "      <td>11-02-2020 17:10</td>\n",
              "      <td>r india thinks flat earthershavent found india...</td>\n",
              "    </tr>\n",
              "    <tr>\n",
              "      <th>3</th>\n",
              "      <td>AskIndia</td>\n",
              "      <td>people left 9 5 jobs pursue career music art f...</td>\n",
              "      <td>45.0</td>\n",
              "      <td>dtvliq</td>\n",
              "      <td>https://www.reddit.com/r/india/comments/dtvliq...</td>\n",
              "      <td>34.0</td>\n",
              "      <td>couldnt add askindia flair mobile browser</td>\n",
              "      <td>c0mrade34</td>\n",
              "      <td>engineer advertisement shoots since last 1year...</td>\n",
              "      <td>09-11-2019 20:57</td>\n",
              "      <td>people left 9 5 jobs pursue career music art f...</td>\n",
              "    </tr>\n",
              "    <tr>\n",
              "      <th>4</th>\n",
              "      <td>AskIndia</td>\n",
              "      <td>somebody want kill full family</td>\n",
              "      <td>92.0</td>\n",
              "      <td>b7pvwt</td>\n",
              "      <td>https://www.reddit.com/r/india/comments/b7pvwt...</td>\n",
              "      <td>24.0</td>\n",
              "      <td>24hrs local police station register case dont ...</td>\n",
              "      <td>amitkumarthakur</td>\n",
              "      <td>calm downgo sp office town file grievance imme...</td>\n",
              "      <td>01-04-2019 01:00</td>\n",
              "      <td>somebody want kill full familycalm downgo sp o...</td>\n",
              "    </tr>\n",
              "  </tbody>\n",
              "</table>\n",
              "</div>"
            ],
            "text/plain": [
              "      flair  ...                                  combined_features\n",
              "0  AskIndia  ...  4 days ago pending orders 100 million hydroxyc...\n",
              "1  AskIndia  ...  randians big time users dating apps like tinde...\n",
              "2  AskIndia  ...  r india thinks flat earthershavent found india...\n",
              "3  AskIndia  ...  people left 9 5 jobs pursue career music art f...\n",
              "4  AskIndia  ...  somebody want kill full familycalm downgo sp o...\n",
              "\n",
              "[5 rows x 11 columns]"
            ]
          },
          "metadata": {
            "tags": []
          },
          "execution_count": 31
        }
      ]
    },
    {
      "cell_type": "markdown",
      "metadata": {
        "id": "BY_-JgE1ZU-S",
        "colab_type": "text"
      },
      "source": [
        "looking for the data shape "
      ]
    },
    {
      "cell_type": "code",
      "metadata": {
        "id": "3blmFPE7ZFB1",
        "colab_type": "code",
        "outputId": "b48d5d8e-a304-4f86-96ff-6625eca6f0cb",
        "colab": {
          "base_uri": "https://localhost:8080/",
          "height": 34
        }
      },
      "source": [
        "data.shape"
      ],
      "execution_count": 25,
      "outputs": [
        {
          "output_type": "execute_result",
          "data": {
            "text/plain": [
              "(267, 11)"
            ]
          },
          "metadata": {
            "tags": []
          },
          "execution_count": 25
        }
      ]
    },
    {
      "cell_type": "markdown",
      "metadata": {
        "id": "g5Het925Zq_e",
        "colab_type": "text"
      },
      "source": [
        "names of columns"
      ]
    },
    {
      "cell_type": "code",
      "metadata": {
        "id": "3Q-1qHuNZ0s5",
        "colab_type": "code",
        "outputId": "54b5106e-e22c-4ae1-f4d7-73bfe25fa45d",
        "colab": {
          "base_uri": "https://localhost:8080/",
          "height": 67
        }
      },
      "source": [
        "data.columns"
      ],
      "execution_count": 32,
      "outputs": [
        {
          "output_type": "execute_result",
          "data": {
            "text/plain": [
              "Index(['flair', 'title', 'score', 'id', 'url', 'comms_num', 'body', 'author',\n",
              "       'comments', 'timestamp', 'combined_features'],\n",
              "      dtype='object')"
            ]
          },
          "metadata": {
            "tags": []
          },
          "execution_count": 32
        }
      ]
    },
    {
      "cell_type": "code",
      "metadata": {
        "id": "AFbywY9AaoVP",
        "colab_type": "code",
        "outputId": "81d167ac-fb85-4b30-9184-b27250539774",
        "colab": {
          "base_uri": "https://localhost:8080/",
          "height": 585
        }
      },
      "source": [
        "data.head()"
      ],
      "execution_count": 35,
      "outputs": [
        {
          "output_type": "execute_result",
          "data": {
            "text/html": [
              "<div>\n",
              "<style scoped>\n",
              "    .dataframe tbody tr th:only-of-type {\n",
              "        vertical-align: middle;\n",
              "    }\n",
              "\n",
              "    .dataframe tbody tr th {\n",
              "        vertical-align: top;\n",
              "    }\n",
              "\n",
              "    .dataframe thead th {\n",
              "        text-align: right;\n",
              "    }\n",
              "</style>\n",
              "<table border=\"1\" class=\"dataframe\">\n",
              "  <thead>\n",
              "    <tr style=\"text-align: right;\">\n",
              "      <th></th>\n",
              "      <th>flair</th>\n",
              "      <th>title</th>\n",
              "      <th>score</th>\n",
              "      <th>id</th>\n",
              "      <th>url</th>\n",
              "      <th>comms_num</th>\n",
              "      <th>body</th>\n",
              "      <th>author</th>\n",
              "      <th>comments</th>\n",
              "      <th>timestamp</th>\n",
              "      <th>combined_features</th>\n",
              "    </tr>\n",
              "  </thead>\n",
              "  <tbody>\n",
              "    <tr>\n",
              "      <th>0</th>\n",
              "      <td>AskIndia</td>\n",
              "      <td>4 days ago pending orders 100 million hydroxyc...</td>\n",
              "      <td>95.0</td>\n",
              "      <td>fwjdqr</td>\n",
              "      <td>https://www.reddit.com/r/india/comments/fwjdqr...</td>\n",
              "      <td>6.0</td>\n",
              "      <td>getting frantic calls pharma customers delayed...</td>\n",
              "      <td>india_ko_vanakkam</td>\n",
              "      <td>modi stockholm syndrome fair evidence chloroqu...</td>\n",
              "      <td>07-04-2020 20:07</td>\n",
              "      <td>4 days ago pending orders 100 million hydroxyc...</td>\n",
              "    </tr>\n",
              "    <tr>\n",
              "      <th>1</th>\n",
              "      <td>AskIndia</td>\n",
              "      <td>randians big time users dating apps like tinde...</td>\n",
              "      <td>18.0</td>\n",
              "      <td>fizkkk</td>\n",
              "      <td>https://www.reddit.com/r/india/comments/fizkkk...</td>\n",
              "      <td>19.0</td>\n",
              "      <td>id stint apps couple months one point didnt fe...</td>\n",
              "      <td>__knockknockturnal__</td>\n",
              "      <td>someone matched tell im fat cat 1 general foll...</td>\n",
              "      <td>15-03-2020 18:48</td>\n",
              "      <td>randians big time users dating apps like tinde...</td>\n",
              "    </tr>\n",
              "    <tr>\n",
              "      <th>2</th>\n",
              "      <td>AskIndia</td>\n",
              "      <td>r india thinks flat earthers</td>\n",
              "      <td>4.0</td>\n",
              "      <td>f25vx0</td>\n",
              "      <td>https://www.reddit.com/r/india/comments/f25vx0...</td>\n",
              "      <td>31.0</td>\n",
              "      <td>encountered foreigner ig says round earth hoax...</td>\n",
              "      <td>Dev1003</td>\n",
              "      <td>havent found indian yet believes earth flat de...</td>\n",
              "      <td>11-02-2020 17:10</td>\n",
              "      <td>r india thinks flat earthershavent found india...</td>\n",
              "    </tr>\n",
              "    <tr>\n",
              "      <th>3</th>\n",
              "      <td>AskIndia</td>\n",
              "      <td>people left 9 5 jobs pursue career music art f...</td>\n",
              "      <td>45.0</td>\n",
              "      <td>dtvliq</td>\n",
              "      <td>https://www.reddit.com/r/india/comments/dtvliq...</td>\n",
              "      <td>34.0</td>\n",
              "      <td>couldnt add askindia flair mobile browser</td>\n",
              "      <td>c0mrade34</td>\n",
              "      <td>engineer advertisement shoots since last 1year...</td>\n",
              "      <td>09-11-2019 20:57</td>\n",
              "      <td>people left 9 5 jobs pursue career music art f...</td>\n",
              "    </tr>\n",
              "    <tr>\n",
              "      <th>4</th>\n",
              "      <td>AskIndia</td>\n",
              "      <td>somebody want kill full family</td>\n",
              "      <td>92.0</td>\n",
              "      <td>b7pvwt</td>\n",
              "      <td>https://www.reddit.com/r/india/comments/b7pvwt...</td>\n",
              "      <td>24.0</td>\n",
              "      <td>24hrs local police station register case dont ...</td>\n",
              "      <td>amitkumarthakur</td>\n",
              "      <td>calm downgo sp office town file grievance imme...</td>\n",
              "      <td>01-04-2019 01:00</td>\n",
              "      <td>somebody want kill full familycalm downgo sp o...</td>\n",
              "    </tr>\n",
              "  </tbody>\n",
              "</table>\n",
              "</div>"
            ],
            "text/plain": [
              "      flair  ...                                  combined_features\n",
              "0  AskIndia  ...  4 days ago pending orders 100 million hydroxyc...\n",
              "1  AskIndia  ...  randians big time users dating apps like tinde...\n",
              "2  AskIndia  ...  r india thinks flat earthershavent found india...\n",
              "3  AskIndia  ...  people left 9 5 jobs pursue career music art f...\n",
              "4  AskIndia  ...  somebody want kill full familycalm downgo sp o...\n",
              "\n",
              "[5 rows x 11 columns]"
            ]
          },
          "metadata": {
            "tags": []
          },
          "execution_count": 35
        }
      ]
    },
    {
      "cell_type": "markdown",
      "metadata": {
        "id": "fnJ6LulYc66c",
        "colab_type": "text"
      },
      "source": [
        "checking the data info"
      ]
    },
    {
      "cell_type": "code",
      "metadata": {
        "id": "wruCH1wdaqHm",
        "colab_type": "code",
        "outputId": "fa906f00-9662-495f-f2d3-9fc67cbbd10a",
        "colab": {
          "base_uri": "https://localhost:8080/",
          "height": 319
        }
      },
      "source": [
        "data.info()"
      ],
      "execution_count": 36,
      "outputs": [
        {
          "output_type": "stream",
          "text": [
            "<class 'pandas.core.frame.DataFrame'>\n",
            "RangeIndex: 267 entries, 0 to 266\n",
            "Data columns (total 11 columns):\n",
            " #   Column             Non-Null Count  Dtype  \n",
            "---  ------             --------------  -----  \n",
            " 0   flair              266 non-null    object \n",
            " 1   title              266 non-null    object \n",
            " 2   score              266 non-null    float64\n",
            " 3   id                 266 non-null    object \n",
            " 4   url                266 non-null    object \n",
            " 5   comms_num          266 non-null    float64\n",
            " 6   body               182 non-null    object \n",
            " 7   author             266 non-null    object \n",
            " 8   comments           249 non-null    object \n",
            " 9   timestamp          266 non-null    object \n",
            " 10  combined_features  266 non-null    object \n",
            "dtypes: float64(2), object(9)\n",
            "memory usage: 23.1+ KB\n"
          ],
          "name": "stdout"
        }
      ]
    },
    {
      "cell_type": "markdown",
      "metadata": {
        "id": "7optt0Pw3u0m",
        "colab_type": "text"
      },
      "source": [
        "we are getting only 266 values whereas the data has1250 rows"
      ]
    },
    {
      "cell_type": "code",
      "metadata": {
        "id": "wbAgxzZTdAoV",
        "colab_type": "code",
        "colab": {}
      },
      "source": [
        "data.drop(\"id\",axis=1,inplace=True)"
      ],
      "execution_count": 0,
      "outputs": []
    },
    {
      "cell_type": "code",
      "metadata": {
        "id": "Rr7R4tKb4lu3",
        "colab_type": "code",
        "colab": {
          "base_uri": "https://localhost:8080/",
          "height": 585
        },
        "outputId": "251741ee-cdd7-4ec6-a112-8a97fb02ef42"
      },
      "source": [
        "data.head()"
      ],
      "execution_count": 38,
      "outputs": [
        {
          "output_type": "execute_result",
          "data": {
            "text/html": [
              "<div>\n",
              "<style scoped>\n",
              "    .dataframe tbody tr th:only-of-type {\n",
              "        vertical-align: middle;\n",
              "    }\n",
              "\n",
              "    .dataframe tbody tr th {\n",
              "        vertical-align: top;\n",
              "    }\n",
              "\n",
              "    .dataframe thead th {\n",
              "        text-align: right;\n",
              "    }\n",
              "</style>\n",
              "<table border=\"1\" class=\"dataframe\">\n",
              "  <thead>\n",
              "    <tr style=\"text-align: right;\">\n",
              "      <th></th>\n",
              "      <th>flair</th>\n",
              "      <th>title</th>\n",
              "      <th>score</th>\n",
              "      <th>url</th>\n",
              "      <th>comms_num</th>\n",
              "      <th>body</th>\n",
              "      <th>author</th>\n",
              "      <th>comments</th>\n",
              "      <th>timestamp</th>\n",
              "      <th>combined_features</th>\n",
              "    </tr>\n",
              "  </thead>\n",
              "  <tbody>\n",
              "    <tr>\n",
              "      <th>0</th>\n",
              "      <td>AskIndia</td>\n",
              "      <td>4 days ago pending orders 100 million hydroxyc...</td>\n",
              "      <td>95.0</td>\n",
              "      <td>https://www.reddit.com/r/india/comments/fwjdqr...</td>\n",
              "      <td>6.0</td>\n",
              "      <td>getting frantic calls pharma customers delayed...</td>\n",
              "      <td>india_ko_vanakkam</td>\n",
              "      <td>modi stockholm syndrome fair evidence chloroqu...</td>\n",
              "      <td>07-04-2020 20:07</td>\n",
              "      <td>4 days ago pending orders 100 million hydroxyc...</td>\n",
              "    </tr>\n",
              "    <tr>\n",
              "      <th>1</th>\n",
              "      <td>AskIndia</td>\n",
              "      <td>randians big time users dating apps like tinde...</td>\n",
              "      <td>18.0</td>\n",
              "      <td>https://www.reddit.com/r/india/comments/fizkkk...</td>\n",
              "      <td>19.0</td>\n",
              "      <td>id stint apps couple months one point didnt fe...</td>\n",
              "      <td>__knockknockturnal__</td>\n",
              "      <td>someone matched tell im fat cat 1 general foll...</td>\n",
              "      <td>15-03-2020 18:48</td>\n",
              "      <td>randians big time users dating apps like tinde...</td>\n",
              "    </tr>\n",
              "    <tr>\n",
              "      <th>2</th>\n",
              "      <td>AskIndia</td>\n",
              "      <td>r india thinks flat earthers</td>\n",
              "      <td>4.0</td>\n",
              "      <td>https://www.reddit.com/r/india/comments/f25vx0...</td>\n",
              "      <td>31.0</td>\n",
              "      <td>encountered foreigner ig says round earth hoax...</td>\n",
              "      <td>Dev1003</td>\n",
              "      <td>havent found indian yet believes earth flat de...</td>\n",
              "      <td>11-02-2020 17:10</td>\n",
              "      <td>r india thinks flat earthershavent found india...</td>\n",
              "    </tr>\n",
              "    <tr>\n",
              "      <th>3</th>\n",
              "      <td>AskIndia</td>\n",
              "      <td>people left 9 5 jobs pursue career music art f...</td>\n",
              "      <td>45.0</td>\n",
              "      <td>https://www.reddit.com/r/india/comments/dtvliq...</td>\n",
              "      <td>34.0</td>\n",
              "      <td>couldnt add askindia flair mobile browser</td>\n",
              "      <td>c0mrade34</td>\n",
              "      <td>engineer advertisement shoots since last 1year...</td>\n",
              "      <td>09-11-2019 20:57</td>\n",
              "      <td>people left 9 5 jobs pursue career music art f...</td>\n",
              "    </tr>\n",
              "    <tr>\n",
              "      <th>4</th>\n",
              "      <td>AskIndia</td>\n",
              "      <td>somebody want kill full family</td>\n",
              "      <td>92.0</td>\n",
              "      <td>https://www.reddit.com/r/india/comments/b7pvwt...</td>\n",
              "      <td>24.0</td>\n",
              "      <td>24hrs local police station register case dont ...</td>\n",
              "      <td>amitkumarthakur</td>\n",
              "      <td>calm downgo sp office town file grievance imme...</td>\n",
              "      <td>01-04-2019 01:00</td>\n",
              "      <td>somebody want kill full familycalm downgo sp o...</td>\n",
              "    </tr>\n",
              "  </tbody>\n",
              "</table>\n",
              "</div>"
            ],
            "text/plain": [
              "      flair  ...                                  combined_features\n",
              "0  AskIndia  ...  4 days ago pending orders 100 million hydroxyc...\n",
              "1  AskIndia  ...  randians big time users dating apps like tinde...\n",
              "2  AskIndia  ...  r india thinks flat earthershavent found india...\n",
              "3  AskIndia  ...  people left 9 5 jobs pursue career music art f...\n",
              "4  AskIndia  ...  somebody want kill full familycalm downgo sp o...\n",
              "\n",
              "[5 rows x 10 columns]"
            ]
          },
          "metadata": {
            "tags": []
          },
          "execution_count": 38
        }
      ]
    },
    {
      "cell_type": "code",
      "metadata": {
        "id": "wh9VqQhg4om3",
        "colab_type": "code",
        "colab": {
          "base_uri": "https://localhost:8080/",
          "height": 67
        },
        "outputId": "3b1ed43c-469b-44a0-e15f-eed7d10dda81"
      },
      "source": [
        "data.columns"
      ],
      "execution_count": 39,
      "outputs": [
        {
          "output_type": "execute_result",
          "data": {
            "text/plain": [
              "Index(['flair', 'title', 'score', 'url', 'comms_num', 'body', 'author',\n",
              "       'comments', 'timestamp', 'combined_features'],\n",
              "      dtype='object')"
            ]
          },
          "metadata": {
            "tags": []
          },
          "execution_count": 39
        }
      ]
    },
    {
      "cell_type": "code",
      "metadata": {
        "id": "vFLkb8XQ5EmD",
        "colab_type": "code",
        "colab": {
          "base_uri": "https://localhost:8080/",
          "height": 702
        },
        "outputId": "f291c5a4-edce-430f-d062-139ae8616463"
      },
      "source": [
        "data.tail()"
      ],
      "execution_count": 40,
      "outputs": [
        {
          "output_type": "execute_result",
          "data": {
            "text/html": [
              "<div>\n",
              "<style scoped>\n",
              "    .dataframe tbody tr th:only-of-type {\n",
              "        vertical-align: middle;\n",
              "    }\n",
              "\n",
              "    .dataframe tbody tr th {\n",
              "        vertical-align: top;\n",
              "    }\n",
              "\n",
              "    .dataframe thead th {\n",
              "        text-align: right;\n",
              "    }\n",
              "</style>\n",
              "<table border=\"1\" class=\"dataframe\">\n",
              "  <thead>\n",
              "    <tr style=\"text-align: right;\">\n",
              "      <th></th>\n",
              "      <th>flair</th>\n",
              "      <th>title</th>\n",
              "      <th>score</th>\n",
              "      <th>url</th>\n",
              "      <th>comms_num</th>\n",
              "      <th>body</th>\n",
              "      <th>author</th>\n",
              "      <th>comments</th>\n",
              "      <th>timestamp</th>\n",
              "      <th>combined_features</th>\n",
              "    </tr>\n",
              "  </thead>\n",
              "  <tbody>\n",
              "    <tr>\n",
              "      <th>262</th>\n",
              "      <td>Scheduled</td>\n",
              "      <td>hi r india made bot stop fake news whatsapp</td>\n",
              "      <td>163.0</td>\n",
              "      <td>https://www.reddit.com/r/india/comments/fdaht6...</td>\n",
              "      <td>39.0</td>\n",
              "      <td>edit 3 looks like blocked facebook fuck try sp...</td>\n",
              "      <td>whatsappfactchecker</td>\n",
              "      <td>make bot subs reddit know want mean stop fake ...</td>\n",
              "      <td>04-03-2020 17:16</td>\n",
              "      <td>hi r india made bot stop fake news whatsappmak...</td>\n",
              "    </tr>\n",
              "    <tr>\n",
              "      <th>263</th>\n",
              "      <td>Scheduled</td>\n",
              "      <td>get full refund jet airways international flig...</td>\n",
              "      <td>15.0</td>\n",
              "      <td>https://www.reddit.com/r/india/comments/bdbpz3...</td>\n",
              "      <td>18.0</td>\n",
              "      <td>hi question people well versed flight cancella...</td>\n",
              "      <td>CurlyMope</td>\n",
              "      <td>call ask looks even worse day dayhttps livefro...</td>\n",
              "      <td>15-04-2019 11:59</td>\n",
              "      <td>get full refund jet airways international flig...</td>\n",
              "    </tr>\n",
              "    <tr>\n",
              "      <th>264</th>\n",
              "      <td>Scheduled</td>\n",
              "      <td>seattle city council becomes first us legislat...</td>\n",
              "      <td>371.0</td>\n",
              "      <td>https://www.reddit.com/r/india/comments/eykwsp...</td>\n",
              "      <td>87.0</td>\n",
              "      <td>resolution tabled january 21st council members...</td>\n",
              "      <td>ali_sez_so</td>\n",
              "      <td>going us thanks detailed selfpost nri bhakts b...</td>\n",
              "      <td>04-02-2020 13:10</td>\n",
              "      <td>seattle city council becomes first us legislat...</td>\n",
              "    </tr>\n",
              "    <tr>\n",
              "      <th>265</th>\n",
              "      <td>Scheduled</td>\n",
              "      <td>confusion train schedule could someone please ...</td>\n",
              "      <td>8.0</td>\n",
              "      <td>https://www.reddit.com/r/india/comments/di6as1...</td>\n",
              "      <td>5.0</td>\n",
              "      <td>booked counter ticket madgaonmumbai cst 12134 ...</td>\n",
              "      <td>ExaltFibs24</td>\n",
              "      <td>simple train currently running monsoon schedul...</td>\n",
              "      <td>15-10-2019 19:03</td>\n",
              "      <td>confusion train schedule could someone please ...</td>\n",
              "    </tr>\n",
              "    <tr>\n",
              "      <th>266</th>\n",
              "      <td>Scheduled</td>\n",
              "      <td>punjab dalit labourer beaten forced drink urin...</td>\n",
              "      <td>495.0</td>\n",
              "      <td>https://indianexpress.com/article/india/chandi...</td>\n",
              "      <td>136.0</td>\n",
              "      <td>NaN</td>\n",
              "      <td>ClassicAdvice5</td>\n",
              "      <td>looked good youngone blessed men longer among ...</td>\n",
              "      <td>19-11-2019 19:04</td>\n",
              "      <td>punjab dalit labourer beaten forced drink urin...</td>\n",
              "    </tr>\n",
              "  </tbody>\n",
              "</table>\n",
              "</div>"
            ],
            "text/plain": [
              "         flair  ...                                  combined_features\n",
              "262  Scheduled  ...  hi r india made bot stop fake news whatsappmak...\n",
              "263  Scheduled  ...  get full refund jet airways international flig...\n",
              "264  Scheduled  ...  seattle city council becomes first us legislat...\n",
              "265  Scheduled  ...  confusion train schedule could someone please ...\n",
              "266  Scheduled  ...  punjab dalit labourer beaten forced drink urin...\n",
              "\n",
              "[5 rows x 10 columns]"
            ]
          },
          "metadata": {
            "tags": []
          },
          "execution_count": 40
        }
      ]
    },
    {
      "cell_type": "code",
      "metadata": {
        "id": "3wvHfAYY5Iic",
        "colab_type": "code",
        "colab": {}
      },
      "source": [
        "def string(value):\n",
        "    return str(value)"
      ],
      "execution_count": 0,
      "outputs": []
    },
    {
      "cell_type": "code",
      "metadata": {
        "id": "Wlmf3k9c5RFy",
        "colab_type": "code",
        "colab": {}
      },
      "source": [
        "data['title'] = data['title'].apply(string)\n",
        "data['body'] = data['body'].apply(string)\n",
        "data['comments'] = data['comments'].apply(string)"
      ],
      "execution_count": 0,
      "outputs": []
    },
    {
      "cell_type": "code",
      "metadata": {
        "id": "lA6w36LF5Tqx",
        "colab_type": "code",
        "colab": {}
      },
      "source": [
        "\n",
        "REPLACE_BY_SPACE_RE = re.compile('[/(){}\\[\\]\\|@,;]')\n",
        "BAD_SYMBOLS_RE = re.compile('[^0-9a-z #+_]')\n",
        "STOPWORDS = set(stopwords.words('english'))\n",
        "def text_cleaning(text):\n",
        "   \n",
        "    text = BeautifulSoup(text, \"lxml\").text\n",
        "    text = text.lower()\n",
        "    text = REPLACE_BY_SPACE_RE.sub(' ', text)\n",
        "    text = BAD_SYMBOLS_RE.sub('', text)\n",
        "    text = ' '.join(word for word in text.split() if word not in STOPWORDS)\n",
        "    return text"
      ],
      "execution_count": 0,
      "outputs": []
    },
    {
      "cell_type": "code",
      "metadata": {
        "id": "5fCQxSO05XBx",
        "colab_type": "code",
        "colab": {}
      },
      "source": [
        "combined_features = data[\"title\"] + data[\"comments\"] + data[\"url\"]\n",
        "data = data.assign(combined_features = combined_features)"
      ],
      "execution_count": 0,
      "outputs": []
    },
    {
      "cell_type": "code",
      "metadata": {
        "id": "MvgJr4cB5qRp",
        "colab_type": "code",
        "colab": {
          "base_uri": "https://localhost:8080/",
          "height": 302
        },
        "outputId": "a4327908-14a0-40f1-f614-100146683fdc"
      },
      "source": [
        "data.info()"
      ],
      "execution_count": 47,
      "outputs": [
        {
          "output_type": "stream",
          "text": [
            "<class 'pandas.core.frame.DataFrame'>\n",
            "RangeIndex: 267 entries, 0 to 266\n",
            "Data columns (total 10 columns):\n",
            " #   Column             Non-Null Count  Dtype  \n",
            "---  ------             --------------  -----  \n",
            " 0   flair              266 non-null    object \n",
            " 1   title              267 non-null    object \n",
            " 2   score              266 non-null    float64\n",
            " 3   url                266 non-null    object \n",
            " 4   comms_num          266 non-null    float64\n",
            " 5   body               267 non-null    object \n",
            " 6   author             266 non-null    object \n",
            " 7   comments           267 non-null    object \n",
            " 8   timestamp          266 non-null    object \n",
            " 9   combined_features  266 non-null    object \n",
            "dtypes: float64(2), object(8)\n",
            "memory usage: 21.0+ KB\n"
          ],
          "name": "stdout"
        }
      ]
    },
    {
      "cell_type": "code",
      "metadata": {
        "id": "Fe3dSNs65uQS",
        "colab_type": "code",
        "colab": {}
      },
      "source": [
        "data1=pd.read_csv('data (1).csv')"
      ],
      "execution_count": 0,
      "outputs": []
    },
    {
      "cell_type": "code",
      "metadata": {
        "id": "Z0zuMkNc6Ffh",
        "colab_type": "code",
        "colab": {
          "base_uri": "https://localhost:8080/",
          "height": 336
        },
        "outputId": "8cdb8d79-e955-4088-8990-32d8111d165b"
      },
      "source": [
        "data1.info()"
      ],
      "execution_count": 50,
      "outputs": [
        {
          "output_type": "stream",
          "text": [
            "<class 'pandas.core.frame.DataFrame'>\n",
            "RangeIndex: 1218 entries, 0 to 1217\n",
            "Data columns (total 12 columns):\n",
            " #   Column             Non-Null Count  Dtype \n",
            "---  ------             --------------  ----- \n",
            " 0   Unnamed: 0         1218 non-null   int64 \n",
            " 1   flair              1218 non-null   object\n",
            " 2   title              1218 non-null   object\n",
            " 3   score              1218 non-null   int64 \n",
            " 4   id                 1218 non-null   object\n",
            " 5   url                1218 non-null   object\n",
            " 6   comms_num          1218 non-null   int64 \n",
            " 7   body               693 non-null    object\n",
            " 8   author             1218 non-null   object\n",
            " 9   comments           1096 non-null   object\n",
            " 10  timestamp          1218 non-null   object\n",
            " 11  combined_features  1218 non-null   object\n",
            "dtypes: int64(3), object(9)\n",
            "memory usage: 114.3+ KB\n"
          ],
          "name": "stdout"
        }
      ]
    },
    {
      "cell_type": "markdown",
      "metadata": {
        "id": "5nOyyCbwdDWr",
        "colab_type": "text"
      },
      "source": [
        "### by this we find that body has a lot of null values. This shows that for most of the posts only the title suffice, there is no need of body. \n",
        "### plots can be made for the posts having body and no of words in such posts this would give more insights to the data. \n",
        "### second in the list which has missing values is comments. This is quite resonable as not all the posts get comments, next thing which can be checked is what is the score of the post with comments and what flair are the posts which get maximum comments. \n"
      ]
    },
    {
      "cell_type": "markdown",
      "metadata": {
        "id": "u3a6UcTs8xM4",
        "colab_type": "text"
      },
      "source": [
        "#### graphs which we can plot to get more insights of the data \n",
        "#### 1. plots of different feature values and which feature value has missing values.\n",
        "#### 2. NO of posts and the flair they belong that have body.\n",
        "#### 3. No of words in the body corresponding to the flairs- this will help us determine is body a good parameter or not for model.\n",
        "#### 4. score of the posts with comments\n",
        "#### 5. flair which gets maximum comments - this will help us in model \n",
        "#### 6. what are thw words or persons mentioned maximum times in comments\n",
        "#### 7, what is the frequency of posts and comments."
      ]
    },
    {
      "cell_type": "code",
      "metadata": {
        "id": "oTfJspoT6LM3",
        "colab_type": "code",
        "colab": {
          "base_uri": "https://localhost:8080/",
          "height": 279
        },
        "outputId": "8c5bdccd-2390-48cb-a68a-aa72caa2d57e"
      },
      "source": [
        ""
      ],
      "execution_count": 52,
      "outputs": [
        {
          "output_type": "error",
          "ename": "AttributeError",
          "evalue": "ignored",
          "traceback": [
            "\u001b[0;31m---------------------------------------------------------------------------\u001b[0m",
            "\u001b[0;31mAttributeError\u001b[0m                            Traceback (most recent call last)",
            "\u001b[0;32m<ipython-input-52-fcddc8d91591>\u001b[0m in \u001b[0;36m<module>\u001b[0;34m()\u001b[0m\n\u001b[0;32m----> 1\u001b[0;31m \u001b[0mdata\u001b[0m\u001b[0;34m.\u001b[0m\u001b[0mvalue_counts\u001b[0m\u001b[0;34m\u001b[0m\u001b[0;34m\u001b[0m\u001b[0m\n\u001b[0m",
            "\u001b[0;32m/usr/local/lib/python3.6/dist-packages/pandas/core/generic.py\u001b[0m in \u001b[0;36m__getattr__\u001b[0;34m(self, name)\u001b[0m\n\u001b[1;32m   5272\u001b[0m             \u001b[0;32mif\u001b[0m \u001b[0mself\u001b[0m\u001b[0;34m.\u001b[0m\u001b[0m_info_axis\u001b[0m\u001b[0;34m.\u001b[0m\u001b[0m_can_hold_identifiers_and_holds_name\u001b[0m\u001b[0;34m(\u001b[0m\u001b[0mname\u001b[0m\u001b[0;34m)\u001b[0m\u001b[0;34m:\u001b[0m\u001b[0;34m\u001b[0m\u001b[0;34m\u001b[0m\u001b[0m\n\u001b[1;32m   5273\u001b[0m                 \u001b[0;32mreturn\u001b[0m \u001b[0mself\u001b[0m\u001b[0;34m[\u001b[0m\u001b[0mname\u001b[0m\u001b[0;34m]\u001b[0m\u001b[0;34m\u001b[0m\u001b[0;34m\u001b[0m\u001b[0m\n\u001b[0;32m-> 5274\u001b[0;31m             \u001b[0;32mreturn\u001b[0m \u001b[0mobject\u001b[0m\u001b[0;34m.\u001b[0m\u001b[0m__getattribute__\u001b[0m\u001b[0;34m(\u001b[0m\u001b[0mself\u001b[0m\u001b[0;34m,\u001b[0m \u001b[0mname\u001b[0m\u001b[0;34m)\u001b[0m\u001b[0;34m\u001b[0m\u001b[0;34m\u001b[0m\u001b[0m\n\u001b[0m\u001b[1;32m   5275\u001b[0m \u001b[0;34m\u001b[0m\u001b[0m\n\u001b[1;32m   5276\u001b[0m     \u001b[0;32mdef\u001b[0m \u001b[0m__setattr__\u001b[0m\u001b[0;34m(\u001b[0m\u001b[0mself\u001b[0m\u001b[0;34m,\u001b[0m \u001b[0mname\u001b[0m\u001b[0;34m:\u001b[0m \u001b[0mstr\u001b[0m\u001b[0;34m,\u001b[0m \u001b[0mvalue\u001b[0m\u001b[0;34m)\u001b[0m \u001b[0;34m->\u001b[0m \u001b[0;32mNone\u001b[0m\u001b[0;34m:\u001b[0m\u001b[0;34m\u001b[0m\u001b[0;34m\u001b[0m\u001b[0m\n",
            "\u001b[0;31mAttributeError\u001b[0m: 'DataFrame' object has no attribute 'value_counts'"
          ]
        }
      ]
    },
    {
      "cell_type": "code",
      "metadata": {
        "id": "l3yHizM7EaT9",
        "colab_type": "code",
        "colab": {}
      },
      "source": [
        ""
      ],
      "execution_count": 0,
      "outputs": []
    }
  ]
}