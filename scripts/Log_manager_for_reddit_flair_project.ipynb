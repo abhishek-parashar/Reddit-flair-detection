{
  "nbformat": 4,
  "nbformat_minor": 0,
  "metadata": {
    "colab": {
      "name": "Log manager for reddit flair project",
      "provenance": [],
      "authorship_tag": "ABX9TyOf7fdITf6yXT7vQNxV8zId",
      "include_colab_link": true
    },
    "kernelspec": {
      "name": "python3",
      "display_name": "Python 3"
    },
    "accelerator": "TPU"
  },
  "cells": [
    {
      "cell_type": "markdown",
      "metadata": {
        "id": "view-in-github",
        "colab_type": "text"
      },
      "source": [
        "<a href=\"https://colab.research.google.com/github/abhishek-parashar/Reddit-flair-detection/blob/master/Log_manager_for_reddit_flair_project.ipynb\" target=\"_parent\"><img src=\"https://colab.research.google.com/assets/colab-badge.svg\" alt=\"Open In Colab\"/></a>"
      ]
    },
    {
      "cell_type": "markdown",
      "metadata": {
        "id": "cnCdGY4gMKoW",
        "colab_type": "text"
      },
      "source": [
        "## This is my personal log manager file, Here I change my day to day activity.\n",
        "### final notebook would be different from this one. \n",
        "### you can consider this as my rough work notebook. "
      ]
    },
    {
      "cell_type": "markdown",
      "metadata": {
        "id": "bf7NGG94Orva",
        "colab_type": "text"
      },
      "source": [
        "Day 1"
      ]
    },
    {
      "cell_type": "code",
      "metadata": {
        "id": "9u9lXAftL2he",
        "colab_type": "code",
        "colab": {}
      },
      "source": [
        "# getting the data from reddit using praw "
      ],
      "execution_count": 0,
      "outputs": []
    },
    {
      "cell_type": "code",
      "metadata": {
        "id": "GMeOmo8XOkFB",
        "colab_type": "code",
        "outputId": "9fbe5501-ba80-40a6-c043-3c3ecf72d0c7",
        "colab": {
          "base_uri": "https://localhost:8080/",
          "height": 205
        }
      },
      "source": [
        "!pip install praw"
      ],
      "execution_count": 19,
      "outputs": [
        {
          "output_type": "stream",
          "text": [
            "Requirement already satisfied: praw in /usr/local/lib/python3.6/dist-packages (6.5.1)\n",
            "Requirement already satisfied: websocket-client>=0.54.0 in /usr/local/lib/python3.6/dist-packages (from praw) (0.57.0)\n",
            "Requirement already satisfied: update-checker>=0.16 in /usr/local/lib/python3.6/dist-packages (from praw) (0.16)\n",
            "Requirement already satisfied: prawcore<2.0,>=1.0.1 in /usr/local/lib/python3.6/dist-packages (from praw) (1.0.1)\n",
            "Requirement already satisfied: six in /usr/local/lib/python3.6/dist-packages (from websocket-client>=0.54.0->praw) (1.12.0)\n",
            "Requirement already satisfied: requests>=2.3.0 in /usr/local/lib/python3.6/dist-packages (from update-checker>=0.16->praw) (2.21.0)\n",
            "Requirement already satisfied: urllib3<1.25,>=1.21.1 in /usr/local/lib/python3.6/dist-packages (from requests>=2.3.0->update-checker>=0.16->praw) (1.24.3)\n",
            "Requirement already satisfied: idna<2.9,>=2.5 in /usr/local/lib/python3.6/dist-packages (from requests>=2.3.0->update-checker>=0.16->praw) (2.8)\n",
            "Requirement already satisfied: certifi>=2017.4.17 in /usr/local/lib/python3.6/dist-packages (from requests>=2.3.0->update-checker>=0.16->praw) (2019.11.28)\n",
            "Requirement already satisfied: chardet<3.1.0,>=3.0.2 in /usr/local/lib/python3.6/dist-packages (from requests>=2.3.0->update-checker>=0.16->praw) (3.0.4)\n"
          ],
          "name": "stdout"
        }
      ]
    },
    {
      "cell_type": "markdown",
      "metadata": {
        "id": "YwGmQ82Z2_-x",
        "colab_type": "text"
      },
      "source": [
        "importing the required libraries"
      ]
    },
    {
      "cell_type": "code",
      "metadata": {
        "id": "iCZPzVtoO3Qm",
        "colab_type": "code",
        "colab": {}
      },
      "source": [
        "import praw\n",
        "import numpy as np \n",
        "import pandas as pd\n"
      ],
      "execution_count": 0,
      "outputs": []
    },
    {
      "cell_type": "markdown",
      "metadata": {
        "id": "qIUsmojcNf88",
        "colab_type": "text"
      },
      "source": [
        "for getting the reddit data from praw we need to enter the credentials"
      ]
    },
    {
      "cell_type": "code",
      "metadata": {
        "id": "YVmswRpeNe-i",
        "colab_type": "code",
        "colab": {}
      },
      "source": [
        "reddit = praw.Reddit(client_id='QPdCUgBcp4WinA', client_secret='HF-sKHVC5Os3gufVxWvzIKijNb4', user_agent='reddit-flair', username='reddit-flair', password='flair123')"
      ],
      "execution_count": 0,
      "outputs": []
    },
    {
      "cell_type": "markdown",
      "metadata": {
        "id": "6uiskvjvZsqF",
        "colab_type": "text"
      },
      "source": [
        "getting the subreddits and the topics and flairs"
      ]
    },
    {
      "cell_type": "code",
      "metadata": {
        "id": "i9heWAt4Zrgl",
        "colab_type": "code",
        "colab": {}
      },
      "source": [
        "subreddit = reddit.subreddit('india')\n",
        "labels_dict = {\"flair\":[], \"title\":[], \"score\":[], \"id\":[], \"url\":[], \"comms_num\": [], \"created\": [], \"body\":[], \"author\":[], \"comments\":[]}\n",
        "flairs = [\"AskIndia\", \"Non-Political\", \"[R]eddiquette\", \"Scheduled\", \"Photography\", \"Science/Technology\", \"Politics\", \"Business/Finance\", \"Policy/Economy\", \"Sports\", \"Food\", \"AMA\"]"
      ],
      "execution_count": 0,
      "outputs": []
    },
    {
      "cell_type": "markdown",
      "metadata": {
        "id": "7xUWd0nZask6",
        "colab_type": "text"
      },
      "source": [
        "appending the scrapped data into the dictionary"
      ]
    },
    {
      "cell_type": "code",
      "metadata": {
        "id": "CwcfG87yaqzE",
        "colab_type": "code",
        "colab": {}
      },
      "source": [
        "for flair in flairs:\n",
        "  \n",
        "  get_subreddits = subreddit.search(flair, limit=100)\n",
        "  \n",
        "  for submission in get_subreddits:\n",
        "    \n",
        "    labels_dict[\"flair\"].append(flair)\n",
        "    labels_dict[\"title\"].append(submission.title)\n",
        "    labels_dict[\"score\"].append(submission.score)\n",
        "    labels_dict[\"id\"].append(submission.id)\n",
        "    labels_dict[\"url\"].append(submission.url)\n",
        "    labels_dict[\"comms_num\"].append(submission.num_comments)\n",
        "    labels_dict[\"created\"].append(submission.created)\n",
        "    labels_dict[\"body\"].append(submission.selftext)\n",
        "    labels_dict[\"author\"].append(submission.author)\n",
        "    \n",
        "    submission.comments.replace_more(limit=None)\n",
        "    comment = ''\n",
        "    for top_level_comment in submission.comments:\n",
        "      comment = comment + ' ' + top_level_comment.body\n",
        "    labels_dict[\"comments\"].append(comment)\n",
        "    "
      ],
      "execution_count": 0,
      "outputs": []
    },
    {
      "cell_type": "markdown",
      "metadata": {
        "id": "Gxsm3X3gbTNC",
        "colab_type": "text"
      },
      "source": [
        "converting into dataframe and saving the csv file "
      ]
    },
    {
      "cell_type": "code",
      "metadata": {
        "id": "bOUsx9ABe8Fb",
        "colab_type": "code",
        "colab": {}
      },
      "source": [
        "import datetime as dt\n",
        "def get_date(created):\n",
        "    return dt.datetime.fromtimestamp(created)"
      ],
      "execution_count": 0,
      "outputs": []
    },
    {
      "cell_type": "code",
      "metadata": {
        "id": "tg-xy2rta8Dj",
        "colab_type": "code",
        "colab": {}
      },
      "source": [
        "data = pd.DataFrame(labels_dict)\n",
        "time =data[\"created\"].apply(get_date)\n",
        "data =data.assign(timestamp = time)\n",
        "del data['created']\n",
        "data.to_csv('reddit-india-data.csv', index=False)"
      ],
      "execution_count": 0,
      "outputs": []
    },
    {
      "cell_type": "code",
      "metadata": {
        "id": "uhLXrCpEfpke",
        "colab_type": "code",
        "colab": {}
      },
      "source": [
        ""
      ],
      "execution_count": 0,
      "outputs": []
    }
  ]
}
