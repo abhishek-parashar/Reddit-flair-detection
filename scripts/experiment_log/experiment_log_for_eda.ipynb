{
  "nbformat": 4,
  "nbformat_minor": 0,
  "metadata": {
    "colab": {
      "name": "experiment log for eda",
      "provenance": [],
      "toc_visible": true,
      "authorship_tag": "ABX9TyN3S+AI2O/K1RtUGMEkrYn3",
      "include_colab_link": true
    },
    "kernelspec": {
      "name": "python3",
      "display_name": "Python 3"
    }
  },
  "cells": [
    {
      "cell_type": "markdown",
      "metadata": {
        "id": "view-in-github",
        "colab_type": "text"
      },
      "source": [
        "<a href=\"https://colab.research.google.com/github/abhishek-parashar/Reddit-flair-detection/blob/master/experiment_log_for_eda.ipynb\" target=\"_parent\"><img src=\"https://colab.research.google.com/assets/colab-badge.svg\" alt=\"Open In Colab\"/></a>"
      ]
    },
    {
      "cell_type": "markdown",
      "metadata": {
        "id": "BWRC5W0ZYk5X",
        "colab_type": "text"
      },
      "source": [
        "### importing the required libraries"
      ]
    },
    {
      "cell_type": "code",
      "metadata": {
        "id": "uxc6mHosX-Yb",
        "colab_type": "code",
        "outputId": "4c87d56c-4f70-44fa-e9f3-b371a419e924",
        "colab": {
          "base_uri": "https://localhost:8080/",
          "height": 1000
        }
      },
      "source": [
        "import numpy as np \n",
        "import pandas as pd \n",
        "import seaborn as sns\n",
        "import matplotlib.pyplot as plt\n",
        "import numpy as np \n",
        "import pandas as pd\n",
        "import re\n",
        "import nltk\n",
        "from nltk.corpus import stopwords\n",
        "import datetime as dt\n",
        "nltk.download('all')\n",
        "from bs4 import BeautifulSoup"
      ],
      "execution_count": 1,
      "outputs": [
        {
          "output_type": "stream",
          "text": [
            "/usr/local/lib/python3.6/dist-packages/statsmodels/tools/_testing.py:19: FutureWarning: pandas.util.testing is deprecated. Use the functions in the public API at pandas.testing instead.\n",
            "  import pandas.util.testing as tm\n"
          ],
          "name": "stderr"
        },
        {
          "output_type": "stream",
          "text": [
            "[nltk_data] Downloading collection 'all'\n",
            "[nltk_data]    | \n",
            "[nltk_data]    | Downloading package abc to /root/nltk_data...\n",
            "[nltk_data]    |   Unzipping corpora/abc.zip.\n",
            "[nltk_data]    | Downloading package alpino to /root/nltk_data...\n",
            "[nltk_data]    |   Unzipping corpora/alpino.zip.\n",
            "[nltk_data]    | Downloading package biocreative_ppi to\n",
            "[nltk_data]    |     /root/nltk_data...\n",
            "[nltk_data]    |   Unzipping corpora/biocreative_ppi.zip.\n",
            "[nltk_data]    | Downloading package brown to /root/nltk_data...\n",
            "[nltk_data]    |   Unzipping corpora/brown.zip.\n",
            "[nltk_data]    | Downloading package brown_tei to /root/nltk_data...\n",
            "[nltk_data]    |   Unzipping corpora/brown_tei.zip.\n",
            "[nltk_data]    | Downloading package cess_cat to /root/nltk_data...\n",
            "[nltk_data]    |   Unzipping corpora/cess_cat.zip.\n",
            "[nltk_data]    | Downloading package cess_esp to /root/nltk_data...\n",
            "[nltk_data]    |   Unzipping corpora/cess_esp.zip.\n",
            "[nltk_data]    | Downloading package chat80 to /root/nltk_data...\n",
            "[nltk_data]    |   Unzipping corpora/chat80.zip.\n",
            "[nltk_data]    | Downloading package city_database to\n",
            "[nltk_data]    |     /root/nltk_data...\n",
            "[nltk_data]    |   Unzipping corpora/city_database.zip.\n",
            "[nltk_data]    | Downloading package cmudict to /root/nltk_data...\n",
            "[nltk_data]    |   Unzipping corpora/cmudict.zip.\n",
            "[nltk_data]    | Downloading package comparative_sentences to\n",
            "[nltk_data]    |     /root/nltk_data...\n",
            "[nltk_data]    |   Unzipping corpora/comparative_sentences.zip.\n",
            "[nltk_data]    | Downloading package comtrans to /root/nltk_data...\n",
            "[nltk_data]    | Downloading package conll2000 to /root/nltk_data...\n",
            "[nltk_data]    |   Unzipping corpora/conll2000.zip.\n",
            "[nltk_data]    | Downloading package conll2002 to /root/nltk_data...\n",
            "[nltk_data]    |   Unzipping corpora/conll2002.zip.\n",
            "[nltk_data]    | Downloading package conll2007 to /root/nltk_data...\n",
            "[nltk_data]    | Downloading package crubadan to /root/nltk_data...\n",
            "[nltk_data]    |   Unzipping corpora/crubadan.zip.\n",
            "[nltk_data]    | Downloading package dependency_treebank to\n",
            "[nltk_data]    |     /root/nltk_data...\n",
            "[nltk_data]    |   Unzipping corpora/dependency_treebank.zip.\n",
            "[nltk_data]    | Downloading package dolch to /root/nltk_data...\n",
            "[nltk_data]    |   Unzipping corpora/dolch.zip.\n",
            "[nltk_data]    | Downloading package europarl_raw to\n",
            "[nltk_data]    |     /root/nltk_data...\n",
            "[nltk_data]    |   Unzipping corpora/europarl_raw.zip.\n",
            "[nltk_data]    | Downloading package floresta to /root/nltk_data...\n",
            "[nltk_data]    |   Unzipping corpora/floresta.zip.\n",
            "[nltk_data]    | Downloading package framenet_v15 to\n",
            "[nltk_data]    |     /root/nltk_data...\n",
            "[nltk_data]    |   Unzipping corpora/framenet_v15.zip.\n",
            "[nltk_data]    | Downloading package framenet_v17 to\n",
            "[nltk_data]    |     /root/nltk_data...\n",
            "[nltk_data]    |   Unzipping corpora/framenet_v17.zip.\n",
            "[nltk_data]    | Downloading package gazetteers to /root/nltk_data...\n",
            "[nltk_data]    |   Unzipping corpora/gazetteers.zip.\n",
            "[nltk_data]    | Downloading package genesis to /root/nltk_data...\n",
            "[nltk_data]    |   Unzipping corpora/genesis.zip.\n",
            "[nltk_data]    | Downloading package gutenberg to /root/nltk_data...\n",
            "[nltk_data]    |   Unzipping corpora/gutenberg.zip.\n",
            "[nltk_data]    | Downloading package ieer to /root/nltk_data...\n",
            "[nltk_data]    |   Unzipping corpora/ieer.zip.\n",
            "[nltk_data]    | Downloading package inaugural to /root/nltk_data...\n",
            "[nltk_data]    |   Unzipping corpora/inaugural.zip.\n",
            "[nltk_data]    | Downloading package indian to /root/nltk_data...\n",
            "[nltk_data]    |   Unzipping corpora/indian.zip.\n",
            "[nltk_data]    | Downloading package jeita to /root/nltk_data...\n",
            "[nltk_data]    | Downloading package kimmo to /root/nltk_data...\n",
            "[nltk_data]    |   Unzipping corpora/kimmo.zip.\n",
            "[nltk_data]    | Downloading package knbc to /root/nltk_data...\n",
            "[nltk_data]    | Downloading package lin_thesaurus to\n",
            "[nltk_data]    |     /root/nltk_data...\n",
            "[nltk_data]    |   Unzipping corpora/lin_thesaurus.zip.\n",
            "[nltk_data]    | Downloading package mac_morpho to /root/nltk_data...\n",
            "[nltk_data]    |   Unzipping corpora/mac_morpho.zip.\n",
            "[nltk_data]    | Downloading package machado to /root/nltk_data...\n",
            "[nltk_data]    | Downloading package masc_tagged to /root/nltk_data...\n",
            "[nltk_data]    | Downloading package moses_sample to\n",
            "[nltk_data]    |     /root/nltk_data...\n",
            "[nltk_data]    |   Unzipping models/moses_sample.zip.\n",
            "[nltk_data]    | Downloading package movie_reviews to\n",
            "[nltk_data]    |     /root/nltk_data...\n",
            "[nltk_data]    |   Unzipping corpora/movie_reviews.zip.\n",
            "[nltk_data]    | Downloading package names to /root/nltk_data...\n",
            "[nltk_data]    |   Unzipping corpora/names.zip.\n",
            "[nltk_data]    | Downloading package nombank.1.0 to /root/nltk_data...\n",
            "[nltk_data]    | Downloading package nps_chat to /root/nltk_data...\n",
            "[nltk_data]    |   Unzipping corpora/nps_chat.zip.\n",
            "[nltk_data]    | Downloading package omw to /root/nltk_data...\n",
            "[nltk_data]    |   Unzipping corpora/omw.zip.\n",
            "[nltk_data]    | Downloading package opinion_lexicon to\n",
            "[nltk_data]    |     /root/nltk_data...\n",
            "[nltk_data]    |   Unzipping corpora/opinion_lexicon.zip.\n",
            "[nltk_data]    | Downloading package paradigms to /root/nltk_data...\n",
            "[nltk_data]    |   Unzipping corpora/paradigms.zip.\n",
            "[nltk_data]    | Downloading package pil to /root/nltk_data...\n",
            "[nltk_data]    |   Unzipping corpora/pil.zip.\n",
            "[nltk_data]    | Downloading package pl196x to /root/nltk_data...\n",
            "[nltk_data]    |   Unzipping corpora/pl196x.zip.\n",
            "[nltk_data]    | Downloading package ppattach to /root/nltk_data...\n",
            "[nltk_data]    |   Unzipping corpora/ppattach.zip.\n",
            "[nltk_data]    | Downloading package problem_reports to\n",
            "[nltk_data]    |     /root/nltk_data...\n",
            "[nltk_data]    |   Unzipping corpora/problem_reports.zip.\n",
            "[nltk_data]    | Downloading package propbank to /root/nltk_data...\n",
            "[nltk_data]    | Downloading package ptb to /root/nltk_data...\n",
            "[nltk_data]    |   Unzipping corpora/ptb.zip.\n",
            "[nltk_data]    | Downloading package product_reviews_1 to\n",
            "[nltk_data]    |     /root/nltk_data...\n",
            "[nltk_data]    |   Unzipping corpora/product_reviews_1.zip.\n",
            "[nltk_data]    | Downloading package product_reviews_2 to\n",
            "[nltk_data]    |     /root/nltk_data...\n",
            "[nltk_data]    |   Unzipping corpora/product_reviews_2.zip.\n",
            "[nltk_data]    | Downloading package pros_cons to /root/nltk_data...\n",
            "[nltk_data]    |   Unzipping corpora/pros_cons.zip.\n",
            "[nltk_data]    | Downloading package qc to /root/nltk_data...\n",
            "[nltk_data]    |   Unzipping corpora/qc.zip.\n",
            "[nltk_data]    | Downloading package reuters to /root/nltk_data...\n",
            "[nltk_data]    | Downloading package rte to /root/nltk_data...\n",
            "[nltk_data]    |   Unzipping corpora/rte.zip.\n",
            "[nltk_data]    | Downloading package semcor to /root/nltk_data...\n",
            "[nltk_data]    | Downloading package senseval to /root/nltk_data...\n",
            "[nltk_data]    |   Unzipping corpora/senseval.zip.\n",
            "[nltk_data]    | Downloading package sentiwordnet to\n",
            "[nltk_data]    |     /root/nltk_data...\n",
            "[nltk_data]    |   Unzipping corpora/sentiwordnet.zip.\n",
            "[nltk_data]    | Downloading package sentence_polarity to\n",
            "[nltk_data]    |     /root/nltk_data...\n",
            "[nltk_data]    |   Unzipping corpora/sentence_polarity.zip.\n",
            "[nltk_data]    | Downloading package shakespeare to /root/nltk_data...\n",
            "[nltk_data]    |   Unzipping corpora/shakespeare.zip.\n",
            "[nltk_data]    | Downloading package sinica_treebank to\n",
            "[nltk_data]    |     /root/nltk_data...\n",
            "[nltk_data]    |   Unzipping corpora/sinica_treebank.zip.\n",
            "[nltk_data]    | Downloading package smultron to /root/nltk_data...\n",
            "[nltk_data]    |   Unzipping corpora/smultron.zip.\n",
            "[nltk_data]    | Downloading package state_union to /root/nltk_data...\n",
            "[nltk_data]    |   Unzipping corpora/state_union.zip.\n",
            "[nltk_data]    | Downloading package stopwords to /root/nltk_data...\n",
            "[nltk_data]    |   Unzipping corpora/stopwords.zip.\n",
            "[nltk_data]    | Downloading package subjectivity to\n",
            "[nltk_data]    |     /root/nltk_data...\n",
            "[nltk_data]    |   Unzipping corpora/subjectivity.zip.\n",
            "[nltk_data]    | Downloading package swadesh to /root/nltk_data...\n",
            "[nltk_data]    |   Unzipping corpora/swadesh.zip.\n",
            "[nltk_data]    | Downloading package switchboard to /root/nltk_data...\n",
            "[nltk_data]    |   Unzipping corpora/switchboard.zip.\n",
            "[nltk_data]    | Downloading package timit to /root/nltk_data...\n",
            "[nltk_data]    |   Unzipping corpora/timit.zip.\n",
            "[nltk_data]    | Downloading package toolbox to /root/nltk_data...\n",
            "[nltk_data]    |   Unzipping corpora/toolbox.zip.\n",
            "[nltk_data]    | Downloading package treebank to /root/nltk_data...\n",
            "[nltk_data]    |   Unzipping corpora/treebank.zip.\n",
            "[nltk_data]    | Downloading package twitter_samples to\n",
            "[nltk_data]    |     /root/nltk_data...\n",
            "[nltk_data]    |   Unzipping corpora/twitter_samples.zip.\n",
            "[nltk_data]    | Downloading package udhr to /root/nltk_data...\n",
            "[nltk_data]    |   Unzipping corpora/udhr.zip.\n",
            "[nltk_data]    | Downloading package udhr2 to /root/nltk_data...\n",
            "[nltk_data]    |   Unzipping corpora/udhr2.zip.\n",
            "[nltk_data]    | Downloading package unicode_samples to\n",
            "[nltk_data]    |     /root/nltk_data...\n",
            "[nltk_data]    |   Unzipping corpora/unicode_samples.zip.\n",
            "[nltk_data]    | Downloading package universal_treebanks_v20 to\n",
            "[nltk_data]    |     /root/nltk_data...\n",
            "[nltk_data]    | Downloading package verbnet to /root/nltk_data...\n",
            "[nltk_data]    |   Unzipping corpora/verbnet.zip.\n",
            "[nltk_data]    | Downloading package verbnet3 to /root/nltk_data...\n",
            "[nltk_data]    |   Unzipping corpora/verbnet3.zip.\n",
            "[nltk_data]    | Downloading package webtext to /root/nltk_data...\n",
            "[nltk_data]    |   Unzipping corpora/webtext.zip.\n",
            "[nltk_data]    | Downloading package wordnet to /root/nltk_data...\n",
            "[nltk_data]    |   Unzipping corpora/wordnet.zip.\n",
            "[nltk_data]    | Downloading package wordnet_ic to /root/nltk_data...\n",
            "[nltk_data]    |   Unzipping corpora/wordnet_ic.zip.\n",
            "[nltk_data]    | Downloading package words to /root/nltk_data...\n",
            "[nltk_data]    |   Unzipping corpora/words.zip.\n",
            "[nltk_data]    | Downloading package ycoe to /root/nltk_data...\n",
            "[nltk_data]    |   Unzipping corpora/ycoe.zip.\n",
            "[nltk_data]    | Downloading package rslp to /root/nltk_data...\n",
            "[nltk_data]    |   Unzipping stemmers/rslp.zip.\n",
            "[nltk_data]    | Downloading package maxent_treebank_pos_tagger to\n",
            "[nltk_data]    |     /root/nltk_data...\n",
            "[nltk_data]    |   Unzipping taggers/maxent_treebank_pos_tagger.zip.\n",
            "[nltk_data]    | Downloading package universal_tagset to\n",
            "[nltk_data]    |     /root/nltk_data...\n",
            "[nltk_data]    |   Unzipping taggers/universal_tagset.zip.\n",
            "[nltk_data]    | Downloading package maxent_ne_chunker to\n",
            "[nltk_data]    |     /root/nltk_data...\n",
            "[nltk_data]    |   Unzipping chunkers/maxent_ne_chunker.zip.\n",
            "[nltk_data]    | Downloading package punkt to /root/nltk_data...\n",
            "[nltk_data]    |   Unzipping tokenizers/punkt.zip.\n",
            "[nltk_data]    | Downloading package book_grammars to\n",
            "[nltk_data]    |     /root/nltk_data...\n",
            "[nltk_data]    |   Unzipping grammars/book_grammars.zip.\n",
            "[nltk_data]    | Downloading package sample_grammars to\n",
            "[nltk_data]    |     /root/nltk_data...\n",
            "[nltk_data]    |   Unzipping grammars/sample_grammars.zip.\n",
            "[nltk_data]    | Downloading package spanish_grammars to\n",
            "[nltk_data]    |     /root/nltk_data...\n",
            "[nltk_data]    |   Unzipping grammars/spanish_grammars.zip.\n",
            "[nltk_data]    | Downloading package basque_grammars to\n",
            "[nltk_data]    |     /root/nltk_data...\n",
            "[nltk_data]    |   Unzipping grammars/basque_grammars.zip.\n",
            "[nltk_data]    | Downloading package large_grammars to\n",
            "[nltk_data]    |     /root/nltk_data...\n",
            "[nltk_data]    |   Unzipping grammars/large_grammars.zip.\n",
            "[nltk_data]    | Downloading package tagsets to /root/nltk_data...\n",
            "[nltk_data]    |   Unzipping help/tagsets.zip.\n",
            "[nltk_data]    | Downloading package snowball_data to\n",
            "[nltk_data]    |     /root/nltk_data...\n",
            "[nltk_data]    | Downloading package bllip_wsj_no_aux to\n",
            "[nltk_data]    |     /root/nltk_data...\n",
            "[nltk_data]    |   Unzipping models/bllip_wsj_no_aux.zip.\n",
            "[nltk_data]    | Downloading package word2vec_sample to\n",
            "[nltk_data]    |     /root/nltk_data...\n",
            "[nltk_data]    |   Unzipping models/word2vec_sample.zip.\n",
            "[nltk_data]    | Downloading package panlex_swadesh to\n",
            "[nltk_data]    |     /root/nltk_data...\n",
            "[nltk_data]    | Downloading package mte_teip5 to /root/nltk_data...\n",
            "[nltk_data]    |   Unzipping corpora/mte_teip5.zip.\n",
            "[nltk_data]    | Downloading package averaged_perceptron_tagger to\n",
            "[nltk_data]    |     /root/nltk_data...\n",
            "[nltk_data]    |   Unzipping taggers/averaged_perceptron_tagger.zip.\n",
            "[nltk_data]    | Downloading package averaged_perceptron_tagger_ru to\n",
            "[nltk_data]    |     /root/nltk_data...\n",
            "[nltk_data]    |   Unzipping\n",
            "[nltk_data]    |       taggers/averaged_perceptron_tagger_ru.zip.\n",
            "[nltk_data]    | Downloading package perluniprops to\n",
            "[nltk_data]    |     /root/nltk_data...\n",
            "[nltk_data]    |   Unzipping misc/perluniprops.zip.\n",
            "[nltk_data]    | Downloading package nonbreaking_prefixes to\n",
            "[nltk_data]    |     /root/nltk_data...\n",
            "[nltk_data]    |   Unzipping corpora/nonbreaking_prefixes.zip.\n",
            "[nltk_data]    | Downloading package vader_lexicon to\n",
            "[nltk_data]    |     /root/nltk_data...\n",
            "[nltk_data]    | Downloading package porter_test to /root/nltk_data...\n",
            "[nltk_data]    |   Unzipping stemmers/porter_test.zip.\n",
            "[nltk_data]    | Downloading package wmt15_eval to /root/nltk_data...\n",
            "[nltk_data]    |   Unzipping models/wmt15_eval.zip.\n",
            "[nltk_data]    | Downloading package mwa_ppdb to /root/nltk_data...\n",
            "[nltk_data]    |   Unzipping misc/mwa_ppdb.zip.\n",
            "[nltk_data]    | \n",
            "[nltk_data]  Done downloading collection all\n"
          ],
          "name": "stdout"
        }
      ]
    },
    {
      "cell_type": "markdown",
      "metadata": {
        "id": "FkV5P8sAYwb2",
        "colab_type": "text"
      },
      "source": [
        "## reading the file \n"
      ]
    },
    {
      "cell_type": "code",
      "metadata": {
        "id": "8TCiW4I1YT0F",
        "colab_type": "code",
        "outputId": "5cd4e65e-ab75-448d-ff36-461e089dcbde",
        "colab": {
          "base_uri": "https://localhost:8080/",
          "height": 1000
        }
      },
      "source": [
        "pd.read_csv('data.csv')"
      ],
      "execution_count": 0,
      "outputs": [
        {
          "output_type": "execute_result",
          "data": {
            "text/html": [
              "<div>\n",
              "<style scoped>\n",
              "    .dataframe tbody tr th:only-of-type {\n",
              "        vertical-align: middle;\n",
              "    }\n",
              "\n",
              "    .dataframe tbody tr th {\n",
              "        vertical-align: top;\n",
              "    }\n",
              "\n",
              "    .dataframe thead th {\n",
              "        text-align: right;\n",
              "    }\n",
              "</style>\n",
              "<table border=\"1\" class=\"dataframe\">\n",
              "  <thead>\n",
              "    <tr style=\"text-align: right;\">\n",
              "      <th></th>\n",
              "      <th>sno.</th>\n",
              "      <th>flair</th>\n",
              "      <th>title</th>\n",
              "      <th>score</th>\n",
              "      <th>id</th>\n",
              "      <th>url</th>\n",
              "      <th>comms_num</th>\n",
              "      <th>body</th>\n",
              "      <th>author</th>\n",
              "      <th>comments</th>\n",
              "      <th>timestamp</th>\n",
              "      <th>combined_features</th>\n",
              "    </tr>\n",
              "  </thead>\n",
              "  <tbody>\n",
              "    <tr>\n",
              "      <th>0</th>\n",
              "      <td>0</td>\n",
              "      <td>AskIndia</td>\n",
              "      <td>4 days ago pending orders 100 million hydroxyc...</td>\n",
              "      <td>95.0</td>\n",
              "      <td>fwjdqr</td>\n",
              "      <td>https://www.reddit.com/r/india/comments/fwjdqr...</td>\n",
              "      <td>6.0</td>\n",
              "      <td>getting frantic calls pharma customers delayed...</td>\n",
              "      <td>india_ko_vanakkam</td>\n",
              "      <td>modi stockholm syndrome fair evidence chloroqu...</td>\n",
              "      <td>07-04-2020 20:07</td>\n",
              "      <td>4 days ago pending orders 100 million hydroxyc...</td>\n",
              "    </tr>\n",
              "    <tr>\n",
              "      <th>1</th>\n",
              "      <td>1</td>\n",
              "      <td>AskIndia</td>\n",
              "      <td>randians big time users dating apps like tinde...</td>\n",
              "      <td>18.0</td>\n",
              "      <td>fizkkk</td>\n",
              "      <td>https://www.reddit.com/r/india/comments/fizkkk...</td>\n",
              "      <td>19.0</td>\n",
              "      <td>id stint apps couple months one point didnt fe...</td>\n",
              "      <td>__knockknockturnal__</td>\n",
              "      <td>someone matched tell im fat cat 1 general foll...</td>\n",
              "      <td>15-03-2020 18:48</td>\n",
              "      <td>randians big time users dating apps like tinde...</td>\n",
              "    </tr>\n",
              "    <tr>\n",
              "      <th>2</th>\n",
              "      <td>2</td>\n",
              "      <td>AskIndia</td>\n",
              "      <td>r india thinks flat earthers</td>\n",
              "      <td>4.0</td>\n",
              "      <td>f25vx0</td>\n",
              "      <td>https://www.reddit.com/r/india/comments/f25vx0...</td>\n",
              "      <td>31.0</td>\n",
              "      <td>encountered foreigner ig says round earth hoax...</td>\n",
              "      <td>Dev1003</td>\n",
              "      <td>havent found indian yet believes earth flat de...</td>\n",
              "      <td>11-02-2020 17:10</td>\n",
              "      <td>r india thinks flat earthershavent found india...</td>\n",
              "    </tr>\n",
              "    <tr>\n",
              "      <th>3</th>\n",
              "      <td>3</td>\n",
              "      <td>AskIndia</td>\n",
              "      <td>people left 9 5 jobs pursue career music art f...</td>\n",
              "      <td>45.0</td>\n",
              "      <td>dtvliq</td>\n",
              "      <td>https://www.reddit.com/r/india/comments/dtvliq...</td>\n",
              "      <td>34.0</td>\n",
              "      <td>couldnt add askindia flair mobile browser</td>\n",
              "      <td>c0mrade34</td>\n",
              "      <td>engineer advertisement shoots since last 1year...</td>\n",
              "      <td>09-11-2019 20:57</td>\n",
              "      <td>people left 9 5 jobs pursue career music art f...</td>\n",
              "    </tr>\n",
              "    <tr>\n",
              "      <th>4</th>\n",
              "      <td>4</td>\n",
              "      <td>AskIndia</td>\n",
              "      <td>somebody want kill full family</td>\n",
              "      <td>92.0</td>\n",
              "      <td>b7pvwt</td>\n",
              "      <td>https://www.reddit.com/r/india/comments/b7pvwt...</td>\n",
              "      <td>24.0</td>\n",
              "      <td>24hrs local police station register case dont ...</td>\n",
              "      <td>amitkumarthakur</td>\n",
              "      <td>calm downgo sp office town file grievance imme...</td>\n",
              "      <td>01-04-2019 01:00</td>\n",
              "      <td>somebody want kill full familycalm downgo sp o...</td>\n",
              "    </tr>\n",
              "    <tr>\n",
              "      <th>...</th>\n",
              "      <td>...</td>\n",
              "      <td>...</td>\n",
              "      <td>...</td>\n",
              "      <td>...</td>\n",
              "      <td>...</td>\n",
              "      <td>...</td>\n",
              "      <td>...</td>\n",
              "      <td>...</td>\n",
              "      <td>...</td>\n",
              "      <td>...</td>\n",
              "      <td>...</td>\n",
              "      <td>...</td>\n",
              "    </tr>\n",
              "    <tr>\n",
              "      <th>1245</th>\n",
              "      <td>1213</td>\n",
              "      <td>Coronavirus</td>\n",
              "      <td>coronavirus india hunger real problem</td>\n",
              "      <td>15.0</td>\n",
              "      <td>fwk2iv</td>\n",
              "      <td>https://www.rediff.com/news/interview/coronavi...</td>\n",
              "      <td>0.0</td>\n",
              "      <td>NaN</td>\n",
              "      <td>Mulaayam_Yadav</td>\n",
              "      <td>NaN</td>\n",
              "      <td>07-04-2020 20:59</td>\n",
              "      <td>coronavirus india hunger real problemnanhttps:...</td>\n",
              "    </tr>\n",
              "    <tr>\n",
              "      <th>1246</th>\n",
              "      <td>1214</td>\n",
              "      <td>Coronavirus</td>\n",
              "      <td>need investigate nso group behind pegasus soft...</td>\n",
              "      <td>52.0</td>\n",
              "      <td>fyawr9</td>\n",
              "      <td>https://www.reddit.com/r/india/comments/fyawr9...</td>\n",
              "      <td>2.0</td>\n",
              "      <td>https previewreddit p3vb8eexzxr41pngwidth1024f...</td>\n",
              "      <td>InternetFreedomIn</td>\n",
              "      <td>nso group isreal would say nso make softwares ...</td>\n",
              "      <td>10-04-2020 15:25</td>\n",
              "      <td>need investigate nso group behind pegasus soft...</td>\n",
              "    </tr>\n",
              "    <tr>\n",
              "      <th>1247</th>\n",
              "      <td>1215</td>\n",
              "      <td>Coronavirus</td>\n",
              "      <td>coronavirus dont target doctors asking protect...</td>\n",
              "      <td>71.0</td>\n",
              "      <td>fwcvg1</td>\n",
              "      <td>https://www.thehindu.com/news/national/coronav...</td>\n",
              "      <td>2.0</td>\n",
              "      <td>NaN</td>\n",
              "      <td>naveen_reloaded</td>\n",
              "      <td>thali nhi bajai kya aur diya nhi jalaya kya hu...</td>\n",
              "      <td>07-04-2020 11:08</td>\n",
              "      <td>coronavirus dont target doctors asking protect...</td>\n",
              "    </tr>\n",
              "    <tr>\n",
              "      <th>1248</th>\n",
              "      <td>1216</td>\n",
              "      <td>Coronavirus</td>\n",
              "      <td>india lifts export ban potential coronavirus d...</td>\n",
              "      <td>12.0</td>\n",
              "      <td>fwkrox</td>\n",
              "      <td>https://asia.nikkei.com/Spotlight/Coronavirus/...</td>\n",
              "      <td>5.0</td>\n",
              "      <td>NaN</td>\n",
              "      <td>vinacham</td>\n",
              "      <td>sed bhakt noises deleted request let trump the...</td>\n",
              "      <td>07-04-2020 21:46</td>\n",
              "      <td>india lifts export ban potential coronavirus d...</td>\n",
              "    </tr>\n",
              "    <tr>\n",
              "      <th>1249</th>\n",
              "      <td>1217</td>\n",
              "      <td>Coronavirus</td>\n",
              "      <td>33 #covid19 positive cases reported haryana to...</td>\n",
              "      <td>13.0</td>\n",
              "      <td>fwkiil</td>\n",
              "      <td>https://twitter.com/ANI/status/124751605800240...</td>\n",
              "      <td>0.0</td>\n",
              "      <td>NaN</td>\n",
              "      <td>VivaLatino</td>\n",
              "      <td>NaN</td>\n",
              "      <td>07-04-2020 21:29</td>\n",
              "      <td>33 #covid19 positive cases reported haryana to...</td>\n",
              "    </tr>\n",
              "  </tbody>\n",
              "</table>\n",
              "<p>1250 rows × 12 columns</p>\n",
              "</div>"
            ],
            "text/plain": [
              "      sno.  ...                                  combined_features\n",
              "0        0  ...  4 days ago pending orders 100 million hydroxyc...\n",
              "1        1  ...  randians big time users dating apps like tinde...\n",
              "2        2  ...  r india thinks flat earthershavent found india...\n",
              "3        3  ...  people left 9 5 jobs pursue career music art f...\n",
              "4        4  ...  somebody want kill full familycalm downgo sp o...\n",
              "...    ...  ...                                                ...\n",
              "1245  1213  ...  coronavirus india hunger real problemnanhttps:...\n",
              "1246  1214  ...  need investigate nso group behind pegasus soft...\n",
              "1247  1215  ...  coronavirus dont target doctors asking protect...\n",
              "1248  1216  ...  india lifts export ban potential coronavirus d...\n",
              "1249  1217  ...  33 #covid19 positive cases reported haryana to...\n",
              "\n",
              "[1250 rows x 12 columns]"
            ]
          },
          "metadata": {
            "tags": []
          },
          "execution_count": 30
        }
      ]
    },
    {
      "cell_type": "code",
      "metadata": {
        "id": "cC4JwCpDY_gT",
        "colab_type": "code",
        "outputId": "df6ca6ca-049d-4979-8bfe-f7c8bda3ba83",
        "colab": {
          "base_uri": "https://localhost:8080/",
          "height": 585
        }
      },
      "source": [
        "data.head()"
      ],
      "execution_count": 0,
      "outputs": [
        {
          "output_type": "execute_result",
          "data": {
            "text/html": [
              "<div>\n",
              "<style scoped>\n",
              "    .dataframe tbody tr th:only-of-type {\n",
              "        vertical-align: middle;\n",
              "    }\n",
              "\n",
              "    .dataframe tbody tr th {\n",
              "        vertical-align: top;\n",
              "    }\n",
              "\n",
              "    .dataframe thead th {\n",
              "        text-align: right;\n",
              "    }\n",
              "</style>\n",
              "<table border=\"1\" class=\"dataframe\">\n",
              "  <thead>\n",
              "    <tr style=\"text-align: right;\">\n",
              "      <th></th>\n",
              "      <th>flair</th>\n",
              "      <th>title</th>\n",
              "      <th>score</th>\n",
              "      <th>id</th>\n",
              "      <th>url</th>\n",
              "      <th>comms_num</th>\n",
              "      <th>body</th>\n",
              "      <th>author</th>\n",
              "      <th>comments</th>\n",
              "      <th>timestamp</th>\n",
              "      <th>combined_features</th>\n",
              "    </tr>\n",
              "  </thead>\n",
              "  <tbody>\n",
              "    <tr>\n",
              "      <th>0</th>\n",
              "      <td>AskIndia</td>\n",
              "      <td>4 days ago pending orders 100 million hydroxyc...</td>\n",
              "      <td>95.0</td>\n",
              "      <td>fwjdqr</td>\n",
              "      <td>https://www.reddit.com/r/india/comments/fwjdqr...</td>\n",
              "      <td>6.0</td>\n",
              "      <td>getting frantic calls pharma customers delayed...</td>\n",
              "      <td>india_ko_vanakkam</td>\n",
              "      <td>modi stockholm syndrome fair evidence chloroqu...</td>\n",
              "      <td>07-04-2020 20:07</td>\n",
              "      <td>4 days ago pending orders 100 million hydroxyc...</td>\n",
              "    </tr>\n",
              "    <tr>\n",
              "      <th>1</th>\n",
              "      <td>AskIndia</td>\n",
              "      <td>randians big time users dating apps like tinde...</td>\n",
              "      <td>18.0</td>\n",
              "      <td>fizkkk</td>\n",
              "      <td>https://www.reddit.com/r/india/comments/fizkkk...</td>\n",
              "      <td>19.0</td>\n",
              "      <td>id stint apps couple months one point didnt fe...</td>\n",
              "      <td>__knockknockturnal__</td>\n",
              "      <td>someone matched tell im fat cat 1 general foll...</td>\n",
              "      <td>15-03-2020 18:48</td>\n",
              "      <td>randians big time users dating apps like tinde...</td>\n",
              "    </tr>\n",
              "    <tr>\n",
              "      <th>2</th>\n",
              "      <td>AskIndia</td>\n",
              "      <td>r india thinks flat earthers</td>\n",
              "      <td>4.0</td>\n",
              "      <td>f25vx0</td>\n",
              "      <td>https://www.reddit.com/r/india/comments/f25vx0...</td>\n",
              "      <td>31.0</td>\n",
              "      <td>encountered foreigner ig says round earth hoax...</td>\n",
              "      <td>Dev1003</td>\n",
              "      <td>havent found indian yet believes earth flat de...</td>\n",
              "      <td>11-02-2020 17:10</td>\n",
              "      <td>r india thinks flat earthershavent found india...</td>\n",
              "    </tr>\n",
              "    <tr>\n",
              "      <th>3</th>\n",
              "      <td>AskIndia</td>\n",
              "      <td>people left 9 5 jobs pursue career music art f...</td>\n",
              "      <td>45.0</td>\n",
              "      <td>dtvliq</td>\n",
              "      <td>https://www.reddit.com/r/india/comments/dtvliq...</td>\n",
              "      <td>34.0</td>\n",
              "      <td>couldnt add askindia flair mobile browser</td>\n",
              "      <td>c0mrade34</td>\n",
              "      <td>engineer advertisement shoots since last 1year...</td>\n",
              "      <td>09-11-2019 20:57</td>\n",
              "      <td>people left 9 5 jobs pursue career music art f...</td>\n",
              "    </tr>\n",
              "    <tr>\n",
              "      <th>4</th>\n",
              "      <td>AskIndia</td>\n",
              "      <td>somebody want kill full family</td>\n",
              "      <td>92.0</td>\n",
              "      <td>b7pvwt</td>\n",
              "      <td>https://www.reddit.com/r/india/comments/b7pvwt...</td>\n",
              "      <td>24.0</td>\n",
              "      <td>24hrs local police station register case dont ...</td>\n",
              "      <td>amitkumarthakur</td>\n",
              "      <td>calm downgo sp office town file grievance imme...</td>\n",
              "      <td>01-04-2019 01:00</td>\n",
              "      <td>somebody want kill full familycalm downgo sp o...</td>\n",
              "    </tr>\n",
              "  </tbody>\n",
              "</table>\n",
              "</div>"
            ],
            "text/plain": [
              "      flair  ...                                  combined_features\n",
              "0  AskIndia  ...  4 days ago pending orders 100 million hydroxyc...\n",
              "1  AskIndia  ...  randians big time users dating apps like tinde...\n",
              "2  AskIndia  ...  r india thinks flat earthershavent found india...\n",
              "3  AskIndia  ...  people left 9 5 jobs pursue career music art f...\n",
              "4  AskIndia  ...  somebody want kill full familycalm downgo sp o...\n",
              "\n",
              "[5 rows x 11 columns]"
            ]
          },
          "metadata": {
            "tags": []
          },
          "execution_count": 31
        }
      ]
    },
    {
      "cell_type": "markdown",
      "metadata": {
        "id": "BY_-JgE1ZU-S",
        "colab_type": "text"
      },
      "source": [
        "looking for the data shape "
      ]
    },
    {
      "cell_type": "code",
      "metadata": {
        "id": "3blmFPE7ZFB1",
        "colab_type": "code",
        "outputId": "b48d5d8e-a304-4f86-96ff-6625eca6f0cb",
        "colab": {
          "base_uri": "https://localhost:8080/",
          "height": 34
        }
      },
      "source": [
        "data.shape"
      ],
      "execution_count": 0,
      "outputs": [
        {
          "output_type": "execute_result",
          "data": {
            "text/plain": [
              "(267, 11)"
            ]
          },
          "metadata": {
            "tags": []
          },
          "execution_count": 25
        }
      ]
    },
    {
      "cell_type": "markdown",
      "metadata": {
        "id": "g5Het925Zq_e",
        "colab_type": "text"
      },
      "source": [
        "names of columns"
      ]
    },
    {
      "cell_type": "code",
      "metadata": {
        "id": "3Q-1qHuNZ0s5",
        "colab_type": "code",
        "outputId": "54b5106e-e22c-4ae1-f4d7-73bfe25fa45d",
        "colab": {
          "base_uri": "https://localhost:8080/",
          "height": 67
        }
      },
      "source": [
        "data.columns"
      ],
      "execution_count": 0,
      "outputs": [
        {
          "output_type": "execute_result",
          "data": {
            "text/plain": [
              "Index(['flair', 'title', 'score', 'id', 'url', 'comms_num', 'body', 'author',\n",
              "       'comments', 'timestamp', 'combined_features'],\n",
              "      dtype='object')"
            ]
          },
          "metadata": {
            "tags": []
          },
          "execution_count": 32
        }
      ]
    },
    {
      "cell_type": "code",
      "metadata": {
        "id": "AFbywY9AaoVP",
        "colab_type": "code",
        "outputId": "81d167ac-fb85-4b30-9184-b27250539774",
        "colab": {
          "base_uri": "https://localhost:8080/",
          "height": 585
        }
      },
      "source": [
        "data.head()"
      ],
      "execution_count": 0,
      "outputs": [
        {
          "output_type": "execute_result",
          "data": {
            "text/html": [
              "<div>\n",
              "<style scoped>\n",
              "    .dataframe tbody tr th:only-of-type {\n",
              "        vertical-align: middle;\n",
              "    }\n",
              "\n",
              "    .dataframe tbody tr th {\n",
              "        vertical-align: top;\n",
              "    }\n",
              "\n",
              "    .dataframe thead th {\n",
              "        text-align: right;\n",
              "    }\n",
              "</style>\n",
              "<table border=\"1\" class=\"dataframe\">\n",
              "  <thead>\n",
              "    <tr style=\"text-align: right;\">\n",
              "      <th></th>\n",
              "      <th>flair</th>\n",
              "      <th>title</th>\n",
              "      <th>score</th>\n",
              "      <th>id</th>\n",
              "      <th>url</th>\n",
              "      <th>comms_num</th>\n",
              "      <th>body</th>\n",
              "      <th>author</th>\n",
              "      <th>comments</th>\n",
              "      <th>timestamp</th>\n",
              "      <th>combined_features</th>\n",
              "    </tr>\n",
              "  </thead>\n",
              "  <tbody>\n",
              "    <tr>\n",
              "      <th>0</th>\n",
              "      <td>AskIndia</td>\n",
              "      <td>4 days ago pending orders 100 million hydroxyc...</td>\n",
              "      <td>95.0</td>\n",
              "      <td>fwjdqr</td>\n",
              "      <td>https://www.reddit.com/r/india/comments/fwjdqr...</td>\n",
              "      <td>6.0</td>\n",
              "      <td>getting frantic calls pharma customers delayed...</td>\n",
              "      <td>india_ko_vanakkam</td>\n",
              "      <td>modi stockholm syndrome fair evidence chloroqu...</td>\n",
              "      <td>07-04-2020 20:07</td>\n",
              "      <td>4 days ago pending orders 100 million hydroxyc...</td>\n",
              "    </tr>\n",
              "    <tr>\n",
              "      <th>1</th>\n",
              "      <td>AskIndia</td>\n",
              "      <td>randians big time users dating apps like tinde...</td>\n",
              "      <td>18.0</td>\n",
              "      <td>fizkkk</td>\n",
              "      <td>https://www.reddit.com/r/india/comments/fizkkk...</td>\n",
              "      <td>19.0</td>\n",
              "      <td>id stint apps couple months one point didnt fe...</td>\n",
              "      <td>__knockknockturnal__</td>\n",
              "      <td>someone matched tell im fat cat 1 general foll...</td>\n",
              "      <td>15-03-2020 18:48</td>\n",
              "      <td>randians big time users dating apps like tinde...</td>\n",
              "    </tr>\n",
              "    <tr>\n",
              "      <th>2</th>\n",
              "      <td>AskIndia</td>\n",
              "      <td>r india thinks flat earthers</td>\n",
              "      <td>4.0</td>\n",
              "      <td>f25vx0</td>\n",
              "      <td>https://www.reddit.com/r/india/comments/f25vx0...</td>\n",
              "      <td>31.0</td>\n",
              "      <td>encountered foreigner ig says round earth hoax...</td>\n",
              "      <td>Dev1003</td>\n",
              "      <td>havent found indian yet believes earth flat de...</td>\n",
              "      <td>11-02-2020 17:10</td>\n",
              "      <td>r india thinks flat earthershavent found india...</td>\n",
              "    </tr>\n",
              "    <tr>\n",
              "      <th>3</th>\n",
              "      <td>AskIndia</td>\n",
              "      <td>people left 9 5 jobs pursue career music art f...</td>\n",
              "      <td>45.0</td>\n",
              "      <td>dtvliq</td>\n",
              "      <td>https://www.reddit.com/r/india/comments/dtvliq...</td>\n",
              "      <td>34.0</td>\n",
              "      <td>couldnt add askindia flair mobile browser</td>\n",
              "      <td>c0mrade34</td>\n",
              "      <td>engineer advertisement shoots since last 1year...</td>\n",
              "      <td>09-11-2019 20:57</td>\n",
              "      <td>people left 9 5 jobs pursue career music art f...</td>\n",
              "    </tr>\n",
              "    <tr>\n",
              "      <th>4</th>\n",
              "      <td>AskIndia</td>\n",
              "      <td>somebody want kill full family</td>\n",
              "      <td>92.0</td>\n",
              "      <td>b7pvwt</td>\n",
              "      <td>https://www.reddit.com/r/india/comments/b7pvwt...</td>\n",
              "      <td>24.0</td>\n",
              "      <td>24hrs local police station register case dont ...</td>\n",
              "      <td>amitkumarthakur</td>\n",
              "      <td>calm downgo sp office town file grievance imme...</td>\n",
              "      <td>01-04-2019 01:00</td>\n",
              "      <td>somebody want kill full familycalm downgo sp o...</td>\n",
              "    </tr>\n",
              "  </tbody>\n",
              "</table>\n",
              "</div>"
            ],
            "text/plain": [
              "      flair  ...                                  combined_features\n",
              "0  AskIndia  ...  4 days ago pending orders 100 million hydroxyc...\n",
              "1  AskIndia  ...  randians big time users dating apps like tinde...\n",
              "2  AskIndia  ...  r india thinks flat earthershavent found india...\n",
              "3  AskIndia  ...  people left 9 5 jobs pursue career music art f...\n",
              "4  AskIndia  ...  somebody want kill full familycalm downgo sp o...\n",
              "\n",
              "[5 rows x 11 columns]"
            ]
          },
          "metadata": {
            "tags": []
          },
          "execution_count": 35
        }
      ]
    },
    {
      "cell_type": "markdown",
      "metadata": {
        "id": "fnJ6LulYc66c",
        "colab_type": "text"
      },
      "source": [
        "checking the data info"
      ]
    },
    {
      "cell_type": "code",
      "metadata": {
        "id": "wruCH1wdaqHm",
        "colab_type": "code",
        "outputId": "fa906f00-9662-495f-f2d3-9fc67cbbd10a",
        "colab": {
          "base_uri": "https://localhost:8080/",
          "height": 319
        }
      },
      "source": [
        "data.info()"
      ],
      "execution_count": 0,
      "outputs": [
        {
          "output_type": "stream",
          "text": [
            "<class 'pandas.core.frame.DataFrame'>\n",
            "RangeIndex: 267 entries, 0 to 266\n",
            "Data columns (total 11 columns):\n",
            " #   Column             Non-Null Count  Dtype  \n",
            "---  ------             --------------  -----  \n",
            " 0   flair              266 non-null    object \n",
            " 1   title              266 non-null    object \n",
            " 2   score              266 non-null    float64\n",
            " 3   id                 266 non-null    object \n",
            " 4   url                266 non-null    object \n",
            " 5   comms_num          266 non-null    float64\n",
            " 6   body               182 non-null    object \n",
            " 7   author             266 non-null    object \n",
            " 8   comments           249 non-null    object \n",
            " 9   timestamp          266 non-null    object \n",
            " 10  combined_features  266 non-null    object \n",
            "dtypes: float64(2), object(9)\n",
            "memory usage: 23.1+ KB\n"
          ],
          "name": "stdout"
        }
      ]
    },
    {
      "cell_type": "markdown",
      "metadata": {
        "id": "7optt0Pw3u0m",
        "colab_type": "text"
      },
      "source": [
        "we are getting only 266 values whereas the data has1250 rows"
      ]
    },
    {
      "cell_type": "code",
      "metadata": {
        "id": "wbAgxzZTdAoV",
        "colab_type": "code",
        "colab": {}
      },
      "source": [
        "data.drop(\"id\",axis=1,inplace=True)"
      ],
      "execution_count": 0,
      "outputs": []
    },
    {
      "cell_type": "code",
      "metadata": {
        "id": "Rr7R4tKb4lu3",
        "colab_type": "code",
        "outputId": "251741ee-cdd7-4ec6-a112-8a97fb02ef42",
        "colab": {
          "base_uri": "https://localhost:8080/",
          "height": 585
        }
      },
      "source": [
        "data.head()"
      ],
      "execution_count": 0,
      "outputs": [
        {
          "output_type": "execute_result",
          "data": {
            "text/html": [
              "<div>\n",
              "<style scoped>\n",
              "    .dataframe tbody tr th:only-of-type {\n",
              "        vertical-align: middle;\n",
              "    }\n",
              "\n",
              "    .dataframe tbody tr th {\n",
              "        vertical-align: top;\n",
              "    }\n",
              "\n",
              "    .dataframe thead th {\n",
              "        text-align: right;\n",
              "    }\n",
              "</style>\n",
              "<table border=\"1\" class=\"dataframe\">\n",
              "  <thead>\n",
              "    <tr style=\"text-align: right;\">\n",
              "      <th></th>\n",
              "      <th>flair</th>\n",
              "      <th>title</th>\n",
              "      <th>score</th>\n",
              "      <th>url</th>\n",
              "      <th>comms_num</th>\n",
              "      <th>body</th>\n",
              "      <th>author</th>\n",
              "      <th>comments</th>\n",
              "      <th>timestamp</th>\n",
              "      <th>combined_features</th>\n",
              "    </tr>\n",
              "  </thead>\n",
              "  <tbody>\n",
              "    <tr>\n",
              "      <th>0</th>\n",
              "      <td>AskIndia</td>\n",
              "      <td>4 days ago pending orders 100 million hydroxyc...</td>\n",
              "      <td>95.0</td>\n",
              "      <td>https://www.reddit.com/r/india/comments/fwjdqr...</td>\n",
              "      <td>6.0</td>\n",
              "      <td>getting frantic calls pharma customers delayed...</td>\n",
              "      <td>india_ko_vanakkam</td>\n",
              "      <td>modi stockholm syndrome fair evidence chloroqu...</td>\n",
              "      <td>07-04-2020 20:07</td>\n",
              "      <td>4 days ago pending orders 100 million hydroxyc...</td>\n",
              "    </tr>\n",
              "    <tr>\n",
              "      <th>1</th>\n",
              "      <td>AskIndia</td>\n",
              "      <td>randians big time users dating apps like tinde...</td>\n",
              "      <td>18.0</td>\n",
              "      <td>https://www.reddit.com/r/india/comments/fizkkk...</td>\n",
              "      <td>19.0</td>\n",
              "      <td>id stint apps couple months one point didnt fe...</td>\n",
              "      <td>__knockknockturnal__</td>\n",
              "      <td>someone matched tell im fat cat 1 general foll...</td>\n",
              "      <td>15-03-2020 18:48</td>\n",
              "      <td>randians big time users dating apps like tinde...</td>\n",
              "    </tr>\n",
              "    <tr>\n",
              "      <th>2</th>\n",
              "      <td>AskIndia</td>\n",
              "      <td>r india thinks flat earthers</td>\n",
              "      <td>4.0</td>\n",
              "      <td>https://www.reddit.com/r/india/comments/f25vx0...</td>\n",
              "      <td>31.0</td>\n",
              "      <td>encountered foreigner ig says round earth hoax...</td>\n",
              "      <td>Dev1003</td>\n",
              "      <td>havent found indian yet believes earth flat de...</td>\n",
              "      <td>11-02-2020 17:10</td>\n",
              "      <td>r india thinks flat earthershavent found india...</td>\n",
              "    </tr>\n",
              "    <tr>\n",
              "      <th>3</th>\n",
              "      <td>AskIndia</td>\n",
              "      <td>people left 9 5 jobs pursue career music art f...</td>\n",
              "      <td>45.0</td>\n",
              "      <td>https://www.reddit.com/r/india/comments/dtvliq...</td>\n",
              "      <td>34.0</td>\n",
              "      <td>couldnt add askindia flair mobile browser</td>\n",
              "      <td>c0mrade34</td>\n",
              "      <td>engineer advertisement shoots since last 1year...</td>\n",
              "      <td>09-11-2019 20:57</td>\n",
              "      <td>people left 9 5 jobs pursue career music art f...</td>\n",
              "    </tr>\n",
              "    <tr>\n",
              "      <th>4</th>\n",
              "      <td>AskIndia</td>\n",
              "      <td>somebody want kill full family</td>\n",
              "      <td>92.0</td>\n",
              "      <td>https://www.reddit.com/r/india/comments/b7pvwt...</td>\n",
              "      <td>24.0</td>\n",
              "      <td>24hrs local police station register case dont ...</td>\n",
              "      <td>amitkumarthakur</td>\n",
              "      <td>calm downgo sp office town file grievance imme...</td>\n",
              "      <td>01-04-2019 01:00</td>\n",
              "      <td>somebody want kill full familycalm downgo sp o...</td>\n",
              "    </tr>\n",
              "  </tbody>\n",
              "</table>\n",
              "</div>"
            ],
            "text/plain": [
              "      flair  ...                                  combined_features\n",
              "0  AskIndia  ...  4 days ago pending orders 100 million hydroxyc...\n",
              "1  AskIndia  ...  randians big time users dating apps like tinde...\n",
              "2  AskIndia  ...  r india thinks flat earthershavent found india...\n",
              "3  AskIndia  ...  people left 9 5 jobs pursue career music art f...\n",
              "4  AskIndia  ...  somebody want kill full familycalm downgo sp o...\n",
              "\n",
              "[5 rows x 10 columns]"
            ]
          },
          "metadata": {
            "tags": []
          },
          "execution_count": 38
        }
      ]
    },
    {
      "cell_type": "code",
      "metadata": {
        "id": "wh9VqQhg4om3",
        "colab_type": "code",
        "outputId": "3b1ed43c-469b-44a0-e15f-eed7d10dda81",
        "colab": {
          "base_uri": "https://localhost:8080/",
          "height": 67
        }
      },
      "source": [
        "data.columns"
      ],
      "execution_count": 0,
      "outputs": [
        {
          "output_type": "execute_result",
          "data": {
            "text/plain": [
              "Index(['flair', 'title', 'score', 'url', 'comms_num', 'body', 'author',\n",
              "       'comments', 'timestamp', 'combined_features'],\n",
              "      dtype='object')"
            ]
          },
          "metadata": {
            "tags": []
          },
          "execution_count": 39
        }
      ]
    },
    {
      "cell_type": "code",
      "metadata": {
        "id": "vFLkb8XQ5EmD",
        "colab_type": "code",
        "outputId": "f291c5a4-edce-430f-d062-139ae8616463",
        "colab": {
          "base_uri": "https://localhost:8080/",
          "height": 702
        }
      },
      "source": [
        "data.tail()"
      ],
      "execution_count": 0,
      "outputs": [
        {
          "output_type": "execute_result",
          "data": {
            "text/html": [
              "<div>\n",
              "<style scoped>\n",
              "    .dataframe tbody tr th:only-of-type {\n",
              "        vertical-align: middle;\n",
              "    }\n",
              "\n",
              "    .dataframe tbody tr th {\n",
              "        vertical-align: top;\n",
              "    }\n",
              "\n",
              "    .dataframe thead th {\n",
              "        text-align: right;\n",
              "    }\n",
              "</style>\n",
              "<table border=\"1\" class=\"dataframe\">\n",
              "  <thead>\n",
              "    <tr style=\"text-align: right;\">\n",
              "      <th></th>\n",
              "      <th>flair</th>\n",
              "      <th>title</th>\n",
              "      <th>score</th>\n",
              "      <th>url</th>\n",
              "      <th>comms_num</th>\n",
              "      <th>body</th>\n",
              "      <th>author</th>\n",
              "      <th>comments</th>\n",
              "      <th>timestamp</th>\n",
              "      <th>combined_features</th>\n",
              "    </tr>\n",
              "  </thead>\n",
              "  <tbody>\n",
              "    <tr>\n",
              "      <th>262</th>\n",
              "      <td>Scheduled</td>\n",
              "      <td>hi r india made bot stop fake news whatsapp</td>\n",
              "      <td>163.0</td>\n",
              "      <td>https://www.reddit.com/r/india/comments/fdaht6...</td>\n",
              "      <td>39.0</td>\n",
              "      <td>edit 3 looks like blocked facebook fuck try sp...</td>\n",
              "      <td>whatsappfactchecker</td>\n",
              "      <td>make bot subs reddit know want mean stop fake ...</td>\n",
              "      <td>04-03-2020 17:16</td>\n",
              "      <td>hi r india made bot stop fake news whatsappmak...</td>\n",
              "    </tr>\n",
              "    <tr>\n",
              "      <th>263</th>\n",
              "      <td>Scheduled</td>\n",
              "      <td>get full refund jet airways international flig...</td>\n",
              "      <td>15.0</td>\n",
              "      <td>https://www.reddit.com/r/india/comments/bdbpz3...</td>\n",
              "      <td>18.0</td>\n",
              "      <td>hi question people well versed flight cancella...</td>\n",
              "      <td>CurlyMope</td>\n",
              "      <td>call ask looks even worse day dayhttps livefro...</td>\n",
              "      <td>15-04-2019 11:59</td>\n",
              "      <td>get full refund jet airways international flig...</td>\n",
              "    </tr>\n",
              "    <tr>\n",
              "      <th>264</th>\n",
              "      <td>Scheduled</td>\n",
              "      <td>seattle city council becomes first us legislat...</td>\n",
              "      <td>371.0</td>\n",
              "      <td>https://www.reddit.com/r/india/comments/eykwsp...</td>\n",
              "      <td>87.0</td>\n",
              "      <td>resolution tabled january 21st council members...</td>\n",
              "      <td>ali_sez_so</td>\n",
              "      <td>going us thanks detailed selfpost nri bhakts b...</td>\n",
              "      <td>04-02-2020 13:10</td>\n",
              "      <td>seattle city council becomes first us legislat...</td>\n",
              "    </tr>\n",
              "    <tr>\n",
              "      <th>265</th>\n",
              "      <td>Scheduled</td>\n",
              "      <td>confusion train schedule could someone please ...</td>\n",
              "      <td>8.0</td>\n",
              "      <td>https://www.reddit.com/r/india/comments/di6as1...</td>\n",
              "      <td>5.0</td>\n",
              "      <td>booked counter ticket madgaonmumbai cst 12134 ...</td>\n",
              "      <td>ExaltFibs24</td>\n",
              "      <td>simple train currently running monsoon schedul...</td>\n",
              "      <td>15-10-2019 19:03</td>\n",
              "      <td>confusion train schedule could someone please ...</td>\n",
              "    </tr>\n",
              "    <tr>\n",
              "      <th>266</th>\n",
              "      <td>Scheduled</td>\n",
              "      <td>punjab dalit labourer beaten forced drink urin...</td>\n",
              "      <td>495.0</td>\n",
              "      <td>https://indianexpress.com/article/india/chandi...</td>\n",
              "      <td>136.0</td>\n",
              "      <td>NaN</td>\n",
              "      <td>ClassicAdvice5</td>\n",
              "      <td>looked good youngone blessed men longer among ...</td>\n",
              "      <td>19-11-2019 19:04</td>\n",
              "      <td>punjab dalit labourer beaten forced drink urin...</td>\n",
              "    </tr>\n",
              "  </tbody>\n",
              "</table>\n",
              "</div>"
            ],
            "text/plain": [
              "         flair  ...                                  combined_features\n",
              "262  Scheduled  ...  hi r india made bot stop fake news whatsappmak...\n",
              "263  Scheduled  ...  get full refund jet airways international flig...\n",
              "264  Scheduled  ...  seattle city council becomes first us legislat...\n",
              "265  Scheduled  ...  confusion train schedule could someone please ...\n",
              "266  Scheduled  ...  punjab dalit labourer beaten forced drink urin...\n",
              "\n",
              "[5 rows x 10 columns]"
            ]
          },
          "metadata": {
            "tags": []
          },
          "execution_count": 40
        }
      ]
    },
    {
      "cell_type": "code",
      "metadata": {
        "id": "3wvHfAYY5Iic",
        "colab_type": "code",
        "colab": {}
      },
      "source": [
        "def string(value):\n",
        "    return str(value)"
      ],
      "execution_count": 0,
      "outputs": []
    },
    {
      "cell_type": "code",
      "metadata": {
        "id": "Wlmf3k9c5RFy",
        "colab_type": "code",
        "colab": {}
      },
      "source": [
        "data['title'] = data['title'].apply(string)\n",
        "data['body'] = data['body'].apply(string)\n",
        "data['comments'] = data['comments'].apply(string)"
      ],
      "execution_count": 0,
      "outputs": []
    },
    {
      "cell_type": "code",
      "metadata": {
        "id": "lA6w36LF5Tqx",
        "colab_type": "code",
        "colab": {}
      },
      "source": [
        "\n",
        "REPLACE_BY_SPACE_RE = re.compile('[/(){}\\[\\]\\|@,;]')\n",
        "BAD_SYMBOLS_RE = re.compile('[^0-9a-z #+_]')\n",
        "STOPWORDS = set(stopwords.words('english'))\n",
        "def text_cleaning(text):\n",
        "   \n",
        "    text = BeautifulSoup(text, \"lxml\").text\n",
        "    text = text.lower()\n",
        "    text = REPLACE_BY_SPACE_RE.sub(' ', text)\n",
        "    text = BAD_SYMBOLS_RE.sub('', text)\n",
        "    text = ' '.join(word for word in text.split() if word not in STOPWORDS)\n",
        "    return text"
      ],
      "execution_count": 0,
      "outputs": []
    },
    {
      "cell_type": "code",
      "metadata": {
        "id": "5fCQxSO05XBx",
        "colab_type": "code",
        "colab": {}
      },
      "source": [
        "combined_features = data[\"title\"] + data[\"comments\"] + data[\"url\"]\n",
        "data = data.assign(combined_features = combined_features)"
      ],
      "execution_count": 0,
      "outputs": []
    },
    {
      "cell_type": "code",
      "metadata": {
        "id": "MvgJr4cB5qRp",
        "colab_type": "code",
        "outputId": "a4327908-14a0-40f1-f614-100146683fdc",
        "colab": {
          "base_uri": "https://localhost:8080/",
          "height": 302
        }
      },
      "source": [
        "data.info()"
      ],
      "execution_count": 0,
      "outputs": [
        {
          "output_type": "stream",
          "text": [
            "<class 'pandas.core.frame.DataFrame'>\n",
            "RangeIndex: 267 entries, 0 to 266\n",
            "Data columns (total 10 columns):\n",
            " #   Column             Non-Null Count  Dtype  \n",
            "---  ------             --------------  -----  \n",
            " 0   flair              266 non-null    object \n",
            " 1   title              267 non-null    object \n",
            " 2   score              266 non-null    float64\n",
            " 3   url                266 non-null    object \n",
            " 4   comms_num          266 non-null    float64\n",
            " 5   body               267 non-null    object \n",
            " 6   author             266 non-null    object \n",
            " 7   comments           267 non-null    object \n",
            " 8   timestamp          266 non-null    object \n",
            " 9   combined_features  266 non-null    object \n",
            "dtypes: float64(2), object(8)\n",
            "memory usage: 21.0+ KB\n"
          ],
          "name": "stdout"
        }
      ]
    },
    {
      "cell_type": "code",
      "metadata": {
        "id": "Fe3dSNs65uQS",
        "colab_type": "code",
        "colab": {}
      },
      "source": [
        "data1=pd.read_csv('data (1).csv')"
      ],
      "execution_count": 0,
      "outputs": []
    },
    {
      "cell_type": "code",
      "metadata": {
        "id": "Z0zuMkNc6Ffh",
        "colab_type": "code",
        "outputId": "8cdb8d79-e955-4088-8990-32d8111d165b",
        "colab": {
          "base_uri": "https://localhost:8080/",
          "height": 336
        }
      },
      "source": [
        "data1.info()"
      ],
      "execution_count": 0,
      "outputs": [
        {
          "output_type": "stream",
          "text": [
            "<class 'pandas.core.frame.DataFrame'>\n",
            "RangeIndex: 1218 entries, 0 to 1217\n",
            "Data columns (total 12 columns):\n",
            " #   Column             Non-Null Count  Dtype \n",
            "---  ------             --------------  ----- \n",
            " 0   Unnamed: 0         1218 non-null   int64 \n",
            " 1   flair              1218 non-null   object\n",
            " 2   title              1218 non-null   object\n",
            " 3   score              1218 non-null   int64 \n",
            " 4   id                 1218 non-null   object\n",
            " 5   url                1218 non-null   object\n",
            " 6   comms_num          1218 non-null   int64 \n",
            " 7   body               693 non-null    object\n",
            " 8   author             1218 non-null   object\n",
            " 9   comments           1096 non-null   object\n",
            " 10  timestamp          1218 non-null   object\n",
            " 11  combined_features  1218 non-null   object\n",
            "dtypes: int64(3), object(9)\n",
            "memory usage: 114.3+ KB\n"
          ],
          "name": "stdout"
        }
      ]
    },
    {
      "cell_type": "markdown",
      "metadata": {
        "id": "5nOyyCbwdDWr",
        "colab_type": "text"
      },
      "source": [
        "### by this we find that body has a lot of null values. This shows that for most of the posts only the title suffice, there is no need of body. \n",
        "### plots can be made for the posts having body and no of words in such posts this would give more insights to the data. \n",
        "### second in the list which has missing values is comments. This is quite resonable as not all the posts get comments, next thing which can be checked is what is the score of the post with comments and what flair are the posts which get maximum comments. \n"
      ]
    },
    {
      "cell_type": "markdown",
      "metadata": {
        "id": "u3a6UcTs8xM4",
        "colab_type": "text"
      },
      "source": [
        "#### graphs which we can plot to get more insights of the data \n",
        "#### 1. plots of different feature values and which feature value has missing values.\n",
        "#### 2. NO of posts and the flair they belong that have body.\n",
        "#### 3. No of words in the body corresponding to the flairs- this will help us determine is body a good parameter or not for model.\n",
        "#### 4. score of the posts with comments\n",
        "#### 5. flair which gets maximum comments - this will help us in model \n",
        "#### 6. what are thw words or persons mentioned maximum times in comments\n",
        "#### 7, what is the frequency of posts and comments."
      ]
    },
    {
      "cell_type": "code",
      "metadata": {
        "id": "l3yHizM7EaT9",
        "colab_type": "code",
        "colab": {}
      },
      "source": [
        "data=pd.read_csv('datafinal.csv')"
      ],
      "execution_count": 0,
      "outputs": []
    },
    {
      "cell_type": "code",
      "metadata": {
        "id": "LTGp4LbDTZlJ",
        "colab_type": "code",
        "outputId": "2bebc79e-4976-4358-cef3-a6a809e7cf32",
        "colab": {
          "base_uri": "https://localhost:8080/",
          "height": 336
        }
      },
      "source": [
        "data.info()"
      ],
      "execution_count": 0,
      "outputs": [
        {
          "output_type": "stream",
          "text": [
            "<class 'pandas.core.frame.DataFrame'>\n",
            "RangeIndex: 1218 entries, 0 to 1217\n",
            "Data columns (total 12 columns):\n",
            " #   Column             Non-Null Count  Dtype \n",
            "---  ------             --------------  ----- \n",
            " 0   Unnamed: 0         1218 non-null   int64 \n",
            " 1   flair              1218 non-null   object\n",
            " 2   title              1218 non-null   object\n",
            " 3   score              1218 non-null   int64 \n",
            " 4   id                 1218 non-null   object\n",
            " 5   url                1218 non-null   object\n",
            " 6   comms_num          1218 non-null   int64 \n",
            " 7   body               693 non-null    object\n",
            " 8   author             1218 non-null   object\n",
            " 9   comments           1096 non-null   object\n",
            " 10  timestamp          1218 non-null   object\n",
            " 11  combined_features  1218 non-null   object\n",
            "dtypes: int64(3), object(9)\n",
            "memory usage: 114.3+ KB\n"
          ],
          "name": "stdout"
        }
      ]
    },
    {
      "cell_type": "code",
      "metadata": {
        "id": "9eWQUjdLU5AD",
        "colab_type": "code",
        "outputId": "e6b30b88-47d9-479f-e601-13d250d11f94",
        "colab": {
          "base_uri": "https://localhost:8080/",
          "height": 252
        }
      },
      "source": [
        "data['flair'].value_counts()"
      ],
      "execution_count": 0,
      "outputs": [
        {
          "output_type": "execute_result",
          "data": {
            "text/plain": [
              "Science/Technology    100\n",
              "Photography           100\n",
              "Policy/Economy        100\n",
              "Non-Political         100\n",
              "Business/Finance      100\n",
              "Food                  100\n",
              "AskIndia              100\n",
              "Sports                100\n",
              "Scheduled             100\n",
              "Coronavirus           100\n",
              "Politics              100\n",
              "AMA                   100\n",
              "[R]eddiquette          18\n",
              "Name: flair, dtype: int64"
            ]
          },
          "metadata": {
            "tags": []
          },
          "execution_count": 7
        }
      ]
    },
    {
      "cell_type": "code",
      "metadata": {
        "id": "__8tASNLVGDd",
        "colab_type": "code",
        "outputId": "ee1d59b1-321f-4c36-8068-1234eb3756d5",
        "colab": {
          "base_uri": "https://localhost:8080/",
          "height": 84
        }
      },
      "source": [
        "data['flair'].unique()"
      ],
      "execution_count": 0,
      "outputs": [
        {
          "output_type": "execute_result",
          "data": {
            "text/plain": [
              "array(['AskIndia', 'Non-Political', '[R]eddiquette', 'Scheduled',\n",
              "       'Photography', 'Science/Technology', 'Politics',\n",
              "       'Business/Finance', 'Policy/Economy', 'Sports', 'Food', 'AMA',\n",
              "       'Coronavirus'], dtype=object)"
            ]
          },
          "metadata": {
            "tags": []
          },
          "execution_count": 6
        }
      ]
    },
    {
      "cell_type": "code",
      "metadata": {
        "id": "mkybL6JiVQkx",
        "colab_type": "code",
        "colab": {}
      },
      "source": [
        "x=data.count()"
      ],
      "execution_count": 0,
      "outputs": []
    },
    {
      "cell_type": "code",
      "metadata": {
        "id": "4cUU5_M9VWoy",
        "colab_type": "code",
        "colab": {}
      },
      "source": [
        "data.drop('id',axis=1,inplace=True)"
      ],
      "execution_count": 0,
      "outputs": []
    },
    {
      "cell_type": "code",
      "metadata": {
        "id": "l67pdY6tYpD1",
        "colab_type": "code",
        "colab": {}
      },
      "source": [
        "import seaborn as sns"
      ],
      "execution_count": 0,
      "outputs": []
    },
    {
      "cell_type": "code",
      "metadata": {
        "id": "uzbcH2XDgCvQ",
        "colab_type": "code",
        "colab": {}
      },
      "source": [
        "y=data.columns"
      ],
      "execution_count": 0,
      "outputs": []
    },
    {
      "cell_type": "code",
      "metadata": {
        "id": "EzZppR0CgOPz",
        "colab_type": "code",
        "outputId": "6fe726d3-923e-4160-842f-7ade77ec8185",
        "colab": {
          "base_uri": "https://localhost:8080/",
          "height": 67
        }
      },
      "source": [
        "print(y)"
      ],
      "execution_count": 0,
      "outputs": [
        {
          "output_type": "stream",
          "text": [
            "Index(['Unnamed: 0', 'flair', 'title', 'score', 'url', 'comms_num', 'body',\n",
            "       'author', 'comments', 'timestamp', 'combined_features'],\n",
            "      dtype='object')\n"
          ],
          "name": "stdout"
        }
      ]
    },
    {
      "cell_type": "code",
      "metadata": {
        "id": "8Y7dx5LUgZdo",
        "colab_type": "code",
        "colab": {}
      },
      "source": [
        "data.drop('Unnamed: 0',axis=1,inplace=True)"
      ],
      "execution_count": 0,
      "outputs": []
    },
    {
      "cell_type": "code",
      "metadata": {
        "id": "1fttTyaVgmXI",
        "colab_type": "code",
        "colab": {}
      },
      "source": [
        "y=data.columns"
      ],
      "execution_count": 0,
      "outputs": []
    },
    {
      "cell_type": "code",
      "metadata": {
        "id": "-sQOXgEvgpbM",
        "colab_type": "code",
        "colab": {}
      },
      "source": [
        "x=data.count()"
      ],
      "execution_count": 0,
      "outputs": []
    },
    {
      "cell_type": "code",
      "metadata": {
        "id": "DIfXweS1grda",
        "colab_type": "code",
        "outputId": "2f78e497-dfe1-4c64-a900-b602e7bce166",
        "colab": {
          "base_uri": "https://localhost:8080/",
          "height": 421
        }
      },
      "source": [
        "fig = plt.figure()\n",
        "ax = fig.add_axes([0,0,1,1])\n",
        "features = y \n",
        "values = x\n",
        "ax.bar(y,x)\n",
        "plt.xticks(rotation=90)\n",
        "plt.savefig('value.png', dpi=300, bbox_inches='tight')\n",
        "plt.show()"
      ],
      "execution_count": 0,
      "outputs": [
        {
          "output_type": "display_data",
          "data": {
            "image/png": "[encoded data removed]",
            "text/plain": [
              "<Figure size 432x288 with 1 Axes>"
            ]
          },
          "metadata": {
            "tags": [],
            "needs_background": "light"
          }
        }
      ]
    },
    {
      "cell_type": "code",
      "metadata": {
        "id": "IGnZ3i0dhfpI",
        "colab_type": "code",
        "outputId": "2cc5b1f1-9eae-4d2e-d2fa-85cede8730de",
        "colab": {
          "base_uri": "https://localhost:8080/",
          "height": 252
        }
      },
      "source": [
        "data['flair'].value_counts()"
      ],
      "execution_count": 0,
      "outputs": [
        {
          "output_type": "execute_result",
          "data": {
            "text/plain": [
              "Coronavirus           100\n",
              "Food                  100\n",
              "Photography           100\n",
              "Science/Technology    100\n",
              "Business/Finance      100\n",
              "Politics              100\n",
              "Sports                100\n",
              "AMA                   100\n",
              "Non-Political         100\n",
              "AskIndia              100\n",
              "Policy/Economy        100\n",
              "Scheduled             100\n",
              "[R]eddiquette          18\n",
              "Name: flair, dtype: int64"
            ]
          },
          "metadata": {
            "tags": []
          },
          "execution_count": 28
        }
      ]
    },
    {
      "cell_type": "markdown",
      "metadata": {
        "id": "Zw4ojsPTBxcy",
        "colab_type": "text"
      },
      "source": [
        "### thus [R]eddiquette  has minimum no of flairs rest all have equal flairs it is quite obvious as the eddiquette does not change much "
      ]
    },
    {
      "cell_type": "code",
      "metadata": {
        "id": "yIPq4jzJMUrZ",
        "colab_type": "code",
        "colab": {}
      },
      "source": [
        "df=pd.DataFrame(data)"
      ],
      "execution_count": 0,
      "outputs": []
    },
    {
      "cell_type": "code",
      "metadata": {
        "id": "7lWQ_jfCBYHt",
        "colab_type": "code",
        "outputId": "e1552374-0a01-44b6-bc27-d1e016b200d2",
        "colab": {
          "base_uri": "https://localhost:8080/",
          "height": 298
        }
      },
      "source": [
        "temp = df['title'].str.len()\n",
        "temp.hist(bins = np.arange(0,200,1))\n",
        "plt.title(\"no of words in TITLE\")\n",
        "plt.xlabel(\"length of Title (in words)\", fontsize=12)\n",
        "plt.ylabel(\"Number of posts\", fontsize=12)\n",
        "plt.savefig('title.png', dpi=300, bbox_inches='tight')\n",
        "plt.show()"
      ],
      "execution_count": 0,
      "outputs": [
        {
          "output_type": "display_data",
          "data": {
            "image/png": "[encoded data removed]",
            "text/plain": [
              "<Figure size 432x288 with 1 Axes>"
            ]
          },
          "metadata": {
            "tags": [],
            "needs_background": "light"
          }
        }
      ]
    },
    {
      "cell_type": "code",
      "metadata": {
        "id": "CUtrXmoZMQJo",
        "colab_type": "code",
        "outputId": "a2b3907b-4ed3-459b-ed7a-5520a6c8b6f0",
        "colab": {
          "base_uri": "https://localhost:8080/",
          "height": 295
        }
      },
      "source": [
        "\n",
        "temp = df['body'].str.len()\n",
        "temp.hist(bins = np.arange(0,1000,10))\n",
        "plt.title(\"no of words in BODY\")\n",
        "plt.xlabel(\"length of BODY (in words)\")\n",
        "plt.ylabel(\"Number of posts\")\n",
        "plt.savefig('lenth of words in body.png', dpi=300, bbox_inches='tight')\n",
        "plt.show()"
      ],
      "execution_count": 0,
      "outputs": [
        {
          "output_type": "display_data",
          "data": {
            "image/png": "[encoded data removed]",
            "text/plain": [
              "<Figure size 432x288 with 1 Axes>"
            ]
          },
          "metadata": {
            "tags": [],
            "needs_background": "light"
          }
        }
      ]
    },
    {
      "cell_type": "code",
      "metadata": {
        "id": "jNCOz5ulPNDV",
        "colab_type": "code",
        "outputId": "910c8395-019b-40ad-cda9-3617646fd1d5",
        "colab": {
          "base_uri": "https://localhost:8080/",
          "height": 67
        }
      },
      "source": [
        "df.columns"
      ],
      "execution_count": 0,
      "outputs": [
        {
          "output_type": "execute_result",
          "data": {
            "text/plain": [
              "Index(['flair', 'title', 'score', 'url', 'comms_num', 'body', 'author',\n",
              "       'comments', 'timestamp', 'combined_features'],\n",
              "      dtype='object')"
            ]
          },
          "metadata": {
            "tags": []
          },
          "execution_count": 9
        }
      ]
    },
    {
      "cell_type": "code",
      "metadata": {
        "id": "i-hesrJZNR_p",
        "colab_type": "code",
        "outputId": "1e990412-2c9a-48b3-b1a0-c5c06e0c417f",
        "colab": {
          "base_uri": "https://localhost:8080/",
          "height": 279
        }
      },
      "source": [
        "fig,ax = plt.subplots()\n",
        "ax.grid()\n",
        "df.groupby('flair').plot(x='comms_num', y='score', ax=ax, legend=False)\n",
        "plt.savefig('comments and upvotes corresponding to the flairs', dpi=300, bbox_inches='tight')\n",
        "plt.show()"
      ],
      "execution_count": 0,
      "outputs": [
        {
          "output_type": "display_data",
          "data": {
            "image/png": "[encoded data removed]",
            "text/plain": [
              "<Figure size 432x288 with 1 Axes>"
            ]
          },
          "metadata": {
            "tags": [],
            "needs_background": "light"
          }
        }
      ]
    },
    {
      "cell_type": "code",
      "metadata": {
        "id": "XFhXjUGho34V",
        "colab_type": "code",
        "outputId": "b80ddc66-2d07-482e-b1bb-46204810e456",
        "colab": {
          "base_uri": "https://localhost:8080/",
          "height": 383
        }
      },
      "source": [
        "df2 = df.groupby(\"flair\").mean()[['score']]\n",
        "\n",
        "df2.plot(kind='bar', legend=False, grid=True)\n",
        "plt.title(\"Average score per flair\")\n",
        "\n",
        "plt.xlabel(\"Flair\")\n",
        "plt.ylabel(\"Average score per post\")\n",
        "plt.savefig('score per flair', dpi=300, bbox_inches='tight')\n",
        "plt.show()\n"
      ],
      "execution_count": 0,
      "outputs": [
        {
          "output_type": "display_data",
          "data": {
            "image/png": "[encoded data removed]",
            "text/plain": [
              "<Figure size 432x288 with 1 Axes>"
            ]
          },
          "metadata": {
            "tags": [],
            "needs_background": "light"
          }
        }
      ]
    },
    {
      "cell_type": "code",
      "metadata": {
        "id": "BhZsprU2whWP",
        "colab_type": "code",
        "outputId": "097fc406-e610-4ab3-d335-85a4a2ab1051",
        "colab": {
          "base_uri": "https://localhost:8080/",
          "height": 269
        }
      },
      "source": [
        "df2.head"
      ],
      "execution_count": 0,
      "outputs": [
        {
          "output_type": "execute_result",
          "data": {
            "text/plain": [
              "<bound method NDFrame.head of                          score\n",
              "flair                         \n",
              "AMA                 273.340000\n",
              "AskIndia             23.930000\n",
              "Business/Finance     58.260000\n",
              "Coronavirus          67.980000\n",
              "Food                331.160000\n",
              "Non-Political        90.270000\n",
              "Photography         137.080000\n",
              "Policy/Economy       95.240000\n",
              "Politics            264.580000\n",
              "Scheduled           121.690000\n",
              "Science/Technology  260.850000\n",
              "Sports              266.020000\n",
              "[R]eddiquette        31.333333>"
            ]
          },
          "metadata": {
            "tags": []
          },
          "execution_count": 27
        }
      ]
    },
    {
      "cell_type": "code",
      "metadata": {
        "id": "Twjq8bBgqbis",
        "colab_type": "code",
        "outputId": "f2e6a7d3-15db-4131-8aef-eb7cd2032c2b",
        "colab": {
          "base_uri": "https://localhost:8080/",
          "height": 383
        }
      },
      "source": [
        "df3 = df.groupby(\"flair\").mean()[['comms_num']]\n",
        "\n",
        "df3.plot(kind='bar', legend=False, grid=True)\n",
        "plt.title(\"Average no of coments per flair\")\n",
        "\n",
        "plt.xlabel(\"Flair\")\n",
        "plt.ylabel(\"Average no of comments per post\")\n",
        "plt.savefig('comms per flair', dpi=300, bbox_inches='tight')\n",
        "plt.show()\n"
      ],
      "execution_count": 0,
      "outputs": [
        {
          "output_type": "display_data",
          "data": {
            "image/png": "[encoded data removed]",
            "text/plain": [
              "<Figure size 432x288 with 1 Axes>"
            ]
          },
          "metadata": {
            "tags": [],
            "needs_background": "light"
          }
        }
      ]
    },
    {
      "cell_type": "code",
      "metadata": {
        "id": "uQ_cK2gWrHM2",
        "colab_type": "code",
        "outputId": "6acf549a-6cbf-470b-c8aa-5c2c421957fc",
        "colab": {
          "base_uri": "https://localhost:8080/",
          "height": 585
        }
      },
      "source": [
        "df.head()"
      ],
      "execution_count": 0,
      "outputs": [
        {
          "output_type": "execute_result",
          "data": {
            "text/html": [
              "<div>\n",
              "<style scoped>\n",
              "    .dataframe tbody tr th:only-of-type {\n",
              "        vertical-align: middle;\n",
              "    }\n",
              "\n",
              "    .dataframe tbody tr th {\n",
              "        vertical-align: top;\n",
              "    }\n",
              "\n",
              "    .dataframe thead th {\n",
              "        text-align: right;\n",
              "    }\n",
              "</style>\n",
              "<table border=\"1\" class=\"dataframe\">\n",
              "  <thead>\n",
              "    <tr style=\"text-align: right;\">\n",
              "      <th></th>\n",
              "      <th>flair</th>\n",
              "      <th>title</th>\n",
              "      <th>score</th>\n",
              "      <th>url</th>\n",
              "      <th>comms_num</th>\n",
              "      <th>body</th>\n",
              "      <th>author</th>\n",
              "      <th>comments</th>\n",
              "      <th>timestamp</th>\n",
              "      <th>combined_features</th>\n",
              "    </tr>\n",
              "  </thead>\n",
              "  <tbody>\n",
              "    <tr>\n",
              "      <th>0</th>\n",
              "      <td>AskIndia</td>\n",
              "      <td>4 days ago pending orders 100 million hydroxyc...</td>\n",
              "      <td>93</td>\n",
              "      <td>https://www.reddit.com/r/india/comments/fwjdqr...</td>\n",
              "      <td>6</td>\n",
              "      <td>getting frantic calls pharma customers delayed...</td>\n",
              "      <td>india_ko_vanakkam</td>\n",
              "      <td>modi stockholm syndrome fair evidence chloroqu...</td>\n",
              "      <td>2020-04-07 20:07:04</td>\n",
              "      <td>4 days ago pending orders 100 million hydroxyc...</td>\n",
              "    </tr>\n",
              "    <tr>\n",
              "      <th>1</th>\n",
              "      <td>AskIndia</td>\n",
              "      <td>randians big time users dating apps like tinde...</td>\n",
              "      <td>18</td>\n",
              "      <td>https://www.reddit.com/r/india/comments/fizkkk...</td>\n",
              "      <td>19</td>\n",
              "      <td>id stint apps couple months one point didnt fe...</td>\n",
              "      <td>__knockknockturnal__</td>\n",
              "      <td>someone matched tell im fat cat 1 general foll...</td>\n",
              "      <td>2020-03-15 18:48:06</td>\n",
              "      <td>randians big time users dating apps like tinde...</td>\n",
              "    </tr>\n",
              "    <tr>\n",
              "      <th>2</th>\n",
              "      <td>AskIndia</td>\n",
              "      <td>r india thinks flat earthers</td>\n",
              "      <td>7</td>\n",
              "      <td>https://www.reddit.com/r/india/comments/f25vx0...</td>\n",
              "      <td>31</td>\n",
              "      <td>encountered foreigner ig says round earth hoax...</td>\n",
              "      <td>Dev1003</td>\n",
              "      <td>havent found indian yet believes earth flat de...</td>\n",
              "      <td>2020-02-11 17:10:55</td>\n",
              "      <td>r india thinks flat earthershavent found india...</td>\n",
              "    </tr>\n",
              "    <tr>\n",
              "      <th>3</th>\n",
              "      <td>AskIndia</td>\n",
              "      <td>people left 9 5 jobs pursue career music art f...</td>\n",
              "      <td>44</td>\n",
              "      <td>https://www.reddit.com/r/india/comments/dtvliq...</td>\n",
              "      <td>34</td>\n",
              "      <td>couldnt add askindia flair mobile browser</td>\n",
              "      <td>c0mrade34</td>\n",
              "      <td>engineer advertisement shoots since last 1year...</td>\n",
              "      <td>2019-11-09 20:57:35</td>\n",
              "      <td>people left 9 5 jobs pursue career music art f...</td>\n",
              "    </tr>\n",
              "    <tr>\n",
              "      <th>4</th>\n",
              "      <td>AskIndia</td>\n",
              "      <td>somebody want kill full family</td>\n",
              "      <td>97</td>\n",
              "      <td>https://www.reddit.com/r/india/comments/b7pvwt...</td>\n",
              "      <td>24</td>\n",
              "      <td>24hrs local police station register case dont ...</td>\n",
              "      <td>amitkumarthakur</td>\n",
              "      <td>calm downgo sp office town file grievance imme...</td>\n",
              "      <td>2019-04-01 01:00:35</td>\n",
              "      <td>somebody want kill full familycalm downgo sp o...</td>\n",
              "    </tr>\n",
              "  </tbody>\n",
              "</table>\n",
              "</div>"
            ],
            "text/plain": [
              "      flair  ...                                  combined_features\n",
              "0  AskIndia  ...  4 days ago pending orders 100 million hydroxyc...\n",
              "1  AskIndia  ...  randians big time users dating apps like tinde...\n",
              "2  AskIndia  ...  r india thinks flat earthershavent found india...\n",
              "3  AskIndia  ...  people left 9 5 jobs pursue career music art f...\n",
              "4  AskIndia  ...  somebody want kill full familycalm downgo sp o...\n",
              "\n",
              "[5 rows x 10 columns]"
            ]
          },
          "metadata": {
            "tags": []
          },
          "execution_count": 20
        }
      ]
    },
    {
      "cell_type": "code",
      "metadata": {
        "id": "ulmnBtHRvs0T",
        "colab_type": "code",
        "colab": {}
      },
      "source": [
        "df4=df.set_index('timestamp')"
      ],
      "execution_count": 0,
      "outputs": []
    },
    {
      "cell_type": "code",
      "metadata": {
        "id": "_Vc0TDr50AjC",
        "colab_type": "code",
        "outputId": "eb9a7db7-0172-47b2-b6ec-3f5f3945b4c3",
        "colab": {
          "base_uri": "https://localhost:8080/",
          "height": 488
        }
      },
      "source": [
        "sns.set(rc={'figure.figsize':(20, 8)})\n",
        "df4['comms_num'].plot(linewidth=1);\n",
        "plt.title(\"Number of comments per post during the timestamp\")\n",
        "plt.xlabel(\"Timestamp\")\n",
        "plt.ylabel(\"Number of comments\")\n",
        "plt.savefig('no of comments per time stamp.png')\n",
        "plt.show()"
      ],
      "execution_count": 0,
      "outputs": [
        {
          "output_type": "display_data",
          "data": {
            "image/png": "[encoded data removed]",
            "text/plain": [
              "<Figure size 1440x576 with 1 Axes>"
            ]
          },
          "metadata": {
            "tags": []
          }
        }
      ]
    },
    {
      "cell_type": "code",
      "metadata": {
        "id": "0dBXxABS2Ahs",
        "colab_type": "code",
        "outputId": "1fb67279-2826-429a-94f8-7b39ac9abf5b",
        "colab": {
          "base_uri": "https://localhost:8080/",
          "height": 486
        }
      },
      "source": [
        "sns.set(rc={'figure.figsize':(20, 8)})\n",
        "df4['score'].plot(linewidth=1);\n",
        "plt.title(\"score per post during the timestamp\")\n",
        "plt.xlabel(\"Timestamp\")\n",
        "plt.ylabel(\"score\")\n",
        "plt.savefig('score per post during time stamp.png')\n",
        "plt.show()"
      ],
      "execution_count": 0,
      "outputs": [
        {
          "output_type": "display_data",
          "data": {
            "image/png": "[encoded data removed]",
            "text/plain": [
              "<Figure size 1440x576 with 1 Axes>"
            ]
          },
          "metadata": {
            "tags": []
          }
        }
      ]
    },
    {
      "cell_type": "code",
      "metadata": {
        "id": "Ekk8QtcB2lyO",
        "colab_type": "code",
        "colab": {}
      },
      "source": [
        "count=0\n",
        "for i in df['title']:\n",
        "  for j in i.split():\n",
        "\n",
        "    if (j==\"modi\",\"Modi\"):\n",
        "      {\n",
        "          # j+ = 1\n",
        "       }\n",
        "    else:\n",
        "      break;\n"
      ],
      "execution_count": 0,
      "outputs": []
    },
    {
      "cell_type": "code",
      "metadata": {
        "id": "gleBVahOzLJO",
        "colab_type": "code",
        "colab": {
          "base_uri": "https://localhost:8080/",
          "height": 34
        },
        "outputId": "4f55d8d4-0b7c-4e32-eaed-b2da86ffa32b"
      },
      "source": [
        "data.shape"
      ],
      "execution_count": 28,
      "outputs": [
        {
          "output_type": "execute_result",
          "data": {
            "text/plain": [
              "(871, 10)"
            ]
          },
          "metadata": {
            "tags": []
          },
          "execution_count": 28
        }
      ]
    },
    {
      "cell_type": "code",
      "metadata": {
        "id": "fluxeiNk_dYA",
        "colab_type": "code",
        "outputId": "eef60300-21de-4d42-9d80-51b541f76475",
        "colab": {
          "base_uri": "https://localhost:8080/",
          "height": 1000
        }
      },
      "source": [
        "for i in df['title']:\n",
        "  print(i)"
      ],
      "execution_count": 24,
      "outputs": [
        {
          "output_type": "stream",
          "text": [
            "4 days ago pending orders 100 million hydroxychloroquine tablets placed state run hospitals suddenly enough tablets suit regimes agenda\n",
            "randians big time users dating apps like tinder bumble made stop using\n",
            "r india thinks flat earthers\n",
            "people left 9 5 jobs pursue career music art forms able sustain lives\n",
            "somebody want kill full family\n",
            "need feedback insurance policy took xpost askindia\n",
            "ambassador india takes back newly issued oci card suggests pay fill new application please advise\n",
            "toothpaste alternative\n",
            "randians afraid ask\n",
            "askindia cingari cengar tzengar\n",
            "private limited company closure consumer court lawsuit\n",
            "clueless american food etiquette indian neighbors\n",
            "skill sets required entrepreneur invoke youth choose entrepreneurship\n",
            "gotra\n",
            "happened spiritual country india used\n",
            "recommendations books indian history written indians\n",
            "hello group students netherlands research indian market could please help us filling survey\n",
            "european looking opinions indians regarding make difficult relationship work\n",
            "really need talk flairs\n",
            "vote 2019 general elections\n",
            "need help people working sector absconded company past please share experience afterwards\n",
            "writing book titled ironically letters bff response nikita singhs letters ex\n",
            "nice great old threads browse subreddit\n",
            "ask reddit please advise balding like girl\n",
            "books bibliophiles many like read literary fiction favourite book genre\n",
            "recommendations jaipur trip nonhindi speaking couple\n",
            "shower thought subsidies cheap favours political parties make people happy enough vote parties likely people low standards due poverty\n",
            "r4r missed connection interacted r4r nice conversation going little misunderstanding came way\n",
            "policy creating jobs indian economy\n",
            "psa r india submission flairs use\n",
            "well articulated anti congress whatsapp forward bhakton ki nayi p eshkash\n",
            "buying apartment hyderabad\n",
            "r updated wiki rules flairs\n",
            "r feedback thread sequel results announcements\n",
            "modpost new flairs r india improving discussions r india\n",
            "older experienced people india actually happen marry outside caste\n",
            "india get rid one state one would choose\n",
            "mod post introducing new flairs better organization content\n",
            "list india related sub reddits\n",
            "complications future jobs absconding workplace\n",
            "subreddit day ask india\n",
            "np tax return file im salaried making money sidegig\n",
            "india independence\n",
            "bill gates thoughts climate change indias role\n",
            "explain like 5 first past post system fpps effect elections held india\n",
            "want work ngo dont know start suggestions help\n",
            "np cost shipping uk\n",
            "cant seem understand ems works\n",
            "best nonquora non saax non grill ask india threads serious\n",
            "us double standards\n",
            "msc india ms us germany possible\n",
            "long fascinating story dadra nagar haveli got integrated india\n",
            "askindia someone please help anxiety porn addiction\n",
            "anybody lose jobs get pay cut due current coronavirus situation coping askindia\n",
            "askindia police traffic police personnel catch corona\n",
            "askindia hikikomori india one lets talk\n",
            "askindia please recommend old indian hard rock music\n",
            "askindia need medical advice urgently\n",
            "askindia china prevent virus spreading states allowed spread across india\n",
            "askindia give bank balance national security\n",
            "askindia daughters entitled dads property inherited property previous generation\n",
            "askindia good time change jobs\n",
            "askindia government put emi payment hold april 2020\n",
            "askindia percentage people walking 200+ kilometres return native make\n",
            "askindia family love modi become angry like typical bhakts whenever say anything convince otherwise\n",
            "askindia fathers mothers reddit india 3841 weeks pregnancy like long post ahead\n",
            "r askindia people afraid quarantine sometimes fection\n",
            "askindia buy indian youtube premium european credit card\n",
            "askindia planing pass time 21 days lock\n",
            "askindia lost far dissenting bjp tadipar jumlabaaz chaddichandan champani nadani gangs\n",
            "askindia many months left till india gets slapped hefty sanctions\n",
            "askindia throwaway account need advice\n",
            "steps women take safety askindia\n",
            "askindia post lock hotels metro cities allowed rent rooms\n",
            "askindia colours used holi still getting imported china\n",
            "askindia corona virus death rate steadily increasing\n",
            "fiels like fire engineering scope india askindia\n",
            "askindia police verification passport renewal without local id\n",
            "askindia last time fun r outside funny memorable moments miss go\n",
            "askindia working foreign country language use speaking fellow countryman\n",
            "askindia close think getting stuck middle income trap\n",
            "askindia nid students need pointers academics\n",
            "askindia easiest way prevent government officials accept cash bribe get away\n",
            "askindia credit report showing consumer loan\n",
            "askindia voluntarily give income tax refund\n",
            "askindia recently visited ahmedabad liked city cleanliness less traffic generally low prices everyday stuff opinions randians ahmedabad city settle long term\n",
            "askindia convince parents eat healthier\n",
            "askindia think would next indian would looked next 1015 years\n",
            "askindia reduce time takes get judgment court cases\n",
            "nesl authentication loans askindia\n",
            "askindia book 10 domestic flights tickets single flight hacks tips save money\n",
            "2010s india known askindia\n",
            "askindia indigo cancelled flight less 8 hour due bad weather scheduled departure without providing alternate flight claim compensation cancelled flight refund\n",
            "askindia hey r india please help ideas donating money also cmv approach thinking wrong\n",
            "askindia food need indian food tracking app suggestions nontech savvy parent\n",
            "askindia seeking recommendation buy motorcycle late 2020\n",
            "askindia subs would guys like see india focused subs would recommend\n",
            "askindia toptier product companies encourage fresh graduates 1 yr experience apply offcampus\n",
            "askindia one thought haseena maan jayegi song lyrics aaju baju market love bol daal\n",
            "askindia many otp request services dont use\n",
            "indian states uts renamed countries similar population nonpolitical\n",
            "hotstar finally uploads sundays last week tonight john oliver nonpolitical\n",
            "icse isc exams postponed due covid19 nonpolitical\n",
            "nonpolitical friend wrote first book week giving opportunity people read free kindle\n",
            "nonpolitical wild karnataka david attenborough behind scenes bts youtube\n",
            "nonpolitical newspaper 50 year old today\n",
            "nonpolitical today zoroastrian community celebrate navroz new year navroz mubarak\n",
            "prime time ravish kumar april 24 2019 nonpolitical prime time ravish kumar\n",
            "nonpolitical dear bangalore see graffiti raise delhis effort spotted connaught place\n",
            "nonpolitical whats deal new black hole pic doordarshan first\n",
            "randians benchmark drink price bar nonpolitical\n",
            "nonpolitical fist 50 paise thumbs 1 rupee v 2 rupees\n",
            "question non political income tax returns aadhar\n",
            "akshay kumar engage nonpolitical conversation pm modi\n",
            "nonpolitical c train queue system implemented people\n",
            "make list nonpolitical personalities bias particular political party example inside\n",
            "nonpolitical robbed friday zomato\n",
            "nonpolitical could forget\n",
            "setting example nonpolitical affluent public figures adopt localities development\n",
            "non political able access facebook google youtube even bookmyshow jio gurgaon happening\n",
            "movie intervals start non political meme\n",
            "eat mangoes decoding akshay kumars nonpolitical interview pm modi\n",
            "non political looking decent affordable phone\n",
            "nonpolitical given ban porn sites india reddit instagram blocked yet\n",
            "nonpolitical aib gone overboard #pyaarekdhokhahai event\n",
            "forgotten promise 1949 rss wrote nonpolitical role part undertaking gave sardar patel overt political role assumed 2013 breach agreement constitution oct2013\n",
            "nonpolitical idukki reservoir balcony view cottage stayed\n",
            "nonpolitical indian idol worst\n",
            "nonpolitical butterfly beach goa\n",
            "rant deserve deserve nonpolitical\n",
            "post non political #foodie\n",
            "nonpolitical randians help crush situation\n",
            "find r india circlejerking much shashi tharoor whenever reproaches evils british raj alternative perspective gurcharan das non political\n",
            "non political aadhar fiasco lets forget inspired whole damn thing first place\n",
            "nonpolitical hiding bhai\n",
            "nonpolitical solution whatsapp forwards causing havoc\n",
            "update india specific writing prompts allowed r india nonpolitical flairs\n",
            "non political hey ro india malayalees celebrating vishu kerala today\n",
            "forgotten promise 1949 rss wrote nonpolitical role part undertaking gave sardar patel overt political role assumed 2013 breach agreement constitution oct2013\n",
            "nonpolitical vodafone extorting balance past 2 months blocking calls customer care number\n",
            "tank bund hyderabad nonpolitical\n",
            "went dalhousie last week wanted guys see natures beauty nonpolitical\n",
            "nonpolitical companys ad pic middle\n",
            "nonpolitical affiliate marketer taxes would pay\n",
            "nonpolitical anybody tell use locksreen wallpaper changer app xiaomi phones\n",
            "nonpolitical travel suggestions august\n",
            "nonpolitical broke doorknob hear good place get new one\n",
            "randians nonpolitical unpopular opinions\n",
            "please flair humor posts apparently mostly fakingnews humor political nonpolitical\n",
            "non political serious indian women think indian guy payed sex would marry\n",
            "nonpolitical serious whats thoughts gst\n",
            "non political anyone act hyderabad ridiculously slow internet youtube app takes 3 minutes load sites dont load anyone else problem\n",
            "non political kid father always wanted like days\n",
            "nonpolitical ola cabs bangalore\n",
            "pv sindhu nozomi okuhara match final world championships going set standard epic sporting encounter supposed non political\n",
            "nonpolitical apt\n",
            "us president donald trump threatens stop trading india high tariffs non political\n",
            "welderss son mumbai accepted worldleading ballet school new york nonpolitical\n",
            "nonpolitical story behind aadhaar name slogan\n",
            "non political year old cat ran away get come back\n",
            "weeks ago shared teaser event called living room sessionin pravesh hingmang best talent seen performing two orginals nonpolitical\n",
            "favourite nonpolitical subreddits\n",
            "nonpolitical meanwhile japan\n",
            "660 million indians could live longer india follows 5 recommendations nonpolitical\n",
            "nonpolitical anyone bad childhood experience due caste system\n",
            "indias first lesbian ad non political\n",
            "askindia nonpolitical popular job boards non jobs marketing sales finance\n",
            "non political redditors india one thing job activity parents young youd never youre twenties rather expect parents servants\n",
            "nonpolitical random discussion thread late night bachas early morning unkils 6th may 2015\n",
            "text non political verge quitting business four years wrote\n",
            "nonpolitical meet bhut jolokia also known ghost pepper worlds hottest spiciest chilli cultivated bangladesh indian states assam nagaland manipur\n",
            "nonpolitical rare video bappa fun imagica also sums first day swimming\n",
            "nonpolitical found 6 new born puppies parking lot left die need help finding decent place\n",
            "nonpolitical request need favor anyone dvr india today channel\n",
            "non political cbse grade 10 science exam\n",
            "nonpolitical clicked pictures street kids mumbai give prints tomorrow\n",
            "vegetarian terrorists non political joke\n",
            "nonpolitical wondering many centuries since video came\n",
            "nonpolitical indian wedding relationship traditions\n",
            "nonpolitical saw r askreddit song lyric makes cringe\n",
            "nonpolitical snapdeal proposed freecharge today twitter freecharge accepted freecharge part snapdeal\n",
            "nonpolitical zok tym\n",
            "think come way make journalists india accountable ideas folks nonpolitical\n",
            "non political request tanmay bhatt ama request\n",
            "kohli like nonpolitical\n",
            "nonpolitical give alms beggar yes type always confused whether pay\n",
            "non political new game thrones season starts couple weeks watching r india\n",
            "jinder mahal indian wwe star turning heat non political\n",
            "head department college confessed final exams evaluated randomly less 2 minutes per answer sheet get news outletnonpolitical\n",
            "ask nonpolitical assaduddin owaisi actively work lawyer indian court\n",
            "nonpolitical colour run festival becomes big hit india\n",
            "nonpolitical north indians whats honest opinion south indians viceversa\n",
            "nonpolitical tata sky wont stop stealing\n",
            "simple joys cisf policeman playing candy crush iphone delhi metro non political\n",
            "nonpolitical cant solve economic crisis read story\n",
            "saw flag felt flying india turns 70 balbir singh sr recalls newly independent indias hockey gold 1948 olympics helping ease pain partition non political\n",
            "could someone give advice approaching indian girl nonpolitical\n",
            "nonpolitical hi randia im std 12 student applied college interview need guidance interviews\n",
            "bastar 50 villages ban nonhindu missionaries non political\n",
            "nonpolitical urge everyone censorship let cbfc win buy tickets udta punjab\n",
            "r eddiquette take earphones inside eden gardens askindia\n",
            "eli5 come people use words like tard r eddiquette enforced thread\n",
            "positive culture muslim conquests india bring india muslims enriched india historically r eddiquette discussion\n",
            "people r india help complete stranger career advice r eddiquette\n",
            "planning election r esult coverage\n",
            "ama announcement rahul yadav cofounde r ceo housingcom tuesday 19th may 6pm ist\n",
            "ama announcement r india hosting 2 amas rajeev chandrasekhar member rajya sabha tuesday june 2nd 7 pm bipin preet singh cofounder ceo mobikwik thu r sday june 4th 6 pm ist\n",
            "case person mentioned suicide note reason suicide proceed person lying note make someone else life hell dying\n",
            "eli5 lawyers r india differences criminal defamation case political defamation case\n",
            "r need help finding old story\n",
            "othe r side\n",
            "afte r listenining pm much coming 5 months last decade\n",
            "congress get 90 seats r\n",
            "political ideology aap based wo r k announcements\n",
            "r bitter reality modiland\n",
            "high drama rs introduction bill bdesh border r\n",
            "amit shah accused illegal snooping woman sahebs behest r\n",
            "even everyone immoral ways reducing corruption changing institutional rules r\n",
            "untouchability even quarantine never taken food cooked scheduled caste person two middleaged men said\n",
            "delhi govt sources names cm arvind kejriwal deputy cm manish sisodia dropped school event melania trump scheduled visit delhi govt sources claim attend programme since school comes delhi govt\n",
            "delhi ap singh advocate 2012 delhi gangrape convicts arrives residence supreme court registrar convicts scheduled executed 530 today\n",
            "supreme courts verdict sc st quotas created political storm upheld states powers deny reservations scheduled caste scheduled tribe communities\n",
            "entrance exams scheduled may\n",
            "advisory scheduled international commercial passenger aircraft shall allowed land india march 22 2020 one week\n",
            "roommate india hes indian american citizen hes scheduled arrive saturday impact return\n",
            "ministry scores 100 fund utilisation scheduled castes\n",
            "hydroxychloroquine schedule h1 drug sold prescription\n",
            "maharashtra govt schools urban areas maharashtra govt pvt schools jurisdiction nagar panchayat nagar palika mahanagar palika remain closed till 31st march exams class 10th 12th university exams held per schedule #coronavirus\n",
            "askindia indigo cancelled flight less 8 hour due bad weather scheduled departure without providing alternate flight claim compensation cancelled flight refund\n",
            "nirbhaya case sc quashes death row convicts plea rejection mercy four death row convicts case scheduled hanged 600 february 1\n",
            "lets fix sleep schedule\n",
            "hr people people ladder applied role trading firm yesterday got call appear interview thing ncr interview scheduled hyderabad request take interview delhi office\n",
            "massive mob storms scheduled castes colony search intercaste couple andhra pradesh attacks activist alleges police file case pressure mounted dalit rights groups\n",
            "sources bangladesh foreign minister ak abdul momen cancels visit india scheduled visit india december 1214\n",
            "india highly questionable work culture benefit 4 days working 3 days weekly schedule\n",
            "job consultancy companies request pan card scheduling interview cancel interview sending resume pan card possible scam\n",
            "womans porn clip appears husbands phone wedding night threatens suicide goes police\n",
            "people still hoarding\n",
            "continuing practice untouchability india\n",
            "ladakh students organisation unified ladakh held procession earlier today leh demanding 6th schedule union territory ladakh\n",
            "anyone india successfully able replace maids roomba\n",
            "2020 hptdc bus schedule\n",
            "fresher tomorrow scheduled interview things aware\n",
            "rocket launch pslvc48 scheduled launch risat2br1 9 commercial satellites december 11 2019 satish dhawan space centre shar\n",
            "decides whether community given scheduled tribe status\n",
            "india ahead schedule accomplishing solar power target target 2022 mind\n",
            "compiled absolute best ways indians pass time lockdown\n",
            "late night random discussion thread\n",
            "scheduled castes get reservation per population proportion chhattisgarh cm\n",
            "worth travel bangalore sriharikota watch launch chandrayaan2 considering launch scheduled 0251 hours\n",
            "way\n",
            "attack pulwama think inappropriate us political discussions says priyankagandhivadra defers press conference lucknow scheduled today\n",
            "update bjp clarifies saying theres press conference scheduled 26 april pm narendramodi\n",
            "shaheen bagh hope protest ends\n",
            "breaking congress ruled state governments pass resolution citizenship amendment act national register citizens respective assemblies\n",
            "3 men handed death penalty rape murder dalit woman telangana\n",
            "govt brings 42 nonscheduled cancer drugs price control\n",
            "trains availability schedule flexibility\n",
            "worldwide protest today event list mega thread\n",
            "people working home company setup timedoctor monitoring tools\n",
            "advice\n",
            "vegetarianism india caste hierarchy love animals\n",
            "jee advanced 2020 girls 20 supernumerary seats reserved iits\n",
            "hi r india made bot stop fake news whatsapp\n",
            "get full refund jet airways international flight scheduled next moent\n",
            "confusion train schedule could someone please help\n",
            "seattle city council becomes first us legislative body pass resolution caa full video hearing vote followed\n",
            "plotted number scheduled sitting days lok sabha number days actually\n",
            "punjab dalit labourer beaten forced drink urine dies\n",
            "regarding previous post scheduled threads\n",
            "exactly goal hinduism\n",
            "indians grow spine already\n",
            "caa rules applicants asked submit proof religion\n",
            "scheduled first counselling session psychologist keep mind expect get\n",
            "anyone know pmnrf donating prime minister national relief fund utilised\n",
            "tifu scheduled caste apparently looking like one\n",
            "anyone notice high number nationalist right wing movies scheduled released 2019\n",
            "security personnel bjp mp chairman national commission scheduled castes ram shankar katheria thrash toll plaza employees fire air argument\n",
            "india needs put blanket ban exams next months\n",
            "get full refund compensation penalty jet airways international flight scheduled june 2019\n",
            "sc st quota promotion narendra modi government takes big decision centre today asked departments state governments implement reservation promotion employees belonging scheduled caste sc scheduled tribe st categories\n",
            "askindia fathers mothers reddit india 3841 weeks pregnancy like long post ahead\n",
            "serious someone please suggest way solve issue passport application rejected\n",
            "appreciation maharashtra government\n",
            "add kashyap brahmins 16 obcs scheduled castes list\n",
            "images india scheduled thread #1\n",
            "narmada dam fills villages go madhya pradesh protests gujarat violating schedule ahead rehabilitation\n",
            "already severe delhis pollution likely enter emergency zone today\n",
            "wedding woe\n",
            "thank rajya sabha mps shri p tripathi shri husain dalwai asking important aadhaarrelated questions parliament scheduled friday 22nd law asked link refuse optout #speakforme\n",
            "induction hindutva judges supreme court understanding fall indian judiciary modi 2 n repost\n",
            "trip advise uttarakhand himachal june later 2 people 3 4 days\n",
            "daily current affairs\n",
            "amazed inspired indian youth\n",
            "disastrous coaching schedule\n",
            "nrc hit unorganised sector hard\n",
            "uts app notification train service 3 hours past scheduled time\n",
            "avail waiting room railway station 2 hour train scheduled departure\n",
            "come back\n",
            "caste conundrum upper castes believe discrimination doesnt exist\n",
            "schedule jk block development councils polls announced day two\n",
            "idea executed level\n",
            "postpone lok sabha polls scheduled april 18 church body ec cbci urged poll watchdog either anticipate postpone lok sabha elections scheduled april 18 day maundy thursday holy day commemorates last supper jesus disciples\n",
            "help complete project\n",
            "ravi shankar prasad cancelled scheduled speech bbcs fake news conference\n",
            "scheduled threads\n",
            "suggestions dealing deal depression low confidence mental health\n",
            "confession kinda stuck\n",
            "indigo flight chandigarh overbooked passengers stranded\n",
            "996 overtime schedule help india catch china\n",
            "scheduled sadness+solutions thread\n",
            "ama announcement aatish taseer writer journalist december 27th 930 pm ist ie today\n",
            "confession dilemma\n",
            "mental health therapy service nris\n",
            "six hour schedule power cut 10am 4pm tuesday modiji says banking tax things online hahaha\n",
            "nonhiring someone family name considered cast discrimination\n",
            "suggest websites deals cheap flight tickets\n",
            "subscribed scripbox 3 months ago since invested around 10k long term investment plans value investments never went 10k theyre 93k im scheduled make next payment soon\n",
            "rajasthan government bans photography distribution food among poor\n",
            "oc messing around camera two days ago complete newbie photography image processing think image rather photogenic cloud moon kolkata sony a6000+e35mm f 18 lens iso100 f 100 1 8s exposure 6020x4023\n",
            "looking analog film photography camera\n",
            "weekly photography thread thread december 09 2019\n",
            "weekly photography thread thread february 10 2020\n",
            "weekly photography thread thread february 03 2020\n",
            "photography enthusiasts r india suggestions good mirrorless camera 5060k\n",
            "weekly photography thread thread january 06 2020\n",
            "weekly photography thread thread january 20 2020\n",
            "weekly photography thread thread november 18 2019\n",
            "weekly photography thread thread january 13 2020\n",
            "weekly photography thread thread december 30 2019\n",
            "weekly photography thread thread october 21 2019\n",
            "happy world photography day dhanaulti uttarakhand dhanaulti hill station situated foothills garhwal himalayas 824 x 1280\n",
            "serious would people india react someone started posting erotic implied nude photography instagram\n",
            "weekly photography thread thread november 04 2019\n",
            "weekly photography thread thread september 02 2019\n",
            "prospect photography india\n",
            "weekly photography thread thread december 02 2019\n",
            "weekly photography thread\n",
            "weekly photography thread thread december 23 2019\n",
            "weekly photography thread thread november 11 2019\n",
            "weekly photography thread thread december 16 2019\n",
            "weekly photography thread thread november 25 2019\n",
            "goas parra village suspends tourist photography tax\n",
            "weekly photography thread\n",
            "weekly photography thread thread october 07 2019\n",
            "weekly photography thread thread october 28 2019\n",
            "name suggestion wedding photography business\n",
            "weekly photography thread thread september 09 2019\n",
            "weekly photography thread thread october 14 2019\n",
            "weekly photography thread thread september 16 2019\n",
            "weekly photography thread\n",
            "best online photography printing service\n",
            "advice engineer inclined towards photography\n",
            "weekly photography thread thread august 26 2019\n",
            "level sycophancy office unreal\n",
            "weekly photography thread thread september 23 2019\n",
            "photography nda graduation ceremony pune today warm smiles happy families\n",
            "weekly photography thread thread september 30 2019\n",
            "photography oc boy cow\n",
            "weekly photography thread june 24 2019\n",
            "senthil kumaran documenting humanwildlife conflict photography sociopolitical tool\n",
            "photography hobby rich guys\n",
            "buy photography equipment\n",
            "shimla last nights snowfall mobile mi a2 photography\n",
            "weekly photography thread thread august 12 2019\n",
            "weekly photography thread thread august 19 2019\n",
            "visiting india\n",
            "weekly photography thread thread august 05 2019\n",
            "drone photography mumbai\n",
            "weekly photography thread july 01 2019\n",
            "youtube channel recommendations top 25\n",
            "photography durga pooja celebration aftermath delhi\n",
            "fake rain eighthour shoots wedding photography kerala going viral\n",
            "mumbai street tiltshift photography\n",
            "photographers india need photography assistance suggestions guide begin field good upcoming photography workshops talks courses etc\n",
            "photography encountered fck area particular kind natures sht commuting today\n",
            "photography experts india need accessory kochi\n",
            "photography travel thread\n",
            "started btech degree yesterday age 25\n",
            "photography kala pathar beach havelock south andaman oc\n",
            "inside mysore palace 10801168 oc redmi y2\n",
            "total lunar eclipse starting regions india photography discussion thread\n",
            "photography bright night govindaraja temple tirupati\n",
            "ive recently generated interest photography type suggestions criticism welcome thank 2326 x 3102\n",
            "temple near udaipur shot fujifilm xt20 1520x2304\n",
            "oc photography magpie singing morning near mumbai india\n",
            "photography oc fruit bat cleaning fingers licks mumbai india\n",
            "photography thread doggos cats pets edition\n",
            "anyone pursuing photography career lets connect\n",
            "analog photography viable india\n",
            "watching movies india truly unique experience\n",
            "photo ladies fingers grown india shows left benefits smart irrigation second prize people skills category epsrc annual photography competition 2018\n",
            "photography forceful kaveri waters weekend shivanasamudra falls karnataka\n",
            "tiltshift photography inspired previous post np\n",
            "oc 1442x810 galaxy note 8 bangalore solution problems\n",
            "recent exhibition godrej urban lens festival titled love city tries capture different vignettes curated photography promotion trust includes works number photographers\n",
            "photography sajjangad udaipur\n",
            "much would charge food photography\n",
            "photography curious hanuman street pune night ganpati festival oc\n",
            "photography jumping joy\n",
            "daily weekly photography thread\n",
            "photographer communities mumbai\n",
            "new r india specific community awards\n",
            "charminar hyderabad 35mm film\n",
            "photography raj machi fort maharashtra\n",
            "im southern california going mumbai next 3 weeks staying family south mumbai near peddar road anyone want hang show around possibly\n",
            "options part time work\n",
            "backpacking india advice\n",
            "people hire wedding photographers\n",
            "jallikattu malayalam must watch\n",
            "give options\n",
            "ugly side wildlife photography cameratoting tourists unscrupulous professionals search perfect action shot danger wildlife habitats\n",
            "need suggestions smartphone\n",
            "photography things squirrels foraging original content\n",
            "inside daria daulat bagh palace oc 40323024 iphone 7\n",
            "backstage picture shows man getting ready play role woman hindu theater story telling yakshagana bajpe mangalore oc 2208x1784 shot canon 60d\n",
            "photography nagpur city 35000 feet\n",
            "sanctuary wildlife photography awards stunning images capture indias complicated relationship wildlife\n",
            "indian girls guide science technology engineering math\n",
            "sanskrit useful science technology rajnath singh says\n",
            "science technology food safety standards authority india published 2 open ebooks food safety nutrition adulteration detection home citizens\n",
            "options parttime undergraduate courses science technology bright student going hard times\n",
            "sanskrit useful science technology rajnath singh says\n",
            "science technology india topranked country mobile data consumption\n",
            "american cooperation science technology innovation help indias startup ecosystem\n",
            "science technology til india one 12 original centres earth domestication plants first started\n",
            "onlinerti twitter rti cic appointment modi government invites anyone wide experience law science technology etc\n",
            "satisfied childs exposure science technology survey\n",
            "ashis nandy remarkable indian political psychologist social theorist critic\n",
            "til us company owned princely family liechtenstein tried patent basmati rice us patent office granted broad patent 1997 eventually watered india challenged patent threatened wto dispute\n",
            "criticism new education policy 2019 existent education policies\n",
            "future artificial intelligence machine learning india\n",
            "redditors kolkata\n",
            "need help depression anger\n",
            "np engineering education india hot intake cold results\n",
            "dear r india lets talk recent govt appointments iit iim tifr isi ftii etc please let us discuss rationally future\n",
            "r ama announcement team indus 14th february 1100 1230 ist\n",
            "way interact fellow upsc aspirants reddit\n",
            "please keep clean\n",
            "contribute nations ambitious plans become global superpower\n",
            "please consider buying book india 2020 exodus utopia warning book plug\n",
            "mobile harvest india\n",
            "exposition solution ngo problem\n",
            "covid 19 parliamentary standing committee science technology invites inputs\n",
            "first indian victim coronavirus china needs 1 crore treatment maheshwari primary art school teacher international school science technology shenzhen suffering coronavirus pneumonia type 1\n",
            "exams p ostponed assam science technology university due protests\n",
            "fuck religion\n",
            "blessings god modi party official says offer ritual prayers wont get infected coronavirus\n",
            "indias science technology funding time rethink\n",
            "difference indian cow buffalo sri sri institute agricultural sciences technology ssiast\n",
            "hindu nationalists claim ancient indians airplanes stem cell technology internet science\n",
            "np fiitjee institute supposed teach science technology uses hindu mythology get students enrolled selling idea kalyug scare parents admitting kids cancer institute\n",
            "one good effects lockdown air quality improved lot\n",
            "anyone know much iist indian institute space science technology\n",
            "scientists india ministry science technology wants research yoga meditation\n",
            "serious post bye\n",
            "people test negative might also coronavirus study\n",
            "india must shed intellectual colonialism excel science technology\n",
            "calculus created india 250 years newton study technology science\n",
            "terrifying moments india counts risky moon landing touchdown successful chandrayaan2 first lunar mission explore south pole\n",
            "india south korea sign mous science innovation technologies\n",
            "ministry science technology launches satyam science technology yoga meditation programme\n",
            "websites cover science technology news focussing india\n",
            "science technology secret longevity microbiome gut\n",
            "science technology np using samsung pay much fun\n",
            "india south korea sign mous science innovation technologies\n",
            "india israel expand cooperation defense science agriculture technology\n",
            "number times words appear bjp manifesto hindu 1 muslim 1 temple 1 science 27 technology 58 bravo\n",
            "latest indian innovations funding opportunities combat covid19\n",
            "science technology 20 important discoveries 2017\n",
            "national mission quantum technologies applications nmqta\n",
            "notes digital republic\n",
            "pandit jawaharlal nehru science technology published nov 13 2014\n",
            "chandrayaan moon landing\n",
            "department science technology launches rs 100 crore programme support startups\n",
            "centre grants rs 11 cr indian institute engineering science technology iiest #shibpur conduct medical research homeopathy\n",
            "union science technology minister head panchgavya panel rss vhp members\n",
            "place discuss scientific engineering research indians science technology\n",
            "barkha dutt twitter jp nadda new health minister drharshvardhan moved science technology\n",
            "india needs invest education health care else future india doomed\n",
            "niti aayog recommends constituting foundation improve indias science technology performance\n",
            "india capture 10 global medical technology market 2025 dr harsh vardhan minister science technology government india\n",
            "benefits cow urine science technology minister head panel rss vhp members hindu\n",
            "dream kalam dead\n",
            "essays history indian science technology amazing resource compiling many authors\n",
            "suggestions invited clean himachal pradesh submit 20th march\n",
            "ani twitter inherited rich tradition science technology ancient times seek scientists help transforming india pm modi\n",
            "25m need career advice\n",
            "anyone infosys mncs question document verification\n",
            "ancient indias contribution science technologyhow much truth much false\n",
            "np science technology good ups battery back\n",
            "r indians charge union budget year 5 years 10 years percentage would allocate science technology\n",
            "iits iisc elearning courses engineering science technology little dated content generally good\n",
            "1st year ece graduate wants give jee mains im confused need help\n",
            "science universal technology must local pm\n",
            "iisc team submits evidence superconductivity\n",
            "fast well know science technological side country\n",
            "vigyan prasar vp autonomous organisation department science technology published\n",
            "kvpy scholarship admit card available today 4 pm conducted department science technology govt india\n",
            "indias investment public private science technology 1 gdp world average 21 china 17\n",
            "science takes backseat delhi despite govt push technology\n",
            "engineering promoted across india even good career choice\n",
            "trust love works eventually story\n",
            "conflict india pakistan ever come end\n",
            "r lets discuss bjp congress manifestos\n",
            "education science ft bjp eve pariksha pe charcha narendra modi\n",
            "anyone graduated getting degree iist indian institute space science technology\n",
            "need career guidance cs\n",
            "70 feel quality exposure science deteriorating less surprising results survey quality education science technology\n",
            "career change advice\n",
            "llb college start soon huge career mistake interested computers teaching possible 3 years without college please help\n",
            "foreign tech influx smothering indian science barc director sekhar basu india become huge market rather centre technology innovation\n",
            "math science technology india ancient recent\n",
            "science technology foundation future india pranav mistry\n",
            "let us begin next decade way\n",
            "utilising cutting edge data mining technology science\n",
            "mind blowing facts manmohan singh\n",
            "suggestion regarding institute go data science course\n",
            "pitting community political party fucking stupid\n",
            "new political party gave full front page ad popular newspaper today bihar\n",
            "hit backlash posts lack medical gear doctors go silent social media two doctors tweeted shortage protective gear medical personnel handling covid19 cases trolled accused political propaganda\n",
            "ive curious indian politicians think good job politics\n",
            "politics time corona wb cm questions centres choice yellow ppe kits says might use\n",
            "trying time lets try little less nationalist political racist bit human\n",
            "aaps woeful response delhi communal violence reflects limit welfare politics\n",
            "f politeness actor swara bhasker kunal kamra caanrc divisive ideologies\n",
            "soft hindutva left revolution kejriwal establishing new centre indian politics\n",
            "indian states uts renamed countries similar population nonpolitical\n",
            "political satirists like harishankar parsai rklaxman able survive india considering dangerous politics\n",
            "question celebrities political leaders\n",
            "anand mahindra doesnt matter politics doesnt matter ideology doesnt matter faith youre indian cannot tolerate armed lawless goons invaded jnu tonight must traced hunted swiftly given quarter\n",
            "made political compass test indians\n",
            "sena hails arvind kejriwal says delhi cm singlehandedly taking bjps hindumuslim politics\n",
            "politely turn food india\n",
            "ia preventing joining politics\n",
            "comic current political scenario\n",
            "r india recommend unbiased book indian politics unbiased least books arguments backed evidence\n",
            "rahul gandhi rahul gandhi looked us emotionally monetarily asked us keep secret says nirbhayas father nov 2017\n",
            "pm modi needs political courage fix postlockdown economy\n",
            "former rbi governor raghuram rajan says slowdown growth due current govt focussing meeting political social agenda rather paying attention economy\n",
            "mha letter chief secydgp west bengal reported police allowing religious congregations free ration distributed institutional delivery political leaders may resulted spread covid19 infection\n",
            "good politics meets bad economics\n",
            "got detained within minutes holding placard saying free kashmir free political prisoners kashmir assam police stood mute today guy holding gun shoots student protestor\n",
            "hotstar finally uploads sundays last week tonight john oliver nonpolitical\n",
            "ayodhya 1992 delhi 2020 mosques long target bjps corrosive politics\n",
            "squandering opportunities principles politics cpi choice\n",
            "fyi arnab goswami flight morning returning lucknow asked politely wants honest discussion verbal arrogant hand jester asked move away\n",
            "serious create political awareness\n",
            "morning walk happy fridge donate food someone need really liked initiative done political party self post\n",
            "today congress greatly weakened become politically irrelevant 143 lok sabha due breakaway regional congress parties led former regional leaders\n",
            "talking cab drivers politics oldest clich uber safe space\n",
            "serious create political awareness\n",
            "supreme courts verdict sc st quotas created political storm upheld states powers deny reservations scheduled caste scheduled tribe communities\n",
            "seems well modi shah\n",
            "rss says tablighi jamaat conduct reflection muslims theyre aiding govt fight\n",
            "bengal dairy farmers sale cow urine covid19 medicine sparks political debate\n",
            "ram mandir shaheen bagh mp horse trading midst pandemic politics usual bjp\n",
            "losing friends politics\n",
            "whats solution indias current political scenario\n",
            "jyotiraditya scindia sachin pilot one way survive politically leaving congress\n",
            "indian politics front centre ontario legislature debates law declaring sikh genocide\n",
            "matter political party support u support violencedont visuals bleeding students teachers shake upwe cant sit fence longerkudos deepikapadukone showing spoke speaking upthis time stay quiet sonakshi sinha\n",
            "mp political crisis scindia set join bjp 6 pm say report\n",
            "fears current political situation would affect republic day celebrations turned true\n",
            "another political party possible death blow bsp\n",
            "unpopular opinion indians need learn stand parents talking big things standing government political party society\n",
            "national parties collapsed regional parties remained would indian politics like\n",
            "letter wall street dear pm modi politics wait economy cannot\n",
            "shekhar gupta modi politics messaging\n",
            "suresh bhaiyyaji joshi rashtriya swayamsevak sangh rss general secretary goa hindu community mean bharatiya janata party opposing bjp amount opposing hindus political fight continue linked hindus\n",
            "literally given politics honest pure comedy\n",
            "trump visiting indias politics hate erupt world witness\n",
            "violence violence politics narratives delhi pogrom\n",
            "offbeat hindi eli5 inclusion worst political goal explanation comments\n",
            "one leading indian mathematician modern times ms raghunathan speaks current state politics effects science education\n",
            "politics exrbi governor raghuram rajan indias falling gdp\n",
            "politics business mukesh ambani meets andhra cm jagan residence\n",
            "government money splurge statues asking donations\n",
            "ram mandir shaheen bagh mp horse trading midst pandemic politics usual bjp\n",
            "pakistan aiming score narrow political goals seeking covid19 initiatives saarc govt sources\n",
            "delhi aam aadmi party aap attend todays opposition meeting called congress discuss current political situation country\n",
            "delhis local elections show narendra modis divisive politics working\n",
            "today 106th birth anniversary man myth legend indian military field marshall sam maneskshaw\n",
            "delhi show us new election template effectively counter hate politics\n",
            "neta born\n",
            "video shows police using force jamia library triggers political storm\n",
            "karnataka bjp mla throws mega birthday bash amid covid19 lockdown\n",
            "mixing religion politics mistake maha cm uddhav thackeray\n",
            "political event us dropping kejriwal melania trump school event\n",
            "megathread delhi maujpurbabarpur violence\n",
            "india slips two places global corruption index unfair political financing reason\n",
            "coronavirus delhi religious social political gatherings protests 50 delhi till mar 31 india news times india\n",
            "future dalit politics swings decline regeneration p\n",
            "politics would india looked like subash chandra bose took first prime minister\n",
            "101 years jallianwala bagh massacre background aftermath shaheed uddham singh mega thread\n",
            "politics new delhi revisit decision domicile change jk\n",
            "pm people doubting ability forces surgical strikes citizens delhi want people power people saving want break india pieces political design behind protests including jamia shaheen bagh\n",
            "announcing r indiameme sub memes related india welcoming memers submit memes oc memes\n",
            "political map india late 1700s\n",
            "black sheep saffron politics colourful history scindia\n",
            "opposition politics prakash javadekar delhi death toll climbs\n",
            "p deal parents support extreme government authoritarianism\n",
            "sharad pawar ncp congress shiv sena defeat bjp greatest game political chess played india\n",
            "uddhav thackeray critic dynastic politics 22 dynasts cabinet\n",
            "aam aadmi party written letter chief election commissioner letter states weve come know sources certain antisocial elements connivance certain political parties planning create violence february 2 subvert law orderto impeded election\n",
            "farooq abdullahs silence lies acceptance new realities kashmirs politics\n",
            "pm narendra modi losing political mojo\n",
            "want live india need learn marathi shiv sena workers threaten bravery awardee zen sadavarte earlier jan zen given national bravery award president kovind showed exemplary courage massive fire broke crystal towers parel aug 18\n",
            "suggestions neutral books middle east geo politics\n",
            "delhi riots aftermath tyranny majoritarian politics full display\n",
            "next well rangoli contest modis candlelighting plan invites jokes anger\n",
            "kerala calling labourers guest migrant amid coronavirus crisis lesson us\n",
            "anticaa protests gave us poetry resist hard plumbing alternative politics yet worked pratap bhanu mehta\n",
            "hear tabliki jamat incident screwed ordinary indian muslims life coming years\n",
            "currently opinion political situation india possible yall describe party wrong without bias political perspective\n",
            "erosion civil liberties india falls ten places rank 51 democracy index 2019 indias overall democracy score also falls since 2018 democracy index economist intelligence unit compares political systems 165 countries 2 territories\n",
            "never desire enter politics pm modi\n",
            "serve country political forces former navy chief l ramdas slams army chief gen bipin rawat\n",
            "advice aussie promoting business india business finance\n",
            "business finance sbi reduces term deposit rates 50 bps\n",
            "business finance sebi sebi finalises norms listing green bonds\n",
            "cant get shaktikanta das appointed rbi governor\n",
            "india people keep calling underdeveloped country rather context history cultural heritage highly developed one advanced state decay\n",
            "wondering welleducated indians working arts entertainment field\n",
            "bad news startups small business comrad finance minister wants start business physical address\n",
            "askindia urgent help required mba business analytics vs quantitative finance vs normal\n",
            "delhi given single paisa 17 000 crore allocated states heres\n",
            "lock indian real estate\n",
            "heres side story small businessman\n",
            "actuarial student looking career advice\n",
            "free certification one could add resume cv finance business would great since im field\n",
            "oil slump india rather play dumb raising prices\n",
            "looking freelance content writers\n",
            "education indian school business finance delhi\n",
            "details faqs related loan emi moratorium major banks\n",
            "msme owners r india coping\n",
            "lives livelihoods india\n",
            "daily current affairs\n",
            "fuck modi\n",
            "diwali 2019 mark word thread link previous predictions\n",
            "wtf india turning nazi germany confiscating enemy properties\n",
            "lok sabha clears finance bill 2017 mini reforms package finance bill 2017 reforms package directed improving ease business india boosting anticorruption initiatives nda\n",
            "help stop dad squandering away savings\n",
            "antinational antihindunational certainly\n",
            "banks flood affected areas tamil nadu remain open sunday also offer extended business hoursministry finance\n",
            "guys need help debt advice\n",
            "pmc bank board members hdil promoters charged moneylaundering\n",
            "women run 14 indian businesses selffinanced\n",
            "mercantile capitalism illusion free market p\n",
            "best sources indian business finance news\n",
            "union budget 2019\n",
            "diageos bengaluru centre provide finance accounting services beverage company globally later offer business intelligence analytics data services\n",
            "recently imf questioned indias gdp methodology fudging bjp rss managed cook 45 gdp rate could possible slowdown recession\n",
            "education science ft bjp eve pariksha pe charcha narendra modi\n",
            "impact gst invoicing thus revenue profit organizations operating india exploring one factors impacting economy right\n",
            "rant even\n",
            "mumbai may get new financial district along thanebelapur road new international business finance centre seen next bandrakurla complex mumbai\n",
            "people r india startup industry app service product developed india making money\n",
            "indian podcasts recommendations\n",
            "india embrace blockchain\n",
            "lakshmi vilas bank distress\n",
            "pakodanomics olauber theory box office theory\n",
            "finance ministry bugged leaders country busy selling oh btw cant protest oppose unless ofcourse prob called rss agent\n",
            "help convert call fpm iiml\n",
            "first cause bold new venture hopes shake things movie financing business focusing exclusively social themes work box office\n",
            "help parents getting divorced\n",
            "original highlights budget speech\n",
            "need urgent advice regarding career please help\n",
            "mourning demise jet airways\n",
            "query data science courses institutions details regarding masters\n",
            "eli5 crisis dewan housing finance\n",
            "finance ministry expected collapse jaitley action fin sec adhia going leave baba\n",
            "last rbi governors yv reddy phd economics subbarao phd economics raghuram rajan phd economics urjit patel phd economics shaktikanta das history\n",
            "til practice deploying dummy candidates similar sounding names rival political parties order cut votes opponents candidates\n",
            "union budget 2018 consolidate information discussion\n",
            "business boxing two sides coin\n",
            "indias elections reading list\n",
            "need help stepping consulting 3rd year engineering student r\n",
            "initial thoughts reactions union budget 2019\n",
            "questions narendra modi must answer please look add questions np\n",
            "would better decision serious\n",
            "serious help invented something\n",
            "please help career advice\n",
            "broke 30 next\n",
            "aadharnama\n",
            "modi making corruption systemic\n",
            "possible switch careers 24 please help\n",
            "apple seeks relaxed labelling rules doesnt want print product info devices\n",
            "would like sell doctors medical practice software mumbai self practicing doctorshow get sales could give suggestion\n",
            "due family problems forego college education may option finally something please advice proceed long\n",
            "nonpartisan list covering 100 landmark events 5 years modi government\n",
            "made little bit money huh nice\n",
            "anyone use justdial\n",
            "kerala model\n",
            "gyan aspiring mba students one bother talk\n",
            "worth moving canada basis job opportunity age 50 indian male\n",
            "job prospects ms business analytics\n",
            "law graduates r india close friend cancer survivor plans llb year 36 years old merit decision\n",
            "suddenly one nation one policy sentiment overtaking models interview yv reddy ias former rbi governor 14th finance commission chairman\n",
            "rhoya best friend ketan budding bombay based filmmaker crowdfunding project 60 total funding raised link crowdfund page comment link business standard article movie like say help way 100\n",
            "ndtv wants ban mobile phones agm\n",
            "tl dr godman tycoon untold story baba ramdev\n",
            "gst firms looking way change gst officials\n",
            "find r india circlejerking much shashi tharoor whenever reproaches evils british raj alternative perspective gurcharan das non political\n",
            "narendra modi sank arun jaitleys plans strip rbis powers backed raghuram rajan\n",
            "aircelmaxis scam raids ited reveal karti chidambaram amassed huge wealth built massive empire overseas\n",
            "even tax officers left foxed gst form\n",
            "recent oxfam india inequality report congress minimum income guarantee announcement arent discussing aocs 70 marginal tax india already\n",
            "folks idea pgdba program conducted jointly iim c iit k isi calcutta yes worth\n",
            "use rojgarmukta vikas p chidambaram\n",
            "randians dont plan marry kids whats old age plan\n",
            "rant sbi worker blames faulty transactions even though plenty customers getting scammed\n",
            "really need talk flairs\n",
            "deutsche bank bets india zeroes badloan cleanup generate outsized returns\n",
            "standup india key developing entrepreneurs underprivileged sections society mentoring\n",
            "india states states much populated govern efficiently\n",
            "fitch keeps india rating unchanged bbb cites weak public finances\n",
            "random daily discussion evening thread 08 06 2015 np\n",
            "unpopular news last days r india edition\n",
            "unpopular news week r india edition\n",
            "good sources follow policy economic news\n",
            "questions indian billionaires private indian companies government policies economy respect coronavirus\n",
            "modis swagger reserved social policy economy really needs\n",
            "social unrest bad economy listen voices future india rathin roy director national institute public finance policy protests #citizenshipact #nrc\n",
            "bottlenecks indian economy compounded policies first modi government\n",
            "setting record straight nehru policies shaped modern india economy\n",
            "askindia policy economy books sources investment planning financial education\n",
            "indias foreign policy next 5 years pakistans economy may bad shape real danger jihadist nationalism\n",
            "would gone recession regardless virus part rant\n",
            "economy slowed due raghuram rajans policies demonetisation niti aayog vc\n",
            "modi govt economic policies clueless years india struggle hard recession\n",
            "coincidental\n",
            "policy creating jobs indian economy\n",
            "india worst economy 42 years prime minister modi watching\n",
            "salaryearners pay highest per cent income taxes get little return see tax rupee get used votes\n",
            "rant supreme court finally intervene stop madness modi arbitrary demonetisation policies killing economy astounding rate\n",
            "want mr manmohan singh pm\n",
            "honest conversation demonetization\n",
            "policy economy old bhanwari devi rape led indias sexual harassment law\n",
            "central government failed even approve covid19 diagnostic kits complete failure governance pandemic\n",
            "lock indian real estate\n",
            "oil slump india rather play dumb raising prices\n",
            "india become powerhouse economy policies managed well says imf\n",
            "thread regime marvellous planning abandoned poor marginalized country left starve\n",
            "opinion bjps policies alienated large section middle class hindus\n",
            "beyond contacttracing aarogya setu may find use policy inputs\n",
            "npa economy slowed due raghuram rajans policies demonetisation niti aayog vc\n",
            "believe pakistan attractive destination global investors india says moodys\n",
            "delhi government today raised minimum wage highest state country sc ruled favour almost 3 times much immediately benefit 55 lakh workers\n",
            "demonetisation gst bring longterm benefits indian economy imf narendra modis oneoff policy moves\n",
            "moodys lowers indias gdp growth forecast 53 per cent 2020 coronavirus implications economy\n",
            "8th january bharat bandh india general strike event list mega thread\n",
            "narendra modi damaging indias economy well democracy\n",
            "russia revolution 1905 analogous india today\n",
            "india midst growth recession former rbi governor raghuram rajan\n",
            "lives livelihoods india\n",
            "suggest reputed centers excellence especially universities publishing research working papers indian economy contemporary politics public policy india abroad\n",
            "indian economy policy paralysis investment paralysis\n",
            "daily current affairs\n",
            "fuck modi\n",
            "people dying audacious cash policy india says modernize economy\n",
            "expm manmohan singh state economy today deeply worrying last quarters gdp growth rate 5 signals midst prolonged slowdown india potential grow much faster rate round mismanagement modi govt resulted slowdown\n",
            "indian mentality way\n",
            "modi governments policy paralysis wont fix economy\n",
            "lohono stays fighting covid19\n",
            "indias forsaken bpo professionals post covid19 breakout lockdown\n",
            "indian economy policy paralysis investment paralysis\n",
            "india protesting caa nrc detailed exhaustive explainer legally ratified\n",
            "thats folks model worked wonders indian economy 1991 2011 isnt working anymore\n",
            "sos 3 ways dot help #flattenthecurve #covid19\n",
            "see pulwama attacks abridged\n",
            "making twitter accountable india\n",
            "possible outcomes caa npr implemented\n",
            "quick explainer actually read understand budget economic survey\n",
            "essential features rights respecting data protection law\n",
            "antinational antihindunational certainly\n",
            "problem bjp supporters\n",
            "yes\n",
            "modi speaks indian economy policies job growth\n",
            "hello top minds r india indian economy nokiaed\n",
            "hear might rant maybe government doesnt care people maybe deserve government vote last elections maybe would lesson future voters vote\n",
            "moderate rightists vs extremist savarkarites\n",
            "transcribed full text dr manmohan singhs remarks economic mismanagement current government india\n",
            "blind boomer analogy india real boomers\n",
            "decoding narendra modis foreign policy focus economy lobbying unsc seat drop nam\n",
            "govt takes 175 lakh crore rbi proceeds give 145 lakh crore large corporates\n",
            "workplace surveillance employer could watching\n",
            "deafening silence kashmir writes bernie sanders houston chronicle article\n",
            "india distracted truth cab nrc\n",
            "future\n",
            "investors using governments fdi policy repump black money economy possibly yes\n",
            "teach india charity work\n",
            "purpose war 1984 george orwell\n",
            "nri personal view serious emigration thread\n",
            "read indian economic survey 20189 didnt highlights\n",
            "guys disappointed way exploit poor people india\n",
            "indias central bank governor raghuram rajan talks banks rate decision indias economy global central bank policies\n",
            "true purpose reservations india economic upliftment social inclusion\n",
            "rbis deputy governor viral acharya quits six months term ends\n",
            "rant indias brutal tax rich\n",
            "fadnavis wants businessfriendly policies boost economy\n",
            "real talk indias economic future screwed one anything\n",
            "indian economy\n",
            "business owners reddit indicators noticing economic slowdown\n",
            "writer aatish taseers wikipedia page vandalised time cover story criticising modi\n",
            "nussing say\n",
            "pm modi asks focused effort achieve 5 trillion economy\n",
            "teach india programme\n",
            "views current right wing inclined folks today\n",
            "found post facebook thought worth sharing\n",
            "interview walk talk arvind panagariya professor economics columbia university exchief economist asian development bank talks indias intellectual establishment economic policies including amartya sen slowdown indian economy\n",
            "vodafone dialled wrong number india\n",
            "today india 2020 super power yet anywhere close super power whole system cheap makes people cheap india sucks meaning indians suck\n",
            "coders need help lets help government future govts bit\n",
            "askindia much distrust businesses markets\n",
            "economic shit storm incoming brace impact failure corporate tax rate may imply\n",
            "feeling like autumn 2008 stage set major storm financial markets economies around world india immune\n",
            "unpopular news week r india edition\n",
            "schools 1980ish sports day score board\n",
            "delhi deputy chief minister manish sisodia decided ban sports activity people gather huge numbers like ipl social distancing important curb breakout #coronavirus\n",
            "sport every indian born 1990 would played mysteriously disappeared 20 years coming back life 2014\n",
            "govt cuts national sports federations sai budget incentives players\n",
            "snowboarding sport emerging trend india\n",
            "coronavirus impact ad budget drop likely sting sports industry\n",
            "online sports betting india\n",
            "hotstar finally gets logout devices\n",
            "pooja rani earns tokyo quota asian olympic qualifiers sports\n",
            "indians think women sport\n",
            "modi govt plans jk skillbased programmes adventure sports filmmaking\n",
            "need help related research project sports consumption india\n",
            "im human anything else athlete dutee chand opens love life sport indian sprinter dutee chand says hopes win many medals country set academy athletes odisha future\n",
            "jwala gutta urges sports fraternity condemn violence caa\n",
            "q3 gdp growth 47 finance minister nirmala sitharaman says steadiness economy good sign\n",
            "kambala champions dont need olympic validation theyre champions already critiquing indias inactivity promoting sports\n",
            "pleasantly surprised amount sports hotstar making available\n",
            "sachin tendulkar wins laureus sporting moment award 2011 world cup win\n",
            "told play sports one would marry complexion turned dark sania mirza one indias successful tennis players reflects challenges faced child\n",
            "sports authority india hockey india launch seven high performance centres juniors\n",
            "indias first formula one track buddh international circuit sealed pending land dues\n",
            "randians play sport\n",
            "india f 30 ive around 7 years experience still able get job journalism\n",
            "recently came across video sport called kabaddi popular india\n",
            "islam weak shabana azmi defends shah rukh khan sporting tilak\n",
            "thoughts kiren rijijus work far indias sports minister\n",
            "sprinter dutee chand says shes samesex relationship soulmate dutee chand 100 record holder winner two silver medals 2018 asian games first indian sports star acknowledge samesex relationship\n",
            "elon musk says import duty playing spoil sport launching tesla india\n",
            "one teachers school beats students inhumanely help\n",
            "india vs australia virat kohlis fan sports unique hairstyle wankhede\n",
            "comments invited himachal pradesh draft state sports policy 2020\n",
            "tablighi jamaat covid\n",
            "google map links 52 covid19 aka coronav testing centers designated health ministry\n",
            "satwik chirag huge potential win olympic medals coming decade please watch live hour play important match till date star sports hotstar\n",
            "decade indian sport expressed memes\n",
            "perfect\n",
            "outrun usain bolt get buffalos life style\n",
            "whats best way get sports channels tata sky make sense renew\n",
            "2019 indian books discussion post\n",
            "indian cheerleaders\n",
            "best physiotherapist preferably sports delhi\n",
            "feel\n",
            "delhi cabinet approves setting sports university arvind kejriwal\n",
            "60 thousand fans turned today support indian football team bangladesh\n",
            "isnt scholastic wrestling part extra curriculum indian schools despite wrestling popular sport indian culture\n",
            "french sports gear retailer making adidas nike puma sweat india\n",
            "centre focused eliminating nepotism politics sports says pm modi\n",
            "tell us happened kid lived street colony age leagues ahead chess carrom cricket ludo practically every sport np\n",
            "saarc conference call covid 19 shouldnt norm\n",
            "hotstar video quality total crap\n",
            "daily current affairs\n",
            "arthi arun asian powerlifting championship gold medallist havent received kind support sports authority submitted letter receive reply asking appreciation letter much ask 12062019\n",
            "askindia sports shoes buy life\n"
          ],
          "name": "stdout"
        }
      ]
    },
    {
      "cell_type": "code",
      "metadata": {
        "id": "fe0Hy59W_2aD",
        "colab_type": "code",
        "colab": {}
      },
      "source": [
        "count1=0\n",
        "for i in df['title']:\n",
        "  for j in i.split():\n",
        "\n",
        "    if (j==\"abhi\",\"abhishek\"):\n",
        "\n",
        "      count1+=1\n",
        "    else:\n",
        "      break;\n"
      ],
      "execution_count": 0,
      "outputs": []
    },
    {
      "cell_type": "code",
      "metadata": {
        "id": "B_H4lnSCDpHF",
        "colab_type": "code",
        "outputId": "fb677ec8-0648-4e05-fff3-22f5ebef0b86",
        "colab": {
          "base_uri": "https://localhost:8080/",
          "height": 34
        }
      },
      "source": [
        "count1"
      ],
      "execution_count": 10,
      "outputs": [
        {
          "output_type": "execute_result",
          "data": {
            "text/plain": [
              "7962"
            ]
          },
          "metadata": {
            "tags": []
          },
          "execution_count": 10
        }
      ]
    },
    {
      "cell_type": "code",
      "metadata": {
        "id": "hDCu_waxDqZL",
        "colab_type": "code",
        "colab": {}
      },
      "source": [
        ""
      ],
      "execution_count": 0,
      "outputs": []
    }
  ]
}
