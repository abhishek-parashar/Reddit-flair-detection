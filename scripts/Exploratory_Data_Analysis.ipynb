{
  "nbformat": 4,
  "nbformat_minor": 0,
  "metadata": {
    "colab": {
      "name": "Exploratory Data Analysis.ipynb",
      "provenance": [],
      "toc_visible": true,
      "authorship_tag": "ABX9TyNBvbPqkC2Y9T8TcBjaRoab",
      "include_colab_link": true
    },
    "kernelspec": {
      "name": "python3",
      "display_name": "Python 3"
    }
  },
  "cells": [
    {
      "cell_type": "markdown",
      "metadata": {
        "id": "view-in-github",
        "colab_type": "text"
      },
      "source": [
        "<a href=\"https://colab.research.google.com/github/abhishek-parashar/Reddit-flair-detection/blob/master/scripts/Exploratory_Data_Analysis.ipynb\" target=\"_parent\"><img src=\"https://colab.research.google.com/assets/colab-badge.svg\" alt=\"Open In Colab\"/></a>"
      ]
    },
    {
      "cell_type": "markdown",
      "metadata": {
        "id": "v9RAthxNYLl6",
        "colab_type": "text"
      },
      "source": [
        "## Importing the required libraries for analysis and visualisation \n"
      ]
    },
    {
      "cell_type": "code",
      "metadata": {
        "id": "ouSdjjygXyZT",
        "colab_type": "code",
        "colab": {}
      },
      "source": [
        "import numpy as np \n",
        "import pandas as pd \n",
        "import seaborn as sns\n",
        "import matplotlib.pyplot as plt\n",
        "import numpy as np \n",
        "import pandas as pd\n",
        "import datetime as dt\n",
        "from sklearn.feature_extraction.text import TfidfVectorizer\n",
        "from yellowbrick.text import TSNEVisualizer\n",
        "from yellowbrick.datasets import load_hobbies\n",
        "from yellowbrick.text import FreqDistVisualizer\n",
        "from sklearn.feature_extraction.text import CountVectorizer"
      ],
      "execution_count": 0,
      "outputs": []
    },
    {
      "cell_type": "markdown",
      "metadata": {
        "id": "008AsOzk7jdL",
        "colab_type": "text"
      },
      "source": [
        "## loading the data"
      ]
    },
    {
      "cell_type": "code",
      "metadata": {
        "id": "s9_hxxJUY2d4",
        "colab_type": "code",
        "colab": {}
      },
      "source": [
        "data=pd.read_csv('datafinal.csv')"
      ],
      "execution_count": 0,
      "outputs": []
    },
    {
      "cell_type": "markdown",
      "metadata": {
        "id": "s0k6p8Jx8Kgl",
        "colab_type": "text"
      },
      "source": [
        "looking for the data shape "
      ]
    },
    {
      "cell_type": "code",
      "metadata": {
        "id": "GcKstbfG8DyD",
        "colab_type": "code",
        "colab": {
          "base_uri": "https://localhost:8080/",
          "height": 34
        },
        "outputId": "b53909c0-f727-4064-b7ff-5e5fc2fbc9d6"
      },
      "source": [
        "data.shape"
      ],
      "execution_count": 8,
      "outputs": [
        {
          "output_type": "execute_result",
          "data": {
            "text/plain": [
              "(1218, 12)"
            ]
          },
          "metadata": {
            "tags": []
          },
          "execution_count": 8
        }
      ]
    },
    {
      "cell_type": "markdown",
      "metadata": {
        "id": "gFsHG73j8YlQ",
        "colab_type": "text"
      },
      "source": [
        "names of columns"
      ]
    },
    {
      "cell_type": "code",
      "metadata": {
        "id": "uePCROZC8Mha",
        "colab_type": "code",
        "colab": {
          "base_uri": "https://localhost:8080/",
          "height": 67
        },
        "outputId": "4e2af216-d939-4503-d97e-6f7dd1a92f2a"
      },
      "source": [
        "data.columns"
      ],
      "execution_count": 9,
      "outputs": [
        {
          "output_type": "execute_result",
          "data": {
            "text/plain": [
              "Index(['Unnamed: 0', 'flair', 'title', 'score', 'id', 'url', 'comms_num',\n",
              "       'body', 'author', 'comments', 'timestamp', 'combined_features'],\n",
              "      dtype='object')"
            ]
          },
          "metadata": {
            "tags": []
          },
          "execution_count": 9
        }
      ]
    },
    {
      "cell_type": "markdown",
      "metadata": {
        "id": "mugpVe1d8doq",
        "colab_type": "text"
      },
      "source": [
        "It's clearly obvious unnamed: 0 and id have no use in the data so dropping them \n"
      ]
    },
    {
      "cell_type": "code",
      "metadata": {
        "id": "uqU1-nKJ8bRz",
        "colab_type": "code",
        "colab": {}
      },
      "source": [
        "data.drop('id',axis=1,inplace=True)"
      ],
      "execution_count": 0,
      "outputs": []
    },
    {
      "cell_type": "code",
      "metadata": {
        "id": "2zdtv8M98z70",
        "colab_type": "code",
        "colab": {}
      },
      "source": [
        "data.drop('Unnamed: 0', axis=1, inplace= True )"
      ],
      "execution_count": 0,
      "outputs": []
    },
    {
      "cell_type": "code",
      "metadata": {
        "id": "EI28xKce82Sc",
        "colab_type": "code",
        "colab": {
          "base_uri": "https://localhost:8080/",
          "height": 34
        },
        "outputId": "e53716e1-8b83-422f-cff5-896232c7a54b"
      },
      "source": [
        "data.shape"
      ],
      "execution_count": 12,
      "outputs": [
        {
          "output_type": "execute_result",
          "data": {
            "text/plain": [
              "(1218, 10)"
            ]
          },
          "metadata": {
            "tags": []
          },
          "execution_count": 12
        }
      ]
    },
    {
      "cell_type": "markdown",
      "metadata": {
        "id": "E6W7xDb78_JP",
        "colab_type": "text"
      },
      "source": [
        "obtaining the first 5 rows of data"
      ]
    },
    {
      "cell_type": "code",
      "metadata": {
        "id": "jduypjtm84oh",
        "colab_type": "code",
        "colab": {
          "base_uri": "https://localhost:8080/",
          "height": 585
        },
        "outputId": "3c3726be-482c-4cf4-f3a1-aa2a04964049"
      },
      "source": [
        "data.head()"
      ],
      "execution_count": 13,
      "outputs": [
        {
          "output_type": "execute_result",
          "data": {
            "text/html": [
              "<div>\n",
              "<style scoped>\n",
              "    .dataframe tbody tr th:only-of-type {\n",
              "        vertical-align: middle;\n",
              "    }\n",
              "\n",
              "    .dataframe tbody tr th {\n",
              "        vertical-align: top;\n",
              "    }\n",
              "\n",
              "    .dataframe thead th {\n",
              "        text-align: right;\n",
              "    }\n",
              "</style>\n",
              "<table border=\"1\" class=\"dataframe\">\n",
              "  <thead>\n",
              "    <tr style=\"text-align: right;\">\n",
              "      <th></th>\n",
              "      <th>flair</th>\n",
              "      <th>title</th>\n",
              "      <th>score</th>\n",
              "      <th>url</th>\n",
              "      <th>comms_num</th>\n",
              "      <th>body</th>\n",
              "      <th>author</th>\n",
              "      <th>comments</th>\n",
              "      <th>timestamp</th>\n",
              "      <th>combined_features</th>\n",
              "    </tr>\n",
              "  </thead>\n",
              "  <tbody>\n",
              "    <tr>\n",
              "      <th>0</th>\n",
              "      <td>AskIndia</td>\n",
              "      <td>4 days ago pending orders 100 million hydroxyc...</td>\n",
              "      <td>93</td>\n",
              "      <td>https://www.reddit.com/r/india/comments/fwjdqr...</td>\n",
              "      <td>6</td>\n",
              "      <td>getting frantic calls pharma customers delayed...</td>\n",
              "      <td>india_ko_vanakkam</td>\n",
              "      <td>modi stockholm syndrome fair evidence chloroqu...</td>\n",
              "      <td>2020-04-07 20:07:04</td>\n",
              "      <td>4 days ago pending orders 100 million hydroxyc...</td>\n",
              "    </tr>\n",
              "    <tr>\n",
              "      <th>1</th>\n",
              "      <td>AskIndia</td>\n",
              "      <td>randians big time users dating apps like tinde...</td>\n",
              "      <td>18</td>\n",
              "      <td>https://www.reddit.com/r/india/comments/fizkkk...</td>\n",
              "      <td>19</td>\n",
              "      <td>id stint apps couple months one point didnt fe...</td>\n",
              "      <td>__knockknockturnal__</td>\n",
              "      <td>someone matched tell im fat cat 1 general foll...</td>\n",
              "      <td>2020-03-15 18:48:06</td>\n",
              "      <td>randians big time users dating apps like tinde...</td>\n",
              "    </tr>\n",
              "    <tr>\n",
              "      <th>2</th>\n",
              "      <td>AskIndia</td>\n",
              "      <td>r india thinks flat earthers</td>\n",
              "      <td>7</td>\n",
              "      <td>https://www.reddit.com/r/india/comments/f25vx0...</td>\n",
              "      <td>31</td>\n",
              "      <td>encountered foreigner ig says round earth hoax...</td>\n",
              "      <td>Dev1003</td>\n",
              "      <td>havent found indian yet believes earth flat de...</td>\n",
              "      <td>2020-02-11 17:10:55</td>\n",
              "      <td>r india thinks flat earthershavent found india...</td>\n",
              "    </tr>\n",
              "    <tr>\n",
              "      <th>3</th>\n",
              "      <td>AskIndia</td>\n",
              "      <td>people left 9 5 jobs pursue career music art f...</td>\n",
              "      <td>44</td>\n",
              "      <td>https://www.reddit.com/r/india/comments/dtvliq...</td>\n",
              "      <td>34</td>\n",
              "      <td>couldnt add askindia flair mobile browser</td>\n",
              "      <td>c0mrade34</td>\n",
              "      <td>engineer advertisement shoots since last 1year...</td>\n",
              "      <td>2019-11-09 20:57:35</td>\n",
              "      <td>people left 9 5 jobs pursue career music art f...</td>\n",
              "    </tr>\n",
              "    <tr>\n",
              "      <th>4</th>\n",
              "      <td>AskIndia</td>\n",
              "      <td>somebody want kill full family</td>\n",
              "      <td>97</td>\n",
              "      <td>https://www.reddit.com/r/india/comments/b7pvwt...</td>\n",
              "      <td>24</td>\n",
              "      <td>24hrs local police station register case dont ...</td>\n",
              "      <td>amitkumarthakur</td>\n",
              "      <td>calm downgo sp office town file grievance imme...</td>\n",
              "      <td>2019-04-01 01:00:35</td>\n",
              "      <td>somebody want kill full familycalm downgo sp o...</td>\n",
              "    </tr>\n",
              "  </tbody>\n",
              "</table>\n",
              "</div>"
            ],
            "text/plain": [
              "      flair  ...                                  combined_features\n",
              "0  AskIndia  ...  4 days ago pending orders 100 million hydroxyc...\n",
              "1  AskIndia  ...  randians big time users dating apps like tinde...\n",
              "2  AskIndia  ...  r india thinks flat earthershavent found india...\n",
              "3  AskIndia  ...  people left 9 5 jobs pursue career music art f...\n",
              "4  AskIndia  ...  somebody want kill full familycalm downgo sp o...\n",
              "\n",
              "[5 rows x 10 columns]"
            ]
          },
          "metadata": {
            "tags": []
          },
          "execution_count": 13
        }
      ]
    },
    {
      "cell_type": "markdown",
      "metadata": {
        "id": "Yx40Uh4w9HZ6",
        "colab_type": "text"
      },
      "source": [
        "getting data inforation "
      ]
    },
    {
      "cell_type": "code",
      "metadata": {
        "id": "cRHXgBGN9E_I",
        "colab_type": "code",
        "colab": {
          "base_uri": "https://localhost:8080/",
          "height": 302
        },
        "outputId": "ac8cff6f-b6ed-4530-b201-c6ca8fc39cf6"
      },
      "source": [
        "data.info()"
      ],
      "execution_count": 14,
      "outputs": [
        {
          "output_type": "stream",
          "text": [
            "<class 'pandas.core.frame.DataFrame'>\n",
            "RangeIndex: 1218 entries, 0 to 1217\n",
            "Data columns (total 10 columns):\n",
            " #   Column             Non-Null Count  Dtype \n",
            "---  ------             --------------  ----- \n",
            " 0   flair              1218 non-null   object\n",
            " 1   title              1218 non-null   object\n",
            " 2   score              1218 non-null   int64 \n",
            " 3   url                1218 non-null   object\n",
            " 4   comms_num          1218 non-null   int64 \n",
            " 5   body               693 non-null    object\n",
            " 6   author             1218 non-null   object\n",
            " 7   comments           1096 non-null   object\n",
            " 8   timestamp          1218 non-null   object\n",
            " 9   combined_features  1218 non-null   object\n",
            "dtypes: int64(2), object(8)\n",
            "memory usage: 95.3+ KB\n"
          ],
          "name": "stdout"
        }
      ]
    },
    {
      "cell_type": "markdown",
      "metadata": {
        "id": "GDG_Y-_29U6g",
        "colab_type": "text"
      },
      "source": [
        "### by this we find that body has a lot of null values. This shows that for most of the posts only the title suffice, there is no need of body. \n",
        "### plots can be made for the posts having body and no of words in such posts this would give more insights to the data. \n",
        "### second in the list which has missing values is comments. This is quite resonable as not all the posts get comments, next thing which can be checked is what is the score of the post with comments and what flair are the posts which get maximum comments. \n"
      ]
    },
    {
      "cell_type": "markdown",
      "metadata": {
        "id": "nnD-oyq59rmp",
        "colab_type": "text"
      },
      "source": [
        "#### graphs which we can plot to get more insights of the data \n",
        "#### 1. plots of different feature values and which feature value has missing values.\n",
        "#### 2. NO of posts and the flair they belong that have body.\n",
        "#### 3. No of words in the body corresponding to the flairs- this will help us determine is body a good parameter or not for model.\n",
        "#### 4. score of the posts with comments\n",
        "#### 5. flair which gets maximum comments - this will help us in model \n",
        "#### 6. what are thw words or persons mentioned maximum times in comments\n",
        "#### 7, what is the frequency of posts and comments.\n",
        "#### 8. what are the embeddings of different words in body, title, comments and combined features"
      ]
    },
    {
      "cell_type": "markdown",
      "metadata": {
        "id": "6PcslC1l-J9N",
        "colab_type": "text"
      },
      "source": [
        "one more insight which we can do is "
      ]
    },
    {
      "cell_type": "code",
      "metadata": {
        "id": "nJ_B_kAt9Mao",
        "colab_type": "code",
        "colab": {
          "base_uri": "https://localhost:8080/",
          "height": 252
        },
        "outputId": "d82b6c66-587e-467b-aa2e-28fddbf8ce4c"
      },
      "source": [
        "data['flair'].value_counts()"
      ],
      "execution_count": 16,
      "outputs": [
        {
          "output_type": "execute_result",
          "data": {
            "text/plain": [
              "Food                  100\n",
              "AskIndia              100\n",
              "Science/Technology    100\n",
              "Politics              100\n",
              "AMA                   100\n",
              "Non-Political         100\n",
              "Coronavirus           100\n",
              "Photography           100\n",
              "Business/Finance      100\n",
              "Scheduled             100\n",
              "Policy/Economy        100\n",
              "Sports                100\n",
              "[R]eddiquette          18\n",
              "Name: flair, dtype: int64"
            ]
          },
          "metadata": {
            "tags": []
          },
          "execution_count": 16
        }
      ]
    },
    {
      "cell_type": "markdown",
      "metadata": {
        "id": "-Pud6OCf-Ttp",
        "colab_type": "text"
      },
      "source": [
        "This tells us two thing:-\n",
        "###### First the data is mostly balanced \n",
        "###### second [R]eddiquette has minimum no of posts this is may be because not most of the people post in ediquette section or things concerning this"
      ]
    },
    {
      "cell_type": "code",
      "metadata": {
        "id": "ATWZrt0X_w4o",
        "colab_type": "code",
        "colab": {}
      },
      "source": [
        "# converting to data frame\n",
        "df=pd.DataFrame(data)"
      ],
      "execution_count": 0,
      "outputs": []
    },
    {
      "cell_type": "code",
      "metadata": {
        "id": "yn8pTzMZ-NMP",
        "colab_type": "code",
        "colab": {}
      },
      "source": [
        "y=data.columns"
      ],
      "execution_count": 0,
      "outputs": []
    },
    {
      "cell_type": "code",
      "metadata": {
        "id": "imdubaaV-7T6",
        "colab_type": "code",
        "colab": {}
      },
      "source": [
        "x=data.count()"
      ],
      "execution_count": 0,
      "outputs": []
    },
    {
      "cell_type": "code",
      "metadata": {
        "id": "J9W0fstR-9v4",
        "colab_type": "code",
        "colab": {
          "base_uri": "https://localhost:8080/",
          "height": 411
        },
        "outputId": "52b03514-8e7a-4f62-8518-f2e3e178131e"
      },
      "source": [
        "fig = plt.figure()\n",
        "ax = fig.add_axes([0,0,1,1])\n",
        "features = y \n",
        "values = x\n",
        "ax.bar(y,x)\n",
        "plt.xticks(rotation=90)\n",
        "plt.savefig('value.png', dpi=300, bbox_inches='tight')\n",
        "plt.show()"
      ],
      "execution_count": 20,
      "outputs": [
        {
          "output_type": "display_data",
          "data": {
            "image/png": "[encoded data removed]",
            "text/plain": [
              "<Figure size 432x288 with 1 Axes>"
            ]
          },
          "metadata": {
            "tags": [],
            "needs_background": "light"
          }
        }
      ]
    },
    {
      "cell_type": "markdown",
      "metadata": {
        "id": "vLdQHkNm_idY",
        "colab_type": "text"
      },
      "source": [
        "## getting no of words in title"
      ]
    },
    {
      "cell_type": "code",
      "metadata": {
        "id": "ALnhruB-_C9j",
        "colab_type": "code",
        "colab": {
          "base_uri": "https://localhost:8080/",
          "height": 296
        },
        "outputId": "1edcb8dd-d775-4a28-befe-0055f225a74f"
      },
      "source": [
        "temp = df['title'].str.len()\n",
        "temp.hist(bins = np.arange(0,200,1))\n",
        "plt.title(\"no of words in TITLE\")\n",
        "plt.xlabel(\"length of Title (in words)\", fontsize=12)\n",
        "plt.ylabel(\"Number of posts\", fontsize=12)\n",
        "plt.savefig('title.png', dpi=300, bbox_inches='tight')\n",
        "plt.show()"
      ],
      "execution_count": 24,
      "outputs": [
        {
          "output_type": "display_data",
          "data": {
            "image/png": "[encoded data removed]",
            "text/plain": [
              "<Figure size 432x288 with 1 Axes>"
            ]
          },
          "metadata": {
            "tags": [],
            "needs_background": "light"
          }
        }
      ]
    },
    {
      "cell_type": "markdown",
      "metadata": {
        "id": "EGAoFZ8pADlN",
        "colab_type": "text"
      },
      "source": [
        "## getting no of words in body"
      ]
    },
    {
      "cell_type": "code",
      "metadata": {
        "id": "k63ywVuq_riG",
        "colab_type": "code",
        "colab": {
          "base_uri": "https://localhost:8080/",
          "height": 294
        },
        "outputId": "8b301def-da0e-4ec6-f175-0f5e1fa80418"
      },
      "source": [
        "\n",
        "temp = df['body'].str.len()\n",
        "temp.hist(bins = np.arange(0,1000,10))\n",
        "plt.title(\"no of words in BODY\")\n",
        "plt.xlabel(\"length of BODY (in words)\")\n",
        "plt.ylabel(\"Number of posts\")\n",
        "plt.savefig('lenth of words in body.png', dpi=300, bbox_inches='tight')\n",
        "plt.show()"
      ],
      "execution_count": 25,
      "outputs": [
        {
          "output_type": "display_data",
          "data": {
            "image/png": "[encoded data removed]",
            "text/plain": [
              "<Figure size 432x288 with 1 Axes>"
            ]
          },
          "metadata": {
            "tags": [],
            "needs_background": "light"
          }
        }
      ]
    },
    {
      "cell_type": "code",
      "metadata": {
        "id": "4X3SWEo0AIp-",
        "colab_type": "code",
        "colab": {}
      },
      "source": [
        ""
      ],
      "execution_count": 0,
      "outputs": []
    }
  ]
}